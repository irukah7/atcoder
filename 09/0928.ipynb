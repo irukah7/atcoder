{
 "cells": [
  {
   "cell_type": "code",
   "execution_count": 8,
   "metadata": {},
   "outputs": [
    {
     "name": "stdin",
     "output_type": "stream",
     "text": [
      " 3\n",
      " 1 3 2\n"
     ]
    },
    {
     "name": "stdout",
     "output_type": "stream",
     "text": [
      "YES\n"
     ]
    }
   ],
   "source": [
    "N = int(input())\n",
    "p = list(map(int,input().split()))\n",
    "\n",
    "if p == sorted(p):\n",
    "    print('YES')\n",
    "else:\n",
    "    ret = 'NO'\n",
    "    is_sorted = False\n",
    "    # 全通りの組み合わせをみて、昇順かどうか調べる\n",
    "    for i in range(N-1):\n",
    "        for j in range(i+1, N):\n",
    "            # p[i]とp[j]より小さければ抜ける\n",
    "            if p[i] < p[j]:\n",
    "                continue\n",
    "            else:\n",
    "                k = p.copy()\n",
    "                k[i], k[j] = k[j], k[i]\n",
    "\n",
    "#             for l in range(N-1):\n",
    "#                 if k[l+1] < k[l]:\n",
    "#                     is_sorted = False\n",
    "#                     break\n",
    "\n",
    "            if k == sorted(p):\n",
    "                ret = 'YES'\n",
    "                is_sorted = True\n",
    "                break\n",
    "        if is_sorted:\n",
    "            break\n",
    "\n",
    "    print(ret)"
   ]
  },
  {
   "cell_type": "code",
   "execution_count": 2,
   "metadata": {},
   "outputs": [
    {
     "name": "stdin",
     "output_type": "stream",
     "text": [
      " 3\n",
      " 1 3 2\n"
     ]
    },
    {
     "name": "stdout",
     "output_type": "stream",
     "text": [
      "YES\n"
     ]
    }
   ],
   "source": [
    "N = int(input())\n",
    "p = list(map(int,input().split()))\n",
    "\n",
    "if p == sorted(p):\n",
    "    print('YES')\n",
    "else:\n",
    "    ret = 'NO'\n",
    "    # 全通りの組み合わせをみて、昇順かどうか調べる\n",
    "    for i in range(N-1):\n",
    "        for j in range(i+1, N):\n",
    "\n",
    "            # p[i]とp[j]より小さければ抜ける\n",
    "            if p[i] < p[j]:\n",
    "                is_sorted = False # ←ここが抜けていたのでis_sortedが定義されていないREで怒られていた\n",
    "                continue\n",
    "            else:\n",
    "                k = p.copy()\n",
    "                k[i], k[j] = k[j], k[i]\n",
    "\n",
    "            is_sorted = True\n",
    "            for l in range(N-1):\n",
    "                if k[l+1] < k[l]:\n",
    "                    is_sorted = False\n",
    "                    break\n",
    "\n",
    "            if is_sorted:\n",
    "                ret = 'YES'\n",
    "                break\n",
    "        if is_sorted:\n",
    "            break\n",
    "\n",
    "    print(ret)"
   ]
  },
  {
   "cell_type": "code",
   "execution_count": 3,
   "metadata": {},
   "outputs": [
    {
     "name": "stdin",
     "output_type": "stream",
     "text": [
      " 3\n",
      " 1 3 2\n"
     ]
    },
    {
     "name": "stdout",
     "output_type": "stream",
     "text": [
      "YES\n"
     ]
    }
   ],
   "source": [
    "# Nと数列pを受け取る\n",
    "N = int(input())\n",
    "p = list(map(int, input().split()))\n",
    "\n",
    "# pがすでに昇順だったら、YESにする\n",
    "result = 'NO'\n",
    "\n",
    "# pから2つの要素を入れ替えて昇順になったら、YESにする\n",
    "count = 0\n",
    "for i in range(N):\n",
    "    if p[i] != i+1:\n",
    "        count += 1\n",
    "if count <= 2:\n",
    "    result = 'YES'\n",
    "\n",
    "# 出力する\n",
    "print(result)\n"
   ]
  },
  {
   "cell_type": "code",
   "execution_count": null,
   "metadata": {},
   "outputs": [],
   "source": []
  }
 ],
 "metadata": {
  "kernelspec": {
   "display_name": "Python 3",
   "language": "python",
   "name": "python3"
  },
  "language_info": {
   "codemirror_mode": {
    "name": "ipython",
    "version": 3
   },
   "file_extension": ".py",
   "mimetype": "text/x-python",
   "name": "python",
   "nbconvert_exporter": "python",
   "pygments_lexer": "ipython3",
   "version": "3.7.5"
  }
 },
 "nbformat": 4,
 "nbformat_minor": 4
}
