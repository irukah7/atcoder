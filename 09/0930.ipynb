{
 "cells": [
  {
   "cell_type": "code",
   "execution_count": 6,
   "metadata": {},
   "outputs": [
    {
     "name": "stdin",
     "output_type": "stream",
     "text": [
      " 5 2\n"
     ]
    },
    {
     "name": "stdout",
     "output_type": "stream",
     "text": [
      "18\n"
     ]
    }
   ],
   "source": [
    "# N,Lを取得する\n",
    "N, L = map(int, input().split())\n",
    "# 味のリストを作成する\n",
    "tastes = []\n",
    "for i in range(1,N+1):\n",
    "    tastes.append(L+i-1)\n",
    "    \n",
    "# 味の絶対値が最も小さいリストのindexを取得する\n",
    "abs_tastes = list(map(abs, tastes))\n",
    "min_tastes_index = abs_tastes.index(min(abs_tastes))\n",
    "tastes.pop(min_tastes_index)\n",
    "\n",
    "# 上記リンゴを除いた残りのリンゴの味の総和を求める\n",
    "print(sum(tastes))"
   ]
  }
 ],
 "metadata": {
  "kernelspec": {
   "display_name": "Python 3",
   "language": "python",
   "name": "python3"
  },
  "language_info": {
   "codemirror_mode": {
    "name": "ipython",
    "version": 3
   },
   "file_extension": ".py",
   "mimetype": "text/x-python",
   "name": "python",
   "nbconvert_exporter": "python",
   "pygments_lexer": "ipython3",
   "version": "3.7.5"
  }
 },
 "nbformat": 4,
 "nbformat_minor": 4
}
