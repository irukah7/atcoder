{
 "cells": [
  {
   "cell_type": "code",
   "execution_count": 3,
   "metadata": {},
   "outputs": [
    {
     "name": "stdin",
     "output_type": "stream",
     "text": [
      " 3\n"
     ]
    }
   ],
   "source": [
    "# 入力\n",
    "N = int(input())\n",
    "\n",
    "li = []\n",
    "\n",
    "# 全探索\n",
    "for i in range(1, N+1):\n",
    "    for j in range(1, N+1):\n",
    "        for k in range(1, N+1):\n",
    "            if i * j + k == N:\n",
    "                li.append([i, j, k])\n",
    "\n",
    "print(len(li))"
   ]
  },
  {
   "cell_type": "code",
   "execution_count": 6,
   "metadata": {},
   "outputs": [
    {
     "name": "stdin",
     "output_type": "stream",
     "text": [
      " 3\n"
     ]
    },
    {
     "name": "stdout",
     "output_type": "stream",
     "text": [
      "3\n"
     ]
    }
   ],
   "source": [
    "# 入力\n",
    "N = int(input())\n",
    "\n",
    "counter = 0\n",
    "ret = 0\n",
    "\n",
    "# 全探索\n",
    "for A in range(1, N+1):\n",
    "    for B in range(A, N+1):\n",
    "        if A * B < N:\n",
    "            if A == B:\n",
    "                counter += 1\n",
    "            ret += 1\n",
    "        else:\n",
    "            break\n",
    "            \n",
    "print(ret*2 -counter)"
   ]
  },
  {
   "cell_type": "code",
   "execution_count": null,
   "metadata": {},
   "outputs": [],
   "source": []
  }
 ],
 "metadata": {
  "kernelspec": {
   "display_name": "Python 3",
   "language": "python",
   "name": "python3"
  },
  "language_info": {
   "codemirror_mode": {
    "name": "ipython",
    "version": 3
   },
   "file_extension": ".py",
   "mimetype": "text/x-python",
   "name": "python",
   "nbconvert_exporter": "python",
   "pygments_lexer": "ipython3",
   "version": "3.7.5"
  }
 },
 "nbformat": 4,
 "nbformat_minor": 4
}
