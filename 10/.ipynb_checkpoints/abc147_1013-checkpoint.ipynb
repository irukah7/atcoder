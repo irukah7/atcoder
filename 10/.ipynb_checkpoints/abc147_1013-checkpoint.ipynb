{
 "cells": [
  {
   "cell_type": "code",
   "execution_count": 3,
   "metadata": {},
   "outputs": [
    {
     "name": "stdin",
     "output_type": "stream",
     "text": [
      " abcdabc\n"
     ]
    },
    {
     "name": "stdout",
     "output_type": "stream",
     "text": [
      "2\n"
     ]
    }
   ],
   "source": [
    "import numpy as np\n",
    "# 入力\n",
    "S = input()\n",
    "\n",
    "counter = 0\n",
    "\n",
    "# 文字列の前半と後半を比較する\n",
    "for i in range(int(np.ceil(len(S)/2))):\n",
    "    # 文字列の最初と最後を比較する\n",
    "    if S[i] != S[-i-1]:\n",
    "        counter += 1\n",
    "\n",
    "# 出力\n",
    "print(counter)"
   ]
  },
  {
   "cell_type": "code",
   "execution_count": 6,
   "metadata": {},
   "outputs": [
    {
     "name": "stdin",
     "output_type": "stream",
     "text": [
      " abcdabc\n"
     ]
    },
    {
     "name": "stdout",
     "output_type": "stream",
     "text": [
      "2\n"
     ]
    }
   ],
   "source": [
    "# 入力\n",
    "S = input()\n",
    "\n",
    "# リバースをとって１文字ずつ比較する\n",
    "ret = [s1 != s2 for s1, s2 in zip(S, S[::-1])]\n",
    "\n",
    "# 出力\n",
    "print(sum(ret)//2)"
   ]
  },
  {
   "cell_type": "code",
   "execution_count": 7,
   "metadata": {},
   "outputs": [
    {
     "name": "stdout",
     "output_type": "stream",
     "text": [
      "a c\n",
      "b b\n",
      "c a\n",
      "d d\n",
      "a c\n",
      "b b\n",
      "c a\n"
     ]
    }
   ],
   "source": [
    "for s1, s2 in zip(S, S[::-1]):\n",
    "    print(s1, s2)"
   ]
  },
  {
   "cell_type": "code",
   "execution_count": null,
   "metadata": {},
   "outputs": [],
   "source": []
  }
 ],
 "metadata": {
  "kernelspec": {
   "display_name": "Python 3",
   "language": "python",
   "name": "python3"
  },
  "language_info": {
   "codemirror_mode": {
    "name": "ipython",
    "version": 3
   },
   "file_extension": ".py",
   "mimetype": "text/x-python",
   "name": "python",
   "nbconvert_exporter": "python",
   "pygments_lexer": "ipython3",
   "version": "3.7.5"
  }
 },
 "nbformat": 4,
 "nbformat_minor": 4
}
