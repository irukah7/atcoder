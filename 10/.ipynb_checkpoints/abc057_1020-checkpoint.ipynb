{
 "cells": [
  {
   "cell_type": "code",
   "execution_count": 9,
   "metadata": {},
   "outputs": [
    {
     "name": "stdin",
     "output_type": "stream",
     "text": [
      " 2 2\n",
      " 2 0\n",
      " 0 0\n",
      " -1 0\n",
      " 1 0\n"
     ]
    },
    {
     "name": "stdout",
     "output_type": "stream",
     "text": [
      "2\n",
      "1\n"
     ]
    }
   ],
   "source": [
    "from numpy import array,apply_along_axis,abs as np_abs,argmin\n",
    "\n",
    "# 入力\n",
    "N, M = map(int, input().split())\n",
    "\n",
    "S = array([list(map(int,input().split())) for i in range(N)])\n",
    "C = array([list(map(int,input().split())) for i in range(M)])\n",
    "\n",
    "# 各学生の最も近いチェックポイントを求める\n",
    "for s in S:\n",
    "    # 学生と各チェックポイントのマンハッタン距離を求める\n",
    "    d = apply_along_axis(lambda x: np_abs(x[0]) + np_abs(x[1]), 1, s-C)\n",
    "    # 最小値となるインデックス+1\n",
    "    print(argmin(d)+1)"
   ]
  },
  {
   "cell_type": "code",
   "execution_count": 6,
   "metadata": {},
   "outputs": [
    {
     "data": {
      "text/plain": [
       "array([ True, False])"
      ]
     },
     "execution_count": 6,
     "metadata": {},
     "output_type": "execute_result"
    }
   ],
   "source": [
    "np.apply_along_axis(lambda x: x > 0, 0, np.array([1, 0]))"
   ]
  },
  {
   "cell_type": "code",
   "execution_count": 7,
   "metadata": {},
   "outputs": [
    {
     "data": {
      "text/plain": [
       "array([ 0, -1])"
      ]
     },
     "execution_count": 7,
     "metadata": {},
     "output_type": "execute_result"
    }
   ],
   "source": [
    "np.array([1, 0])-1"
   ]
  },
  {
   "cell_type": "code",
   "execution_count": null,
   "metadata": {},
   "outputs": [],
   "source": [
    "# aa"
   ]
  }
 ],
 "metadata": {
  "kernelspec": {
   "display_name": "Python 3",
   "language": "python",
   "name": "python3"
  },
  "language_info": {
   "codemirror_mode": {
    "name": "ipython",
    "version": 3
   },
   "file_extension": ".py",
   "mimetype": "text/x-python",
   "name": "python",
   "nbconvert_exporter": "python",
   "pygments_lexer": "ipython3",
   "version": "3.7.5"
  }
 },
 "nbformat": 4,
 "nbformat_minor": 4
}
