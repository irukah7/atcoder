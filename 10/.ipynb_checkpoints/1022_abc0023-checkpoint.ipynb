{
 "cells": [
  {
   "cell_type": "code",
   "execution_count": 16,
   "metadata": {},
   "outputs": [
    {
     "name": "stdin",
     "output_type": "stream",
     "text": [
      " 3\n",
      " abc\n"
     ]
    },
    {
     "name": "stdout",
     "output_type": "stream",
     "text": [
      "1\n"
     ]
    }
   ],
   "source": [
    "import numpy as np\n",
    "# 入力\n",
    "N = int(input())\n",
    "S = input()\n",
    "\n",
    "# 最初の状態はbのみ\n",
    "ac = ['b']\n",
    "\n",
    "# 真ん中から文字をみていく\n",
    "# 文字列の半分の長さを繰り返す\n",
    "for i in range(1, N//2+1):\n",
    "    if i % 3 == 1:\n",
    "        ac.insert(0, 'a')\n",
    "        ac.append('c')\n",
    "    if i % 3 == 2:\n",
    "        ac.insert(0, 'c')\n",
    "        ac.append('a')\n",
    "    if i % 3 == 0:\n",
    "        ac.insert(0, 'b')\n",
    "        ac.append('b')\n",
    "\n",
    "print(N//2 if S == ''.join(ac) else -1)"
   ]
  },
  {
   "cell_type": "code",
   "execution_count": null,
   "metadata": {},
   "outputs": [],
   "source": []
  }
 ],
 "metadata": {
  "kernelspec": {
   "display_name": "Python 3",
   "language": "python",
   "name": "python3"
  },
  "language_info": {
   "codemirror_mode": {
    "name": "ipython",
    "version": 3
   },
   "file_extension": ".py",
   "mimetype": "text/x-python",
   "name": "python",
   "nbconvert_exporter": "python",
   "pygments_lexer": "ipython3",
   "version": "3.7.5"
  }
 },
 "nbformat": 4,
 "nbformat_minor": 4
}
