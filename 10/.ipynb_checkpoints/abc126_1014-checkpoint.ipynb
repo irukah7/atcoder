{
 "cells": [
  {
   "cell_type": "code",
   "execution_count": null,
   "metadata": {},
   "outputs": [],
   "source": [
    "# 入力\n",
    "S = input()\n",
    "\n",
    "# 前半と後半に分ける\n",
    "s1 = S[0]+S[1]\n",
    "s2 = S[2]+S[3]\n",
    "\n",
    "result = 'NA'\n",
    "# 前半後半ともに満たす場合\n",
    "if int(s1) in range(1, 13) and int(s2) in range(1, 13):\n",
    "    result = 'AMBIGUOUS'\n",
    "# 前半だけ満たす場合\n",
    "elif int(s1) in range(1, 13):\n",
    "    result = 'MMYY'\n",
    "# 後半だけ満たす場合\n",
    "elif int(s2) in range(1, 13):\n",
    "    result = 'YYMM'\n",
    "    \n",
    "# 出力\n",
    "print(result)"
   ]
  },
  {
   "cell_type": "code",
   "execution_count": null,
   "metadata": {},
   "outputs": [],
   "source": []
  },
  {
   "cell_type": "code",
   "execution_count": null,
   "metadata": {},
   "outputs": [],
   "source": []
  }
 ],
 "metadata": {
  "kernelspec": {
   "display_name": "Python 3",
   "language": "python",
   "name": "python3"
  },
  "language_info": {
   "codemirror_mode": {
    "name": "ipython",
    "version": 3
   },
   "file_extension": ".py",
   "mimetype": "text/x-python",
   "name": "python",
   "nbconvert_exporter": "python",
   "pygments_lexer": "ipython3",
   "version": "3.7.5"
  }
 },
 "nbformat": 4,
 "nbformat_minor": 4
}
