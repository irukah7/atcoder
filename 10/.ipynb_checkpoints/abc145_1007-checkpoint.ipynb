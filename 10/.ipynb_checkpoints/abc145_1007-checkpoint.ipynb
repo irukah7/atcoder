{
 "cells": [
  {
   "cell_type": "code",
   "execution_count": 7,
   "metadata": {},
   "outputs": [
    {
     "name": "stdin",
     "output_type": "stream",
     "text": [
      " 2\n",
      " ab\n"
     ]
    },
    {
     "name": "stdout",
     "output_type": "stream",
     "text": [
      " \n",
      "Yes\n"
     ]
    }
   ],
   "source": [
    "N = int(input())\n",
    "S = input()\n",
    " \n",
    "result = \"No\"\n",
    "if N % 2 == 0:\n",
    "  # 偶数の場合のみ、繰り返しになりうる\n",
    "  # Sを二分割して、同じ文字列であればYesを出力する\n",
    "    s1 = S[0:N//2 -1]\n",
    "    s2 = S[N//2:N - 1]\n",
    "    result = \"Yes\" if s1 == s2 else \"No\"\n",
    "\n",
    "print(result)"
   ]
  },
  {
   "cell_type": "code",
   "execution_count": null,
   "metadata": {},
   "outputs": [],
   "source": []
  }
 ],
 "metadata": {
  "kernelspec": {
   "display_name": "Python 3",
   "language": "python",
   "name": "python3"
  },
  "language_info": {
   "codemirror_mode": {
    "name": "ipython",
    "version": 3
   },
   "file_extension": ".py",
   "mimetype": "text/x-python",
   "name": "python",
   "nbconvert_exporter": "python",
   "pygments_lexer": "ipython3",
   "version": "3.7.5"
  }
 },
 "nbformat": 4,
 "nbformat_minor": 4
}
