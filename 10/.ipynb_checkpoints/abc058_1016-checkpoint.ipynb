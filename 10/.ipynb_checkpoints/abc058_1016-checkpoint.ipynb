{
 "cells": [
  {
   "cell_type": "code",
   "execution_count": 1,
   "metadata": {},
   "outputs": [
    {
     "name": "stdin",
     "output_type": "stream",
     "text": [
      " xyz\n",
      " abc\n"
     ]
    },
    {
     "name": "stdout",
     "output_type": "stream",
     "text": [
      "xaybzc"
     ]
    }
   ],
   "source": [
    "# 入力を取得する\n",
    "O = input()\n",
    "E = input()\n",
    "\n",
    "# 奇数番目の文字の数だけループして、奇数番目の文字と偶数番目の文字を交互に出力する\n",
    "for i in range(len(O)):\n",
    "    print(O[i], end='')\n",
    "    if len(E) > i:\n",
    "        print(E[i], end='')"
   ]
  },
  {
   "cell_type": "code",
   "execution_count": 9,
   "metadata": {},
   "outputs": [
    {
     "name": "stdin",
     "output_type": "stream",
     "text": [
      " atcoderbeginnercontest\n",
      " atcoderregularcontest\n"
     ]
    },
    {
     "name": "stdout",
     "output_type": "stream",
     "text": [
      "aattccooddeerrbreeggiunlnaerrccoonntteesstt\n"
     ]
    }
   ],
   "source": [
    "# 入力を取得する\n",
    "O = input()\n",
    "E = input()\n",
    "\n",
    "l = []\n",
    "\n",
    "# Eの長さ分回してlにOとEの値を詰めていく\n",
    "for i in range(len(E)):\n",
    "    l += O[i]\n",
    "    l += E[i]\n",
    "\n",
    "# 長さが違う=Oが１文字多い時、Oの最後の文字を追加する\n",
    "if len(E) != len(O):\n",
    "    l += O[-1]\n",
    "    \n",
    "# つなげて出力\n",
    "print(''.join(l))"
   ]
  },
  {
   "cell_type": "code",
   "execution_count": 10,
   "metadata": {},
   "outputs": [
    {
     "data": {
      "text/plain": [
       "True"
      ]
     },
     "execution_count": 10,
     "metadata": {},
     "output_type": "execute_result"
    }
   ],
   "source": [
    "'aattccooddeerrbreeggiunlnaerrccoonntteesstt' == 'aattccooddeerrbreeggiunlnaerrccoonntteesstt'"
   ]
  },
  {
   "cell_type": "code",
   "execution_count": null,
   "metadata": {},
   "outputs": [],
   "source": []
  }
 ],
 "metadata": {
  "kernelspec": {
   "display_name": "Python 3",
   "language": "python",
   "name": "python3"
  },
  "language_info": {
   "codemirror_mode": {
    "name": "ipython",
    "version": 3
   },
   "file_extension": ".py",
   "mimetype": "text/x-python",
   "name": "python",
   "nbconvert_exporter": "python",
   "pygments_lexer": "ipython3",
   "version": "3.7.5"
  }
 },
 "nbformat": 4,
 "nbformat_minor": 4
}
