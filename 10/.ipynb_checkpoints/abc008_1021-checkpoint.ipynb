{
 "cells": [
  {
   "cell_type": "code",
   "execution_count": 2,
   "metadata": {},
   "outputs": [
    {
     "name": "stdin",
     "output_type": "stream",
     "text": [
      " 4\n",
      " taro\n",
      " jiro\n",
      " i\n",
      " taro\n"
     ]
    },
    {
     "name": "stdout",
     "output_type": "stream",
     "text": [
      "taro\n"
     ]
    }
   ],
   "source": [
    "# 入力\n",
    "N = int(input())\n",
    "S = [input() for i in range(N)]\n",
    "\n",
    "import math\n",
    "leader = (None, -math.inf)\n",
    "\n",
    "# 各人の得票数を調べて、多ければ更新していく\n",
    "for s in S:\n",
    "    count = S.count(s)\n",
    "    if count > leader[1]:\n",
    "        leader = (s, count)\n",
    "        \n",
    "# 出力\n",
    "print(leader[0])"
   ]
  },
  {
   "cell_type": "code",
   "execution_count": 3,
   "metadata": {},
   "outputs": [
    {
     "name": "stdin",
     "output_type": "stream",
     "text": [
      " 4\n",
      " taro\n",
      " i\n",
      " s\n",
      " taro\n"
     ]
    },
    {
     "name": "stdout",
     "output_type": "stream",
     "text": [
      "taro\n"
     ]
    }
   ],
   "source": [
    "# 入力\n",
    "N = int(input())\n",
    "S = [input() for i in range(N)]\n",
    "\n",
    "from collections import Counter\n",
    "# 要素：出現数のdictで返す\n",
    "c = Counter(S)\n",
    "\n",
    "# 要素が多い順番に並べてインデックスが最初の要素を返す\n",
    "print(c.most_common()[0][0])"
   ]
  },
  {
   "cell_type": "code",
   "execution_count": null,
   "metadata": {},
   "outputs": [],
   "source": []
  }
 ],
 "metadata": {
  "kernelspec": {
   "display_name": "Python 3",
   "language": "python",
   "name": "python3"
  },
  "language_info": {
   "codemirror_mode": {
    "name": "ipython",
    "version": 3
   },
   "file_extension": ".py",
   "mimetype": "text/x-python",
   "name": "python",
   "nbconvert_exporter": "python",
   "pygments_lexer": "ipython3",
   "version": "3.7.5"
  }
 },
 "nbformat": 4,
 "nbformat_minor": 4
}
