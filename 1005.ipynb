{
 "cells": [
  {
   "cell_type": "code",
   "execution_count": 15,
   "metadata": {},
   "outputs": [
    {
     "name": "stdin",
     "output_type": "stream",
     "text": [
      " 13\n",
      " ABCDEFGHIJKLMNOPQRSTUVWXYZ\n"
     ]
    },
    {
     "name": "stdout",
     "output_type": "stream",
     "text": [
      "NOPQRSTUVWXYZABCDEFGHIJKLM\n"
     ]
    }
   ],
   "source": [
    "# 入力\n",
    "N =int(input())\n",
    "S = list(input())\n",
    "\n",
    "# 入力Sの文字列分繰り返す\n",
    "for i in range(len(S)):\n",
    "    # 文字をunicode(数値)に変換してNを足す\n",
    "    uni = ord(S[i]) + N\n",
    "    # unicodeが90(Z)を超えたら65(A)に戻す\n",
    "    if uni > 90: \n",
    "        uni = uni - 26\n",
    "    # Sのリストに対して更新をかける\n",
    "    S[i] = chr(uni)\n",
    "    \n",
    "print(''.join(S))"
   ]
  },
  {
   "cell_type": "code",
   "execution_count": 16,
   "metadata": {},
   "outputs": [
    {
     "name": "stdin",
     "output_type": "stream",
     "text": [
      " 2\n",
      " ABC\n"
     ]
    }
   ],
   "source": [
    "# 入力\n",
    "N =int(input())\n",
    "S = list(input())\n",
    "a = ['ABCDEFGHIJKLMNOPQRSTUVWXYZ']\n",
    "\n",
    "for i in range(len(S)):\n",
    "    for j in range(len(a)):\n",
    "        \n",
    "    "
   ]
  },
  {
   "cell_type": "code",
   "execution_count": 30,
   "metadata": {},
   "outputs": [
    {
     "name": "stdout",
     "output_type": "stream",
     "text": [
      "ab\n"
     ]
    }
   ],
   "source": [
    "print('a', end='')\n",
    "print('b')"
   ]
  },
  {
   "cell_type": "code",
   "execution_count": null,
   "metadata": {},
   "outputs": [],
   "source": []
  }
 ],
 "metadata": {
  "kernelspec": {
   "display_name": "Python 3",
   "language": "python",
   "name": "python3"
  },
  "language_info": {
   "codemirror_mode": {
    "name": "ipython",
    "version": 3
   },
   "file_extension": ".py",
   "mimetype": "text/x-python",
   "name": "python",
   "nbconvert_exporter": "python",
   "pygments_lexer": "ipython3",
   "version": "3.7.5"
  }
 },
 "nbformat": 4,
 "nbformat_minor": 4
}
