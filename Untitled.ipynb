{
 "cells": [
  {
   "cell_type": "code",
   "execution_count": 13,
   "metadata": {},
   "outputs": [
    {
     "name": "stdin",
     "output_type": "stream",
     "text": [
      " 100 999\n"
     ]
    },
    {
     "name": "stdout",
     "output_type": "stream",
     "text": [
      "27\n"
     ]
    }
   ],
   "source": [
    "A, B = map(str, input().split())\n",
    "\n",
    "sum_a = 0\n",
    "sum_b = 0\n",
    "\n",
    "for i in range(3):\n",
    "    sum_a += int(A[i])\n",
    "    sum_b += int(B[i])\n",
    "    \n",
    "print(sum_a if sum_a > sum_b else sum_b)"
   ]
  },
  {
   "cell_type": "code",
   "execution_count": null,
   "metadata": {},
   "outputs": [],
   "source": []
  },
  {
   "cell_type": "code",
   "execution_count": 7,
   "metadata": {},
   "outputs": [
    {
     "data": {
      "text/plain": [
       "range(0, 3)"
      ]
     },
     "execution_count": 7,
     "metadata": {},
     "output_type": "execute_result"
    }
   ],
   "source": [
    "range(3)"
   ]
  },
  {
   "cell_type": "code",
   "execution_count": 111,
   "metadata": {},
   "outputs": [
    {
     "name": "stdin",
     "output_type": "stream",
     "text": [
      " 10\n",
      " -31 -35\n",
      " 8 -36\n",
      " 22 64\n",
      " 5 73\n",
      " -14 8\n",
      " 18 -58\n",
      " -41 -85\n",
      " 1 -88\n",
      " -21 -85\n",
      " -11 82\n"
     ]
    },
    {
     "name": "stdout",
     "output_type": "stream",
     "text": [
      "11\n"
     ]
    }
   ],
   "source": [
    "import itertools\n",
    "\n",
    "N = int(input())\n",
    "T = [list(map(int, input().split())) for _ in range(N)]\n",
    "\n",
    "k = list(itertools.combinations(range(N), 2))\n",
    "if len(k) == 0:\n",
    "    print(0)\n",
    "else:\n",
    "    cnt = 0\n",
    "    for i in k:\n",
    "        if T[i[1]][0]-T[i[0]][0] !=0:\n",
    "            if (T[i[1]][1]-T[i[0]][1])/(T[i[1]][0]-T[i[0]][0]) <= 1 and (T[i[1]][1]-T[i[0]][1])/(T[i[1]][0]-T[i[0]][0]) >= -1:\n",
    "                cnt += 1\n",
    "\n",
    "    print(cnt)"
   ]
  },
  {
   "cell_type": "code",
   "execution_count": null,
   "metadata": {},
   "outputs": [],
   "source": [
    "10\n",
    "-31 -35\n",
    "8 -36\n",
    "22 64\n",
    "5 73\n",
    "-14 8\n",
    "18 -58\n",
    "-41 -85\n",
    "1 -88\n",
    "-21 -85\n",
    "-11 82"
   ]
  },
  {
   "cell_type": "code",
   "execution_count": 106,
   "metadata": {},
   "outputs": [
    {
     "name": "stdout",
     "output_type": "stream",
     "text": [
      "-0.02564102564102564\n",
      "1.8679245283018868\n",
      "3.0\n",
      "2.5294117647058822\n",
      "-0.46938775510204084\n",
      "5.0\n",
      "-1.65625\n",
      "-5.0\n",
      "5.85\n",
      "7.142857142857143\n",
      "-36.333333333333336\n",
      "-2.0\n",
      "-2.2\n",
      "1.0\n",
      "7.428571428571429\n",
      "1.6896551724137931\n",
      "-6.2105263157894735\n",
      "-0.5294117647058824\n",
      "1.5555555555555556\n",
      "30.5\n",
      "2.365079365079365\n",
      "7.238095238095238\n",
      "3.4651162790697674\n",
      "-0.5454545454545454\n",
      "3.4210526315789473\n",
      "-10.076923076923077\n",
      "3.4347826086956523\n",
      "40.25\n",
      "6.076923076923077\n",
      "-0.5625\n",
      "-2.0625\n",
      "3.4444444444444446\n",
      "-6.4\n",
      "13.285714285714286\n",
      "24.666666666666668\n",
      "0.4576271186440678\n",
      "1.7647058823529411\n",
      "0.6923076923076923\n",
      "-4.827586206896552\n",
      "-0.07142857142857142\n",
      "5.566666666666666\n",
      "-0.13636363636363635\n",
      "-14.166666666666666\n",
      "16.7\n"
     ]
    }
   ],
   "source": [
    "for i in k:\n",
    "    if T[i[1]][1]-T[i[0]][1] !=0 and T[i[1]][0]-T[i[0]][0] !=0:\n",
    "#         if (T[i[1]][1]-T[i[0]][1])/(T[i[1]][0]-T[i[0]][0]) <= 1 and (T[i[1]][1]-T[i[0]][1])/(T[i[1]][0]-T[i[0]][0]) >= -1:\n",
    "        print((T[i[1]][1]-T[i[0]][1])/(T[i[1]][0]-T[i[0]][0]))"
   ]
  },
  {
   "cell_type": "code",
   "execution_count": 134,
   "metadata": {},
   "outputs": [
    {
     "name": "stdin",
     "output_type": "stream",
     "text": [
      " 10\n",
      " red\n",
      " red\n",
      " red\n",
      " !orange\n",
      " yellow\n",
      " !blue\n",
      " cyan\n",
      " !green\n",
      " brown\n",
      " !gray\n"
     ]
    },
    {
     "name": "stdout",
     "output_type": "stream",
     "text": [
      "satisfiable\n"
     ]
    }
   ],
   "source": [
    "# TLE\n",
    "\n",
    "N = int(input())\n",
    "S = [input() for _ in range(N)]\n",
    "\n",
    "set_s = set(S)\n",
    "\n",
    "sei = []\n",
    "res = ''\n",
    "for s in set_s:\n",
    "    if '!' not in s:\n",
    "        if s in S and '!'+s in S:\n",
    "            res = s\n",
    "            break\n",
    "            \n",
    "print('satisfiable' if res == '' else res)"
   ]
  },
  {
   "cell_type": "code",
   "execution_count": null,
   "metadata": {},
   "outputs": [],
   "source": [
    "N = int(input())\n",
    "S = [input() for _ in range(N)]\n",
    "\n",
    "set_s = set(S) \n",
    "\n",
    "res = ''\n",
    "for s in set_s:\n",
    "    if '!' not in s:\n",
    "        if s in S and '!'+s in S:\n",
    "            res = s\n",
    "            break\n",
    "            \n",
    "print('satisfiable' if res == '' else res)"
   ]
  },
  {
   "cell_type": "code",
   "execution_count": 123,
   "metadata": {},
   "outputs": [
    {
     "data": {
      "text/plain": [
       "'!c'"
      ]
     },
     "execution_count": 123,
     "metadata": {},
     "output_type": "execute_result"
    }
   ],
   "source": [
    "10\n",
    "red\n",
    "red\n",
    "red\n",
    "!orange\n",
    "yellow\n",
    "!blue\n",
    "cyan\n",
    "!green\n",
    "brown\n",
    "!gray"
   ]
  },
  {
   "cell_type": "code",
   "execution_count": 137,
   "metadata": {},
   "outputs": [
    {
     "data": {
      "text/plain": [
       "{'!blue', '!gray', '!green', '!orange', 'brown', 'cyan', 'red', 'yellow'}"
      ]
     },
     "execution_count": 137,
     "metadata": {},
     "output_type": "execute_result"
    }
   ],
   "source": [
    "set_s = set(S)\n",
    "set_s"
   ]
  },
  {
   "cell_type": "code",
   "execution_count": null,
   "metadata": {},
   "outputs": [],
   "source": []
  }
 ],
 "metadata": {
  "kernelspec": {
   "display_name": "Python 3",
   "language": "python",
   "name": "python3"
  },
  "language_info": {
   "codemirror_mode": {
    "name": "ipython",
    "version": 3
   },
   "file_extension": ".py",
   "mimetype": "text/x-python",
   "name": "python",
   "nbconvert_exporter": "python",
   "pygments_lexer": "ipython3",
   "version": "3.7.6"
  }
 },
 "nbformat": 4,
 "nbformat_minor": 4
}
