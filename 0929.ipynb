{
 "cells": [
  {
   "cell_type": "code",
   "execution_count": 21,
   "metadata": {},
   "outputs": [
    {
     "name": "stdin",
     "output_type": "stream",
     "text": [
      " 3\n",
      " 3 5 7\n"
     ]
    },
    {
     "name": "stdout",
     "output_type": "stream",
     "text": [
      "APPROVED\n"
     ]
    }
   ],
   "source": [
    "# 入力\n",
    "N = int(input())\n",
    "A = list(map(int, input().split()))\n",
    "\n",
    "gusu = 0\n",
    "cnt = 0\n",
    "# リストの中の偶数を調べる\n",
    "for i in range(N):\n",
    "    if A[i] % 2 == 0:\n",
    "        gusu += 1\n",
    "    \n",
    "# 3 or 5で割り切れるか調べる\n",
    "        if A[i] % 3 == 0 or A[i] % 5 == 0:\n",
    "            cnt += 1\n",
    "            \n",
    "if gusu == cnt:\n",
    "    print('APPROVED')\n",
    "else:\n",
    "    print('DENIED')"
   ]
  },
  {
   "cell_type": "code",
   "execution_count": 35,
   "metadata": {},
   "outputs": [
    {
     "name": "stdin",
     "output_type": "stream",
     "text": [
      " 5\n",
      " 7 2 3 8 5\n",
      " 3\n",
      " 4 2\n",
      " 1 7\n",
      " 4 13\n"
     ]
    },
    {
     "name": "stdout",
     "output_type": "stream",
     "text": [
      "19\n",
      "25\n",
      "30\n"
     ]
    }
   ],
   "source": [
    "# N問の問題が用意されている\n",
    "N = int(input())\n",
    "# 問題を解くのにかかる時間\n",
    "T = list(map(int, input().split()))\n",
    "\n",
    "# ドリンクの種類M\n",
    "M = int(input())\n",
    "# ドリンクを飲んだ場合の時間をリストに格納する\n",
    "X = []\n",
    "\n",
    "# まずはドリンクを飲んだ場合の時間をXに格納する\n",
    "for i in range(M):\n",
    "    X.append(list(map(int,input().split())))\n",
    "    X[i][0] = X[i][0]-1\n",
    "\n",
    "Y = []\n",
    "# それぞれの問題の解く時間を取得する\n",
    "for i in range(N):\n",
    "    Y.append(T[i])\n",
    "    \n",
    "# Yのコピーを取得して、そこに対して更新をかける\n",
    "for i in range(len(X)):\n",
    "    Y_copy = Y.copy()\n",
    "    Y_copy[X[i][0]] = X[i][1]\n",
    "    print(sum(Y_copy))"
   ]
  },
  {
   "cell_type": "code",
   "execution_count": 29,
   "metadata": {},
   "outputs": [
    {
     "data": {
      "text/plain": [
       "([[1, 3], [2, 4]], [2, 3, 4])"
      ]
     },
     "execution_count": 29,
     "metadata": {},
     "output_type": "execute_result"
    }
   ],
   "source": [
    "X, Y"
   ]
  },
  {
   "cell_type": "code",
   "execution_count": 22,
   "metadata": {},
   "outputs": [
    {
     "data": {
      "text/plain": [
       "6"
      ]
     },
     "execution_count": 22,
     "metadata": {},
     "output_type": "execute_result"
    }
   ],
   "source": [
    "sum(Y)"
   ]
  },
  {
   "cell_type": "code",
   "execution_count": 33,
   "metadata": {},
   "outputs": [
    {
     "data": {
      "text/plain": [
       "[1, 1]"
      ]
     },
     "execution_count": 33,
     "metadata": {},
     "output_type": "execute_result"
    }
   ],
   "source": [
    "X[0]"
   ]
  },
  {
   "cell_type": "code",
   "execution_count": null,
   "metadata": {},
   "outputs": [],
   "source": []
  }
 ],
 "metadata": {
  "kernelspec": {
   "display_name": "Python 3",
   "language": "python",
   "name": "python3"
  },
  "language_info": {
   "codemirror_mode": {
    "name": "ipython",
    "version": 3
   },
   "file_extension": ".py",
   "mimetype": "text/x-python",
   "name": "python",
   "nbconvert_exporter": "python",
   "pygments_lexer": "ipython3",
   "version": "3.7.5"
  }
 },
 "nbformat": 4,
 "nbformat_minor": 4
}
