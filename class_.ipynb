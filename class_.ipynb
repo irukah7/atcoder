{
 "cells": [
  {
   "cell_type": "code",
   "execution_count": 3,
   "metadata": {},
   "outputs": [],
   "source": [
    "# 太郎と花子の平均点を出力するプログラム例\n",
    "men_name = '太郎'\n",
    "taro_sansuu = 75\n",
    "taro_rika = 90\n",
    "taro_mean = (taro_sansuu + taro_rika) /2\n",
    "\n",
    "women_name = '花子'\n",
    "hanako_sansuu = 95\n",
    "hanako_rika = 50\n",
    "hanako_mean = (hanako_sansuu + hanako_rika) /2\n",
    "\n",
    "print('{}の平均点は{}'.format(men_name, taro_mean))\n",
    "print('{}の平均点は{}'.format(women_name, hanako_mean))\n",
    "\n",
    "# 太郎の平均点は82.5\n",
    "# 花子の平均点は72.5"
   ]
  },
  {
   "cell_type": "code",
   "execution_count": 8,
   "metadata": {},
   "outputs": [
    {
     "name": "stdout",
     "output_type": "stream",
     "text": [
      "太郎の平均点は82.5\n",
      "花子の平均点は72.5\n"
     ]
    }
   ],
   "source": [
    "print('{}の平均点は{}'.format(men_name, taro_mean))\n",
    "print('{}の平均点は{}'.format(women_name, hanako_mean))"
   ]
  },
  {
   "cell_type": "code",
   "execution_count": 11,
   "metadata": {},
   "outputs": [
    {
     "name": "stdout",
     "output_type": "stream",
     "text": [
      "太郎の平均点は82.5\n",
      "花子の平均点は72.5\n"
     ]
    }
   ],
   "source": [
    "def heikin(name, sansuu, rika):\n",
    "    heikin = (sansuu+rika) / 2\n",
    "    return '{}の平均点は{}'.format(name, heikin)\n",
    "\n",
    "taro = '太郎'\n",
    "taro_sansuu = 75\n",
    "taro_rika = 90\n",
    "\n",
    "hanako = '花子'\n",
    "hanako_sansuu = 95\n",
    "hanako_rika = 50\n",
    "\n",
    "print(heikin(taro, taro_sansuu, taro_rika))\n",
    "print(heikin(hanako, hanako_sansuu, hanako_rika))"
   ]
  },
  {
   "cell_type": "code",
   "execution_count": 23,
   "metadata": {},
   "outputs": [
    {
     "name": "stdout",
     "output_type": "stream",
     "text": [
      "太郎の平均点は82.5\n",
      "花子の平均点は72.5\n"
     ]
    }
   ],
   "source": [
    "class TokutenData():\n",
    "    def __init__(self, name, sansuu, rika):\n",
    "        self.name = name\n",
    "        self.sansuu = sansuu\n",
    "        self.rika = rika\n",
    "        \n",
    "    def call_heikin(self):\n",
    "        heikin = (self.sansuu+self.rika) / 2\n",
    "        return '{}の平均点は{}'.format(self.name, heikin)\n",
    "    \n",
    "# インスタンス化\n",
    "taro = TokutenData('太郎', 75, 90)\n",
    "print(taro.call_heikin())\n",
    "\n",
    "# インスタンス化\n",
    "hanako = TokutenData('花子', 95, 50)\n",
    "print(hanako.call_heikin())"
   ]
  },
  {
   "cell_type": "code",
   "execution_count": 118,
   "metadata": {},
   "outputs": [],
   "source": [
    "# TokutenDataクラスの継承\n",
    "# 国語の点数も足す\n",
    "class AddKokugo(TokutenData):\n",
    "    def __init__(self, name, sansuu, rika, kokugo):\n",
    "        super().__init__(name, sansuu, rika)\n",
    "        self.kokugo = kokugo\n",
    "        \n",
    "    def add_kokugo_heikin(self):\n",
    "        heikin = (self.sansuu + self.rika + self.kokugo)/3\n",
    "        \n",
    "        return '{}の平均点は{}'.format(self.name, int(heikin))"
   ]
  },
  {
   "cell_type": "code",
   "execution_count": 119,
   "metadata": {},
   "outputs": [],
   "source": [
    "a = AddKokugo('太郎', 75, 90, 80)"
   ]
  },
  {
   "cell_type": "code",
   "execution_count": 122,
   "metadata": {},
   "outputs": [
    {
     "name": "stdout",
     "output_type": "stream",
     "text": [
      "太郎の平均点は81\n"
     ]
    }
   ],
   "source": [
    "print(a.add_kokugo_heikin())"
   ]
  },
  {
   "cell_type": "code",
   "execution_count": 121,
   "metadata": {},
   "outputs": [
    {
     "data": {
      "text/plain": [
       "81.66666666666667"
      ]
     },
     "execution_count": 121,
     "metadata": {},
     "output_type": "execute_result"
    }
   ],
   "source": [
    "(75+90+80)/3"
   ]
  },
  {
   "cell_type": "code",
   "execution_count": null,
   "metadata": {},
   "outputs": [],
   "source": []
  }
 ],
 "metadata": {
  "kernelspec": {
   "display_name": "Python 3",
   "language": "python",
   "name": "python3"
  },
  "language_info": {
   "codemirror_mode": {
    "name": "ipython",
    "version": 3
   },
   "file_extension": ".py",
   "mimetype": "text/x-python",
   "name": "python",
   "nbconvert_exporter": "python",
   "pygments_lexer": "ipython3",
   "version": "3.7.5"
  }
 },
 "nbformat": 4,
 "nbformat_minor": 4
}
