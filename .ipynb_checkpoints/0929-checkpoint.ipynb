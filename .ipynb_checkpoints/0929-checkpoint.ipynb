{
 "cells": [
  {
   "cell_type": "code",
   "execution_count": 9,
   "metadata": {},
   "outputs": [
    {
     "name": "stdin",
     "output_type": "stream",
     "text": [
      " 3\n",
      " 3 5 15\n"
     ]
    },
    {
     "name": "stdout",
     "output_type": "stream",
     "text": [
      "0\n",
      "1\n",
      "2\n",
      "DENIED\n"
     ]
    }
   ],
   "source": [
    "# 入力\n",
    "N = int(input())\n",
    "A = list(map(int, input().split()))\n",
    "\n",
    "gusu = 0\n",
    "cnt = 0\n",
    "# リストの中の偶数を調べる\n",
    "for i in range(N):\n",
    "    if A[i] % 2 == 0:\n",
    "        gusu += 1\n",
    "    \n",
    "# 3 or 5で割り切れるか調べる\n",
    "        if A[i] % 3 == 0 or A[i] % 5 == 0:\n",
    "            cnt += 1\n",
    "            \n",
    "if gusu > 0 and gusu == cnt and cnt > 0:\n",
    "    print('APPROVED')\n",
    "else:\n",
    "    print('DENIED')"
   ]
  },
  {
   "cell_type": "code",
   "execution_count": null,
   "metadata": {},
   "outputs": [],
   "source": []
  }
 ],
 "metadata": {
  "kernelspec": {
   "display_name": "Python 3",
   "language": "python",
   "name": "python3"
  },
  "language_info": {
   "codemirror_mode": {
    "name": "ipython",
    "version": 3
   },
   "file_extension": ".py",
   "mimetype": "text/x-python",
   "name": "python",
   "nbconvert_exporter": "python",
   "pygments_lexer": "ipython3",
   "version": "3.7.5"
  }
 },
 "nbformat": 4,
 "nbformat_minor": 4
}
