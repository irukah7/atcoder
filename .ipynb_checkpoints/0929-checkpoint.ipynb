{
 "cells": [
  {
   "cell_type": "code",
   "execution_count": 21,
   "metadata": {},
   "outputs": [
    {
     "name": "stdin",
     "output_type": "stream",
     "text": [
      " 3\n",
      " 3 5 7\n"
     ]
    },
    {
     "name": "stdout",
     "output_type": "stream",
     "text": [
      "APPROVED\n"
     ]
    }
   ],
   "source": [
    "# 入力\n",
    "N = int(input())\n",
    "A = list(map(int, input().split()))\n",
    "\n",
    "gusu = 0\n",
    "cnt = 0\n",
    "# リストの中の偶数を調べる\n",
    "for i in range(N):\n",
    "    if A[i] % 2 == 0:\n",
    "        gusu += 1\n",
    "    \n",
    "# 3 or 5で割り切れるか調べる\n",
    "        if A[i] % 3 == 0 or A[i] % 5 == 0:\n",
    "            cnt += 1\n",
    "            \n",
    "if gusu == cnt:\n",
    "    print('APPROVED')\n",
    "else:\n",
    "    print('DENIED')"
   ]
  },
  {
   "cell_type": "code",
   "execution_count": 6,
   "metadata": {},
   "outputs": [
    {
     "name": "stdin",
     "output_type": "stream",
     "text": [
      " 3\n",
      " 2 1 4\n",
      " 2\n",
      " 1 1\n",
      " 2 2\n"
     ]
    }
   ],
   "source": [
    "# N問の問題が用意されている\n",
    "N = int(input())\n",
    "# 問題を解くのにかかる時間\n",
    "T = list(map(int, input().split()))\n",
    "\n",
    "# ドリンクの種類M\n",
    "M = int(input())\n",
    "# ドリンクを飲んだ場合の時間をリストに格納する\n",
    "X = []\n",
    "for i in range(M):\n",
    "    X.append(list(map(int,input().split())))\n",
    "    \n",
    "    "
   ]
  },
  {
   "cell_type": "code",
   "execution_count": 7,
   "metadata": {},
   "outputs": [
    {
     "data": {
      "text/plain": [
       "[<map at 0x7ff6400aee50>, <map at 0x7ff6400aec90>]"
      ]
     },
     "execution_count": 7,
     "metadata": {},
     "output_type": "execute_result"
    }
   ],
   "source": [
    "X"
   ]
  },
  {
   "cell_type": "code",
   "execution_count": null,
   "metadata": {},
   "outputs": [],
   "source": []
  }
 ],
 "metadata": {
  "kernelspec": {
   "display_name": "Python 3",
   "language": "python",
   "name": "python3"
  },
  "language_info": {
   "codemirror_mode": {
    "name": "ipython",
    "version": 3
   },
   "file_extension": ".py",
   "mimetype": "text/x-python",
   "name": "python",
   "nbconvert_exporter": "python",
   "pygments_lexer": "ipython3",
   "version": "3.7.5"
  }
 },
 "nbformat": 4,
 "nbformat_minor": 4
}
