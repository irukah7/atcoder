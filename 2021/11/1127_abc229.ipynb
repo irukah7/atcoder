{
 "cells": [
  {
   "cell_type": "code",
   "execution_count": 2,
   "metadata": {},
   "outputs": [
    {
     "name": "stdin",
     "output_type": "stream",
     "text": [
      " .#\n",
      " #.\n"
     ]
    },
    {
     "name": "stdout",
     "output_type": "stream",
     "text": [
      "No\n"
     ]
    }
   ],
   "source": [
    "S1 = input()\n",
    "S2 = input()\n",
    "\n",
    "ret = 'No'\n",
    "if S1[0]=='#':\n",
    "    if S1[1]=='#' or S2[0]=='#':\n",
    "        ret = ('Yes')\n",
    "if S1[1]=='#':\n",
    "    if S1[0]=='#' or S2[1]=='#':\n",
    "        ret = ('Yes')\n",
    "if S2[0]=='#':\n",
    "    if S2[1]=='#' or S1[0]=='#':\n",
    "        ret = ('Yes')\n",
    "if S2[1]=='#':\n",
    "    if S2[0]=='#' or S1[1]=='#':\n",
    "        ret = ('Yes')\n",
    "print(ret)"
   ]
  },
  {
   "cell_type": "code",
   "execution_count": 15,
   "metadata": {},
   "outputs": [
    {
     "name": "stdin",
     "output_type": "stream",
     "text": [
      " 229 390\n"
     ]
    },
    {
     "name": "stdout",
     "output_type": "stream",
     "text": [
      "Hard\n"
     ]
    }
   ],
   "source": [
    "A, B = map(str, input().split())\n",
    "lena = len(A)\n",
    "lenb = len(B)\n",
    "if lena > lenb:\n",
    "    A = A[lena-lenb:]\n",
    "if lenb > lena:\n",
    "    B = B[lenb-lena:]\n",
    "    \n",
    "ret = 'Easy'\n",
    "for i in range(min(lena,lenb)-1, -1, -1):\n",
    "    if int(A[i])+int(B[i]) >= 10:\n",
    "        ret = 'Hard'\n",
    "        break\n",
    "print(ret)"
   ]
  },
  {
   "cell_type": "code",
   "execution_count": 101,
   "metadata": {},
   "outputs": [
    {
     "name": "stdin",
     "output_type": "stream",
     "text": [
      " 10 3141\n",
      " 314944731 649\n",
      " 140276783 228\n",
      " 578012421 809\n",
      " 878510647 519\n",
      " 925326537 943\n",
      " 337666726 611\n",
      " 879137070 306\n",
      " 87808915 39\n",
      " 756059990 244\n",
      " 228622672 291\n"
     ]
    },
    {
     "name": "stdout",
     "output_type": "stream",
     "text": [
      "2357689932073\n"
     ]
    }
   ],
   "source": [
    "N, W = map(int, input().split())\n",
    "L = [list(map(int, input().split())) for _ in range(N)]\n",
    "dp = [[-1]*(W+1) for _ in range(N+1)]\n",
    "dp[0][0] = 0\n",
    "\n",
    "for i in range(N):\n",
    "    for j in range(W+1):\n",
    "        if dp[i][j] < 0:\n",
    "            continue\n",
    "        \n",
    "        dp[i+1][j] = max(dp[i+1][j], dp[i][j])\n",
    "#         for k in range(1, L[i][1]+1):\n",
    "#             if j+k <= W:\n",
    "#                 dp[i+1][j+k] = max(dp[i+1][j+k], dp[i][j]+L[i][0]*k)\n",
    "        if j+L[i][1] <= W:\n",
    "            dp[i+1][j+k] = max(dp[i+1][j+L[i][1]], dp[i][j]+L[i][0]*L[i][1])\n",
    "print(max(dp[N]))"
   ]
  },
  {
   "cell_type": "code",
   "execution_count": null,
   "metadata": {},
   "outputs": [],
   "source": [
    "10 3141\n",
    "314944731 649\n",
    "140276783 228\n",
    "578012421 809\n",
    "878510647 519\n",
    "925326537 943\n",
    "337666726 611\n",
    "879137070 306\n",
    "87808915 39\n",
    "756059990 244\n",
    "228622672 291\n"
   ]
  },
  {
   "cell_type": "code",
   "execution_count": 99,
   "metadata": {},
   "outputs": [
    {
     "data": {
      "text/plain": [
       "[[6, 2], [1, 5], [3, 9], [8, 7]]"
      ]
     },
     "execution_count": 99,
     "metadata": {},
     "output_type": "execute_result"
    }
   ],
   "source": [
    "L"
   ]
  },
  {
   "cell_type": "code",
   "execution_count": 66,
   "metadata": {},
   "outputs": [
    {
     "data": {
      "text/plain": [
       "[1, 2, 3]"
      ]
     },
     "execution_count": 66,
     "metadata": {},
     "output_type": "execute_result"
    }
   ],
   "source": [
    "B"
   ]
  },
  {
   "cell_type": "code",
   "execution_count": null,
   "metadata": {},
   "outputs": [],
   "source": []
  }
 ],
 "metadata": {
  "kernelspec": {
   "display_name": "Python 3",
   "language": "python",
   "name": "python3"
  },
  "language_info": {
   "codemirror_mode": {
    "name": "ipython",
    "version": 3
   },
   "file_extension": ".py",
   "mimetype": "text/x-python",
   "name": "python",
   "nbconvert_exporter": "python",
   "pygments_lexer": "ipython3",
   "version": "3.7.6"
  }
 },
 "nbformat": 4,
 "nbformat_minor": 4
}
