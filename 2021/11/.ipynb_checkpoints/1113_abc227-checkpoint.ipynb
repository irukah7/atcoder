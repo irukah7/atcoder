{
 "cells": [
  {
   "cell_type": "code",
   "execution_count": 74,
   "metadata": {},
   "outputs": [
    {
     "name": "stdin",
     "output_type": "stream",
     "text": [
      " 3 14 2\n"
     ]
    },
    {
     "name": "stdout",
     "output_type": "stream",
     "text": [
      "3\n"
     ]
    }
   ],
   "source": [
    "N, K, A = map(int, input().split())\n",
    "if N==1:\n",
    "    print(1)\n",
    "else:\n",
    "    for _ in range(1, K):\n",
    "        if A > N:\n",
    "            A = 1\n",
    "        else:\n",
    "            A += 1\n",
    "            if A > N:\n",
    "                A = 1\n",
    "    print(A)"
   ]
  },
  {
   "cell_type": "code",
   "execution_count": 109,
   "metadata": {},
   "outputs": [
    {
     "name": "stdin",
     "output_type": "stream",
     "text": [
      " 3\n",
      " 10 20 39\n"
     ]
    },
    {
     "name": "stdout",
     "output_type": "stream",
     "text": [
      "1\n"
     ]
    }
   ],
   "source": [
    "N = int(input())\n",
    "S = list(map(int, input().split()))\n",
    "\n",
    "cnt = 0\n",
    "l = []\n",
    "for i in range(1, max(S)//3):\n",
    "    for j in range(1, max(S)//3):\n",
    "        men = 4*i*j + 3*i + 3*j\n",
    "        if men in S and men not in l:\n",
    "            cnt += S.count(men)\n",
    "            l.append(men)\n",
    "        \n",
    "print(N-cnt)"
   ]
  },
  {
   "cell_type": "code",
   "execution_count": 122,
   "metadata": {},
   "outputs": [
    {
     "name": "stdin",
     "output_type": "stream",
     "text": [
      " 4\n"
     ]
    },
    {
     "name": "stdout",
     "output_type": "stream",
     "text": [
      "6\n"
     ]
    }
   ],
   "source": [
    "N = int(input())\n",
    "cnt = 0\n",
    "ret = 0\n",
    "\n",
    "for i in range(1, N+1):\n",
    "    for j in range(i, N+1):\n",
    "        if i * j < N and i <= j:\n",
    "            ret += 1\n",
    "        else:\n",
    "            break\n",
    "print(ret*2 - cnt)"
   ]
  },
  {
   "cell_type": "code",
   "execution_count": null,
   "metadata": {},
   "outputs": [],
   "source": []
  },
  {
   "cell_type": "code",
   "execution_count": null,
   "metadata": {},
   "outputs": [],
   "source": []
  }
 ],
 "metadata": {
  "kernelspec": {
   "display_name": "Python 3",
   "language": "python",
   "name": "python3"
  },
  "language_info": {
   "codemirror_mode": {
    "name": "ipython",
    "version": 3
   },
   "file_extension": ".py",
   "mimetype": "text/x-python",
   "name": "python",
   "nbconvert_exporter": "python",
   "pygments_lexer": "ipython3",
   "version": "3.7.6"
  }
 },
 "nbformat": 4,
 "nbformat_minor": 4
}
