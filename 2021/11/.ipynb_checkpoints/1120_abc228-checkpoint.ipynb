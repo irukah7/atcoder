{
 "cells": [
  {
   "cell_type": "code",
   "execution_count": 60,
   "metadata": {},
   "outputs": [
    {
     "name": "stdin",
     "output_type": "stream",
     "text": [
      " 0 0 0\n"
     ]
    },
    {
     "name": "stdout",
     "output_type": "stream",
     "text": [
      "No\n"
     ]
    }
   ],
   "source": [
    "S, T, X = map(int, input().split())\n",
    "\n",
    "ret = 'No'\n",
    "if S > T:\n",
    "    T += 24\n",
    "if S > X:\n",
    "    X += 24\n",
    "if X+0.5 >= S and X+0.5 <= T:\n",
    "    ret = 'Yes'\n",
    "print(ret)"
   ]
  },
  {
   "cell_type": "code",
   "execution_count": 73,
   "metadata": {},
   "outputs": [
    {
     "name": "stdin",
     "output_type": "stream",
     "text": [
      " 4 2\n",
      " 3 1 1 2\n"
     ]
    },
    {
     "name": "stdout",
     "output_type": "stream",
     "text": [
      "3\n"
     ]
    }
   ],
   "source": [
    "N, X = map(int, input().split())\n",
    "A = list(map(int, input().split()))\n",
    "\n",
    "l = []\n",
    "i = X\n",
    "l.append(i)\n",
    "for _ in range(len(set(A))):\n",
    "    if A[i-1] in l:\n",
    "        break\n",
    "    l.append(A[i-1])\n",
    "    i = A[i-1]\n",
    "print(len(l))"
   ]
  },
  {
   "cell_type": "code",
   "execution_count": 83,
   "metadata": {},
   "outputs": [
    {
     "name": "stdin",
     "output_type": "stream",
     "text": [
      " 20 12\n",
      " 7 11 10 1 7 20 14 2 17 3 2 5 19 20 8 14 18 2 10 10\n"
     ]
    },
    {
     "name": "stdout",
     "output_type": "stream",
     "text": [
      "7\n"
     ]
    }
   ],
   "source": [
    "N, X = map(int, input().split())\n",
    "A = [0] + list(map(int, input().split()))\n",
    " \n",
    "l = set()\n",
    "while True:\n",
    "    if X in l or len(l)==N:\n",
    "        break\n",
    "    l.add(X)\n",
    "    X = A[X]\n",
    "print(len(l))"
   ]
  },
  {
   "cell_type": "code",
   "execution_count": 71,
   "metadata": {},
   "outputs": [
    {
     "data": {
      "text/plain": [
       "13"
      ]
     },
     "execution_count": 71,
     "metadata": {},
     "output_type": "execute_result"
    }
   ],
   "source": [
    "n,x = map(int,input().split())\n",
    "A = [0]+list(map(int,input().split()))\n",
    "\n",
    "ans = set()\n",
    "\n",
    "while True:\n",
    "    if x in ans or len(ans)==n:\n",
    "        break\n",
    "    ans.add(x)\n",
    "    x = A[x]\n",
    "print(len(ans))\n",
    "\n"
   ]
  },
  {
   "cell_type": "code",
   "execution_count": null,
   "metadata": {},
   "outputs": [],
   "source": []
  }
 ],
 "metadata": {
  "kernelspec": {
   "display_name": "Python 3",
   "language": "python",
   "name": "python3"
  },
  "language_info": {
   "codemirror_mode": {
    "name": "ipython",
    "version": 3
   },
   "file_extension": ".py",
   "mimetype": "text/x-python",
   "name": "python",
   "nbconvert_exporter": "python",
   "pygments_lexer": "ipython3",
   "version": "3.7.6"
  }
 },
 "nbformat": 4,
 "nbformat_minor": 4
}
