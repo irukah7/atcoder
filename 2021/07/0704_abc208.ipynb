{
 "cells": [
  {
   "cell_type": "code",
   "execution_count": 21,
   "metadata": {},
   "outputs": [
    {
     "name": "stdin",
     "output_type": "stream",
     "text": [
      " 3 4\n"
     ]
    },
    {
     "name": "stdout",
     "output_type": "stream",
     "text": [
      "Yes\n"
     ]
    }
   ],
   "source": [
    "A, B = map(int, input().split())\n",
    "n = B/A\n",
    "print('Yes' if n<=6 and n*A>=A else 'No')"
   ]
  },
  {
   "cell_type": "code",
   "execution_count": 39,
   "metadata": {},
   "outputs": [
    {
     "name": "stdin",
     "output_type": "stream",
     "text": [
      " 10000000\n"
     ]
    },
    {
     "name": "stdout",
     "output_type": "stream",
     "text": [
      "24\n"
     ]
    }
   ],
   "source": [
    "import math\n",
    "P = int(input())\n",
    "\n",
    "cnt = 0\n",
    "for i in range(11, 0, -1):\n",
    "    tmp = math.factorial(i)\n",
    "    if P/tmp>0:\n",
    "        cnt += math.floor(P//tmp)\n",
    "        P -= tmp*(P//tmp)\n",
    "\n",
    "print(cnt)"
   ]
  },
  {
   "cell_type": "code",
   "execution_count": 122,
   "metadata": {},
   "outputs": [
    {
     "name": "stdin",
     "output_type": "stream",
     "text": [
      " 2 7\n",
      " 1 8\n"
     ]
    },
    {
     "name": "stdout",
     "output_type": "stream",
     "text": [
      "4\n",
      "3\n"
     ]
    }
   ],
   "source": [
    "N, K = map(int, input().split())\n",
    "A = list(map(int, input().split()))\n",
    "B = {}\n",
    "for a in A:\n",
    "    B[a]=0\n",
    "while K>0:\n",
    "    if K>=N:\n",
    "        for a in A:\n",
    "            B[a]+=K//N\n",
    "        K -= K//N * N\n",
    "    else:\n",
    "        B = dict(sorted(B.items(), key=lambda x:x[0]))\n",
    "        A_sort = sorted(A)\n",
    "        for i in range(0, K):\n",
    "            B[A_sort[i]] += 1\n",
    "            K -= 1\n",
    "\n",
    "for a in A:\n",
    "    print(B[a])"
   ]
  },
  {
   "cell_type": "code",
   "execution_count": null,
   "metadata": {},
   "outputs": [],
   "source": [
    "N, M = map(int, input().split())\n",
    "\n"
   ]
  },
  {
   "cell_type": "code",
   "execution_count": null,
   "metadata": {},
   "outputs": [],
   "source": []
  }
 ],
 "metadata": {
  "kernelspec": {
   "display_name": "Python 3",
   "language": "python",
   "name": "python3"
  },
  "language_info": {
   "codemirror_mode": {
    "name": "ipython",
    "version": 3
   },
   "file_extension": ".py",
   "mimetype": "text/x-python",
   "name": "python",
   "nbconvert_exporter": "python",
   "pygments_lexer": "ipython3",
   "version": "3.7.5"
  }
 },
 "nbformat": 4,
 "nbformat_minor": 4
}
