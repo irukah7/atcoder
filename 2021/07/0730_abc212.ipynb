{
 "cells": [
  {
   "cell_type": "code",
   "execution_count": 4,
   "metadata": {},
   "outputs": [
    {
     "name": "stdin",
     "output_type": "stream",
     "text": [
      " 100 2\n"
     ]
    },
    {
     "name": "stdout",
     "output_type": "stream",
     "text": [
      "Alloy\n"
     ]
    }
   ],
   "source": [
    "A, B = map(int, input().split())\n",
    "\n",
    "if A==0 and B>0:\n",
    "    print('Silver')\n",
    "elif A>0 and B==0:\n",
    "    print('Gold')\n",
    "else:\n",
    "    print('Alloy')"
   ]
  },
  {
   "cell_type": "code",
   "execution_count": 31,
   "metadata": {},
   "outputs": [
    {
     "name": "stdin",
     "output_type": "stream",
     "text": [
      " 0112\n"
     ]
    },
    {
     "name": "stdout",
     "output_type": "stream",
     "text": [
      "Strong\n"
     ]
    }
   ],
   "source": [
    "X = list(input())\n",
    "\n",
    "ret = 'Weak'\n",
    "if len(set(X))==1:\n",
    "    ret = 'Weak'\n",
    "else:\n",
    "    for i in range(len(X)-1):\n",
    "        tmp = int(X[i])+1\n",
    "        if tmp==10:\n",
    "            tmp = 0\n",
    "        if tmp == int(X[i+1]):\n",
    "            pass\n",
    "        else:\n",
    "            ret = 'Strong'\n",
    "print(ret)"
   ]
  },
  {
   "cell_type": "code",
   "execution_count": 46,
   "metadata": {},
   "outputs": [
    {
     "name": "stdin",
     "output_type": "stream",
     "text": [
      " 6 6\n",
      " 1 2 3 4 5 6\n",
      " 2 3 4 5 6 7\n"
     ]
    },
    {
     "name": "stdout",
     "output_type": "stream",
     "text": [
      "0\n"
     ]
    }
   ],
   "source": [
    "#TLE\n",
    "N, M = map(int, input().split())\n",
    "A = sorted(list(map(int, input().split())))\n",
    "B = sorted(list(map(int, input().split())))\n",
    "\n",
    "ret = False\n",
    "mindiff = 10000\n",
    "for i in range(N):\n",
    "    for j in range(M):\n",
    "        mindiff = min(mindiff,abs(A[i]-B[j]))\n",
    "        if mindiff==0:\n",
    "            ret = True\n",
    "            break\n",
    "    if ret:\n",
    "        break\n",
    "        \n",
    "print(mindiff)"
   ]
  },
  {
   "cell_type": "code",
   "execution_count": 39,
   "metadata": {},
   "outputs": [
    {
     "name": "stdin",
     "output_type": "stream",
     "text": [
      " 6 6\n",
      " 1 2 3 4 5 6\n",
      " 3 4 5 6 7 8\n"
     ]
    },
    {
     "name": "stdout",
     "output_type": "stream",
     "text": [
      "3\n"
     ]
    }
   ],
   "source": [
    "N, M = map(int, input().split())\n",
    "A = list(map(int, input().split()))\n",
    "B = list(map(int, input().split()))\n",
    "\n",
    "maxa, mina = max(A), min(A)\n",
    "maxb, minb = max(B), min(B)\n",
    "\n",
    "mindiff = min(abs(maxa-minb), abs(maxb-mina))\n",
    "\n",
    "print(mindiff)"
   ]
  },
  {
   "cell_type": "code",
   "execution_count": 50,
   "metadata": {},
   "outputs": [
    {
     "name": "stdin",
     "output_type": "stream",
     "text": [
      " 6 8\n",
      " 82 76 82 82 71 70\n",
      " 17 39 67 2 45 35 22 24\n"
     ]
    },
    {
     "name": "stdout",
     "output_type": "stream",
     "text": [
      "15\n"
     ]
    }
   ],
   "source": [
    "N, M = map(int, input().split())\n",
    "A = sorted(list(map(int, input().split())))\n",
    "B = sorted(list(map(int, input().split()))\n",
    "\n",
    "i, j, mindiff = 0, 0, 1e9\n",
    "while i<N and j<M:\n",
    "    mindiff = min(mindiff, abs(A[i]-B[j]))\n",
    "    if A[i]-B[j]>0:\n",
    "        j += 1\n",
    "    else:\n",
    "        i += 1\n",
    "    if mindiff==0:\n",
    "        break\n",
    "print(mindiff)"
   ]
  },
  {
   "cell_type": "code",
   "execution_count": null,
   "metadata": {},
   "outputs": [],
   "source": []
  }
 ],
 "metadata": {
  "kernelspec": {
   "display_name": "Python 3",
   "language": "python",
   "name": "python3"
  },
  "language_info": {
   "codemirror_mode": {
    "name": "ipython",
    "version": 3
   },
   "file_extension": ".py",
   "mimetype": "text/x-python",
   "name": "python",
   "nbconvert_exporter": "python",
   "pygments_lexer": "ipython3",
   "version": "3.7.6"
  }
 },
 "nbformat": 4,
 "nbformat_minor": 4
}
