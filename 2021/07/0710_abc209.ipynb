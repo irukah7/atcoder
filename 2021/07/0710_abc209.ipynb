{
 "cells": [
  {
   "cell_type": "code",
   "execution_count": 30,
   "metadata": {},
   "outputs": [
    {
     "name": "stdin",
     "output_type": "stream",
     "text": [
      " 3 3 \n"
     ]
    },
    {
     "name": "stdout",
     "output_type": "stream",
     "text": [
      "1\n"
     ]
    }
   ],
   "source": [
    "A, B = map(int, input().split())\n",
    "C = B - A\n",
    "ret = 0\n",
    "if C==0:\n",
    "    ret = 1\n",
    "elif C<0:\n",
    "    ret = 0\n",
    "else:\n",
    "    ret = C+1\n",
    "print(ret)"
   ]
  },
  {
   "cell_type": "code",
   "execution_count": 35,
   "metadata": {},
   "outputs": [
    {
     "name": "stdin",
     "output_type": "stream",
     "text": [
      " 8 30\n",
      " 3 1 4 1 5 9 2 6\n"
     ]
    },
    {
     "name": "stdout",
     "output_type": "stream",
     "text": [
      "Yes\n"
     ]
    }
   ],
   "source": [
    "N, X = map(int, input().split())\n",
    "A = list(map(int, input().split()))\n",
    "\n",
    "for i in range(N):\n",
    "    if i%2==1:\n",
    "        X -= A[i]-1\n",
    "    else:\n",
    "        X -= A[i]\n",
    "print('Yes' if X>=0 else 'No')"
   ]
  },
  {
   "cell_type": "code",
   "execution_count": 78,
   "metadata": {},
   "outputs": [
    {
     "name": "stdin",
     "output_type": "stream",
     "text": [
      " 10\n",
      " 999999917 999999914 999999923 999999985 999999907 999999965 999999914 999999908 999999951 999999979\n"
     ]
    },
    {
     "name": "stdout",
     "output_type": "stream",
     "text": [
      "260886195\n"
     ]
    }
   ],
   "source": [
    "N = int(input())\n",
    "C = list(map(int, input().split()))\n",
    "ans = 1\n",
    "i=0\n",
    "cnt=0\n",
    "tmp = 0\n",
    "while i<len(C):\n",
    "    tmp_cnt = 0\n",
    "    if tmp>C[i]:\n",
    "        tmp_cnt = tmp-C[i]\n",
    "    ans = (ans*(C[i]-cnt-tmp_cnt))%(1e9+7)\n",
    "    tmp = C[i]\n",
    "    i += 1\n",
    "    cnt += 1\n",
    "print(int(ans))"
   ]
  },
  {
   "cell_type": "code",
   "execution_count": 79,
   "metadata": {},
   "outputs": [
    {
     "name": "stdin",
     "output_type": "stream",
     "text": [
      " 10\n",
      " 999999917 999999914 999999923 999999985 999999907 999999965 999999914 999999908 999999951 999999979\n"
     ]
    },
    {
     "name": "stdout",
     "output_type": "stream",
     "text": [
      "405924645\n"
     ]
    }
   ],
   "source": [
    "N = int(input())\n",
    "C = list(map(int, input().split()))\n",
    "\n",
    "C.sort()\n",
    "ans = C[0]\n",
    "\n",
    "for i in range(1, N):\n",
    "    ans *= (C[i]-i)\n",
    "    ans %= int(1e9+7)\n",
    "    \n",
    "print(ans)"
   ]
  },
  {
   "cell_type": "code",
   "execution_count": 65,
   "metadata": {},
   "outputs": [
    {
     "data": {
      "text/plain": [
       "[1, 3]"
      ]
     },
     "execution_count": 65,
     "metadata": {},
     "output_type": "execute_result"
    }
   ],
   "source": [
    "C"
   ]
  },
  {
   "cell_type": "code",
   "execution_count": null,
   "metadata": {},
   "outputs": [],
   "source": []
  }
 ],
 "metadata": {
  "kernelspec": {
   "display_name": "Python 3",
   "language": "python",
   "name": "python3"
  },
  "language_info": {
   "codemirror_mode": {
    "name": "ipython",
    "version": 3
   },
   "file_extension": ".py",
   "mimetype": "text/x-python",
   "name": "python",
   "nbconvert_exporter": "python",
   "pygments_lexer": "ipython3",
   "version": "3.7.6"
  }
 },
 "nbformat": 4,
 "nbformat_minor": 4
}
