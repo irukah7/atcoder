{
 "cells": [
  {
   "cell_type": "code",
   "execution_count": 48,
   "metadata": {},
   "outputs": [
    {
     "name": "stdin",
     "output_type": "stream",
     "text": [
      " 5\n",
      " 1\n",
      " 4\n",
      " 2\n"
     ]
    },
    {
     "name": "stdout",
     "output_type": "stream",
     "text": [
      "YES\n"
     ]
    }
   ],
   "source": [
    "N = int(input())\n",
    "ng = [list(map(int, input().split())) for _ in range(3)]\n",
    "ng = sum(ng, [])\n",
    "\n",
    "if N in ng:\n",
    "    ret = \"NO\"\n",
    "else:\n",
    "    flag = False\n",
    "    for i in range(100):\n",
    "        if N-3 in ng:\n",
    "            if N-2 in ng:\n",
    "                if N-1 in ng:\n",
    "                    flag = True\n",
    "                    ret = \"NO\"\n",
    "                else:\n",
    "                    N -= 1\n",
    "            else:\n",
    "                N -= 2\n",
    "        else:\n",
    "            N -= 3\n",
    "            \n",
    "        if flag:\n",
    "            break\n",
    "        ret = \"YES\" if N <= 0 else \"NO\"\n",
    "        \n",
    "            \n",
    "print(ret)"
   ]
  },
  {
   "cell_type": "code",
   "execution_count": 32,
   "metadata": {},
   "outputs": [
    {
     "data": {
      "text/plain": [
       "[57, 121, 244]"
      ]
     },
     "execution_count": 32,
     "metadata": {},
     "output_type": "execute_result"
    }
   ],
   "source": [
    "ng"
   ]
  },
  {
   "cell_type": "code",
   "execution_count": null,
   "metadata": {},
   "outputs": [],
   "source": [
    "\n",
    "300\n",
    "57\n",
    "121\n",
    "244"
   ]
  },
  {
   "cell_type": "code",
   "execution_count": 29,
   "metadata": {},
   "outputs": [
    {
     "data": {
      "text/plain": [
       "'YES'"
      ]
     },
     "execution_count": 29,
     "metadata": {},
     "output_type": "execute_result"
    }
   ],
   "source": [
    "ret"
   ]
  },
  {
   "cell_type": "code",
   "execution_count": null,
   "metadata": {},
   "outputs": [],
   "source": []
  }
 ],
 "metadata": {
  "kernelspec": {
   "display_name": "Python 3",
   "language": "python",
   "name": "python3"
  },
  "language_info": {
   "codemirror_mode": {
    "name": "ipython",
    "version": 3
   },
   "file_extension": ".py",
   "mimetype": "text/x-python",
   "name": "python",
   "nbconvert_exporter": "python",
   "pygments_lexer": "ipython3",
   "version": "3.7.5"
  }
 },
 "nbformat": 4,
 "nbformat_minor": 4
}
