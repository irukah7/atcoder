{
 "cells": [
  {
   "cell_type": "code",
   "execution_count": 3,
   "metadata": {},
   "outputs": [
    {
     "name": "stdin",
     "output_type": "stream",
     "text": [
      " 7\n",
      " ooooooo\n"
     ]
    },
    {
     "name": "stdout",
     "output_type": "stream",
     "text": [
      "Yes\n"
     ]
    }
   ],
   "source": [
    "N = int(input())\n",
    "S = input()\n",
    "\n",
    "if S[N-1]=='o':\n",
    "    print('Yes')\n",
    "else:\n",
    "    print('No')"
   ]
  },
  {
   "cell_type": "code",
   "execution_count": 21,
   "metadata": {},
   "outputs": [
    {
     "name": "stdin",
     "output_type": "stream",
     "text": [
      " 5 11 12 16 25 17 18 1 7 10 4 23 20 3 2 24 26 19 14 9 6 22 8 13 15 21\n"
     ]
    },
    {
     "name": "stdout",
     "output_type": "stream",
     "text": [
      "eklpyqragjdwtcbxzsnifvhmou"
     ]
    }
   ],
   "source": [
    "P = list(map(int, input().split()))\n",
    "for p in P:\n",
    "    print(chr(96+p), end='')"
   ]
  },
  {
   "cell_type": "code",
   "execution_count": 121,
   "metadata": {},
   "outputs": [
    {
     "name": "stdin",
     "output_type": "stream",
     "text": [
      " 5\n"
     ]
    },
    {
     "name": "stdout",
     "output_type": "stream",
     "text": [
      "ue [[2, 2], [3, 1], [3, 2], [3, 3]]\n",
      "sita [[2, 3], [3, 2], [3, 3], [3, 4]]\n",
      "sita [[2, 4], [3, 3], [3, 4], [3, 5]]\n",
      "sita [[2, 5], [3, 4], [3, 5], [3, 6]]\n",
      "sita [[2, 6], [3, 5], [3, 6], [3, 7]]\n",
      "sita [[2, 7], [3, 6], [3, 7], [3, 8]]\n",
      "ue [[3, 2], [4, 1], [4, 2], [4, 3]]\n",
      "sita [[3, 3], [4, 2], [4, 3], [4, 4]]\n",
      "sita [[3, 4], [4, 3], [4, 4], [4, 5]]\n",
      "sita [[3, 5], [4, 4], [4, 5], [4, 6]]\n",
      "sita [[3, 6], [4, 5], [4, 6], [4, 7]]\n",
      "sita [[3, 7], [4, 6], [4, 7], [4, 8]]\n",
      "ue [[4, 2], [5, 1], [5, 2], [5, 3]]\n",
      "sita [[4, 3], [5, 2], [5, 3], [5, 4]]\n",
      "sita [[4, 4], [5, 3], [5, 4], [5, 5]]\n",
      "sita [[4, 5], [5, 4], [5, 5], [5, 6]]\n",
      "sita [[4, 6], [5, 5], [5, 6], [5, 7]]\n",
      "sita [[4, 7], [5, 6], [5, 7], [5, 8]]\n",
      "ue [[5, 2], [6, 1], [6, 2], [6, 3]]\n",
      "sita [[5, 3], [6, 2], [6, 3], [6, 4]]\n",
      "sita [[5, 4], [6, 3], [6, 4], [6, 5]]\n",
      "sita [[5, 5], [6, 4], [6, 5], [6, 6]]\n",
      "sita [[5, 6], [6, 5], [6, 6], [6, 7]]\n",
      "sita [[5, 7], [6, 6], [6, 7], [6, 8]]\n",
      "ue [[6, 2], [7, 1], [7, 2], [7, 3]]\n",
      "sita [[6, 3], [7, 2], [7, 3], [7, 4]]\n",
      "sita [[6, 4], [7, 3], [7, 4], [7, 5]]\n",
      "sita [[6, 5], [7, 4], [7, 5], [7, 6]]\n",
      "sita [[6, 6], [7, 5], [7, 6], [7, 7]]\n",
      "sita [[6, 7], [7, 6], [7, 7], [7, 8]]\n",
      "No\n"
     ]
    }
   ],
   "source": [
    "import numpy as np\n",
    "\n",
    "N = int(input())\n",
    "# S = [input() for _ in range(N)]\n",
    "# T = [input() for _ in range(N)]\n",
    "S = ['.....', '..#..', '.###.', '.....', '.....']\n",
    "T = ['.....', '.....', '....#', '...##', '....#']\n",
    "l_s = []\n",
    "l_t = []\n",
    "ret = 'No'\n",
    "\n",
    "for i in range(N):\n",
    "    for j in range(N):\n",
    "        if(S[i][j]=='#'):\n",
    "            l_s.append([i,j])\n",
    "        if(T[i][j]=='#'):\n",
    "            l_t.append([i,j])\n",
    "    \n",
    "if(l_s!=l_t):\n",
    "    for _ in range(N):\n",
    "        l_s = list(map(lambda x: [x[0]+1, x[1]], l_s))\n",
    "        print('ue',l_s)\n",
    "        if(l_s==l_t):\n",
    "            ret = 'Yes'\n",
    "            break\n",
    "        copy_s = l_s\n",
    "        for _ in range(N):\n",
    "            copy_s = list(map(lambda x: [x[0], x[1]+1], copy_s))\n",
    "            print('sita',copy_s)\n",
    "            if(copy_s==l_t):\n",
    "                ret = 'Yes'\n",
    "                break\n",
    "print(ret)"
   ]
  },
  {
   "cell_type": "code",
   "execution_count": 108,
   "metadata": {},
   "outputs": [
    {
     "data": {
      "text/plain": [
       "[[1, 2], [2, 1], [2, 2], [2, 3]]"
      ]
     },
     "execution_count": 108,
     "metadata": {},
     "output_type": "execute_result"
    }
   ],
   "source": [
    "l_s"
   ]
  },
  {
   "cell_type": "code",
   "execution_count": 109,
   "metadata": {},
   "outputs": [
    {
     "data": {
      "text/plain": [
       "[[2, 4], [3, 3], [3, 4], [4, 4]]"
      ]
     },
     "execution_count": 109,
     "metadata": {},
     "output_type": "execute_result"
    }
   ],
   "source": [
    "l_t"
   ]
  },
  {
   "cell_type": "code",
   "execution_count": 117,
   "metadata": {},
   "outputs": [],
   "source": [
    "copy_s.reverse()"
   ]
  },
  {
   "cell_type": "code",
   "execution_count": 119,
   "metadata": {},
   "outputs": [
    {
     "data": {
      "text/plain": [
       "[[2, 3], [3, 2], [3, 3], [3, 4]]"
      ]
     },
     "execution_count": 119,
     "metadata": {},
     "output_type": "execute_result"
    }
   ],
   "source": [
    "copy_s"
   ]
  },
  {
   "cell_type": "code",
   "execution_count": null,
   "metadata": {},
   "outputs": [],
   "source": []
  }
 ],
 "metadata": {
  "kernelspec": {
   "display_name": "Python 3",
   "language": "python",
   "name": "python3"
  },
  "language_info": {
   "codemirror_mode": {
    "name": "ipython",
    "version": 3
   },
   "file_extension": ".py",
   "mimetype": "text/x-python",
   "name": "python",
   "nbconvert_exporter": "python",
   "pygments_lexer": "ipython3",
   "version": "3.7.6"
  }
 },
 "nbformat": 4,
 "nbformat_minor": 4
}
