{
 "cells": [
  {
   "cell_type": "code",
   "execution_count": 9,
   "metadata": {},
   "outputs": [
    {
     "name": "stdin",
     "output_type": "stream",
     "text": [
      " 123 456 100\n"
     ]
    },
    {
     "name": "stdout",
     "output_type": "stream",
     "text": [
      "200\n"
     ]
    }
   ],
   "source": [
    "A, B, C = map(int, input().split())\n",
    "\n",
    "i = 1\n",
    "while True:\n",
    "    if C*i>=A and C*i<=B:\n",
    "        print(C*i)\n",
    "        break\n",
    "    if C*i>B:\n",
    "        print(-1)\n",
    "        break\n",
    "    i += 1\n"
   ]
  },
  {
   "cell_type": "code",
   "execution_count": 14,
   "metadata": {},
   "outputs": [
    {
     "name": "stdin",
     "output_type": "stream",
     "text": [
      " 7\n",
      " 123 456\n"
     ]
    },
    {
     "name": "stdout",
     "output_type": "stream",
     "text": [
      "15642\n"
     ]
    }
   ],
   "source": [
    "K = int(input())\n",
    "A, B = map(int, input().split())\n",
    "a = int(str(A), K)\n",
    "b = int(str(B), K)\n",
    "\n",
    "print(a*b)"
   ]
  },
  {
   "cell_type": "code",
   "execution_count": 34,
   "metadata": {},
   "outputs": [
    {
     "name": "stdin",
     "output_type": "stream",
     "text": [
      " 3\n",
      " 5 10 15\n",
      " 30\n"
     ]
    },
    {
     "name": "stdout",
     "output_type": "stream",
     "text": [
      "4\n"
     ]
    }
   ],
   "source": [
    "N = int(input())\n",
    "A = list(map(int, input().split()))\n",
    "X = int(input())\n",
    "\n",
    "i = 0\n",
    "n = 0\n",
    "cnt = 0\n",
    "if X>=sum(A):\n",
    "    tmpn = X//sum(A)\n",
    "    n += tmpn*sum(A)\n",
    "    cnt += tmpn*len(A)\n",
    "    while True:\n",
    "        n += A[i]\n",
    "        cnt += 1\n",
    "        if n>X:\n",
    "            break\n",
    "        i += 1\n",
    "        if i==N:\n",
    "            i = 0\n",
    "else:\n",
    "    for a in A:\n",
    "        n += a\n",
    "        cnt += 1\n",
    "        if n>X:\n",
    "            break\n",
    "        \n",
    "print(cnt)"
   ]
  },
  {
   "cell_type": "code",
   "execution_count": 106,
   "metadata": {},
   "outputs": [
    {
     "name": "stdin",
     "output_type": "stream",
     "text": [
      " 5\n",
      " 0 1 2 3 4\n"
     ]
    },
    {
     "name": "stdout",
     "output_type": "stream",
     "text": [
      "5\n",
      "0\n",
      "2\n",
      "1\n",
      "0\n",
      "0\n",
      "0\n",
      "0\n",
      "0\n",
      "0\n"
     ]
    }
   ],
   "source": [
    "N = int(input())\n",
    "A = list(map(int, input().split()))\n",
    "list_a = []\n",
    "ff_a = A.copy()\n",
    "fg_a = A.copy()\n",
    "gf_a = A.copy()\n",
    "gg_a = A.copy()\n",
    "\n",
    "flg = True\n",
    "while flg:\n",
    "    if len(ff_a)!=1:\n",
    "        for i in range(2):\n",
    "            if i == 0:\n",
    "                ff_a[1] = (ff_a[0]+ff_a[1])%10%998244353\n",
    "                fg_a[1] = (fg_a[0]+fg_a[1])%10%998244353\n",
    "                gf_a[1] = (gf_a[0]*gf_a[1])%10%998244353\n",
    "                gg_a[1] = (gg_a[0]*gg_a[1])%10%998244353\n",
    "                ff_a = ff_a[1:]\n",
    "                fg_a = fg_a[1:]\n",
    "                gf_a = gf_a[1:]\n",
    "                gg_a = gg_a[1:]\n",
    "            if i == 1:\n",
    "                ff_a[1] = (ff_a[0]+ff_a[1])%10%998244353\n",
    "                fg_a[1] = (fg_a[0]*fg_a[1])%10%998244353\n",
    "                gf_a[1] = (gf_a[0]+gf_a[1])%10%998244353\n",
    "                gg_a[1] = (gg_a[0]*gg_a[1])%10%998244353\n",
    "                ff_a = ff_a[1:]\n",
    "                fg_a = fg_a[1:]\n",
    "                gf_a = gf_a[1:]\n",
    "                gg_a = gg_a[1:]\n",
    "                list_a.append(ff_a[0])\n",
    "                list_a.append(fg_a[0])\n",
    "                list_a.append(gf_a[0])\n",
    "                list_a.append(gg_a[0])\n",
    "    else:\n",
    "        flg = False\n",
    "\n",
    "\n",
    "for i in range(10):\n",
    "    if list_a.count(i)!=0:\n",
    "        print(list_a.count(i), sep='\\n')\n",
    "    else:\n",
    "        print(0, sep='\\n')"
   ]
  },
  {
   "cell_type": "code",
   "execution_count": 82,
   "metadata": {},
   "outputs": [
    {
     "data": {
      "text/plain": [
       "[3, 2, 2, 0, 0, 0, 0, 0]"
      ]
     },
     "execution_count": 82,
     "metadata": {},
     "output_type": "execute_result"
    }
   ],
   "source": [
    "list_a"
   ]
  },
  {
   "cell_type": "code",
   "execution_count": 90,
   "metadata": {},
   "outputs": [],
   "source": [
    "listaaa=[1,2,3,4,5]"
   ]
  },
  {
   "cell_type": "code",
   "execution_count": 93,
   "metadata": {},
   "outputs": [],
   "source": [
    "listaaa[2] = 10"
   ]
  },
  {
   "cell_type": "code",
   "execution_count": 94,
   "metadata": {},
   "outputs": [
    {
     "data": {
      "text/plain": [
       "[1, 2, 10, 4, 5]"
      ]
     },
     "execution_count": 94,
     "metadata": {},
     "output_type": "execute_result"
    }
   ],
   "source": [
    "listaaa"
   ]
  },
  {
   "cell_type": "code",
   "execution_count": 102,
   "metadata": {},
   "outputs": [
    {
     "data": {
      "text/plain": [
       "3"
      ]
     },
     "execution_count": 102,
     "metadata": {},
     "output_type": "execute_result"
    }
   ],
   "source": [
    "53%10%998244353"
   ]
  },
  {
   "cell_type": "code",
   "execution_count": null,
   "metadata": {},
   "outputs": [],
   "source": []
  }
 ],
 "metadata": {
  "kernelspec": {
   "display_name": "Python 3",
   "language": "python",
   "name": "python3"
  },
  "language_info": {
   "codemirror_mode": {
    "name": "ipython",
    "version": 3
   },
   "file_extension": ".py",
   "mimetype": "text/x-python",
   "name": "python",
   "nbconvert_exporter": "python",
   "pygments_lexer": "ipython3",
   "version": "3.7.6"
  }
 },
 "nbformat": 4,
 "nbformat_minor": 4
}
