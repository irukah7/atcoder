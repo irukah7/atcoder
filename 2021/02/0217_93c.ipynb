{
 "cells": [
  {
   "cell_type": "code",
   "execution_count": 28,
   "metadata": {},
   "outputs": [
    {
     "name": "stdin",
     "output_type": "stream",
     "text": [
      " 2 6 3\n"
     ]
    },
    {
     "name": "stdout",
     "output_type": "stream",
     "text": [
      "5\n"
     ]
    }
   ],
   "source": [
    "A, B, C = map(int, input().split())\n",
    "\n",
    "count = 0\n",
    "v = [A, B, C]\n",
    "v.sort()\n",
    "while not(v[0] == v[1] == v[2]):\n",
    " \n",
    "    if v[2] - v[0] >= 2:\n",
    "        v[0] += 2\n",
    "    else:\n",
    "        if v[0] == v[1]:\n",
    "            v[0] += 1\n",
    "            v[1] += 1\n",
    "        elif v[1] == v[2]:\n",
    "            v[0] += 2\n",
    " \n",
    "    v.sort()\n",
    "    count += 1\n",
    "    \n",
    "print(count)"
   ]
  },
  {
   "cell_type": "code",
   "execution_count": null,
   "metadata": {},
   "outputs": [],
   "source": [
    "2 5 4\n",
    "\n",
    "2,4,5\n",
    "4,4,5\n",
    "5,5,5"
   ]
  },
  {
   "cell_type": "code",
   "execution_count": null,
   "metadata": {},
   "outputs": [],
   "source": [
    "2,6,3\n",
    "\n",
    "2,3,6\n",
    "3,4,6\n",
    "4,5,6\n",
    "5,6,6\n",
    "7,6,6\n",
    "7,7,7"
   ]
  }
 ],
 "metadata": {
  "kernelspec": {
   "display_name": "Python 3",
   "language": "python",
   "name": "python3"
  },
  "language_info": {
   "codemirror_mode": {
    "name": "ipython",
    "version": 3
   },
   "file_extension": ".py",
   "mimetype": "text/x-python",
   "name": "python",
   "nbconvert_exporter": "python",
   "pygments_lexer": "ipython3",
   "version": "3.7.5"
  }
 },
 "nbformat": 4,
 "nbformat_minor": 4
}
