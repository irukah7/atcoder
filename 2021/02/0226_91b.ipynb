{
 "cells": [
  {
   "cell_type": "code",
   "execution_count": 128,
   "metadata": {},
   "outputs": [
    {
     "name": "stdin",
     "output_type": "stream",
     "text": [
      " 4\n",
      " a\n",
      " a\n",
      " a\n",
      " s\n",
      " 3\n",
      " a\n",
      " a\n",
      " a\n"
     ]
    },
    {
     "name": "stdout",
     "output_type": "stream",
     "text": [
      "1\n"
     ]
    }
   ],
   "source": [
    "N = int(input())\n",
    "S = [input() for _ in range(N)]\n",
    "M = int(input())\n",
    "T = [input() for _ in range(M)]\n",
    "\n",
    "tmp = S[0]\n",
    "money = 0\n",
    "\n",
    "for s in set(S):\n",
    "    if S.count(s) > S.count(tmp)-T.count(tmp):\n",
    "        if S.count(s) > T.count(s):\n",
    "            tmp = s\n",
    "\n",
    "if S.count(tmp) - T.count(tmp) >= 0:\n",
    "    money += S.count(tmp) - T.count(tmp)\n",
    "else:\n",
    "    money = 0\n",
    "\n",
    "print(money)"
   ]
  },
  {
   "cell_type": "code",
   "execution_count": 129,
   "metadata": {},
   "outputs": [
    {
     "name": "stdin",
     "output_type": "stream",
     "text": [
      " 1\n",
      " a\n",
      " 1\n",
      " a\n"
     ]
    },
    {
     "name": "stdout",
     "output_type": "stream",
     "text": [
      "0\n"
     ]
    }
   ],
   "source": [
    "N = int(input())\n",
    "S = [input() for _ in range(N)]\n",
    "M = int(input())\n",
    "T = [input() for _ in range(M)]\n",
    "\n",
    "money = 0\n",
    "for s in S:\n",
    "    if S.count(s) - T.count(s) > money:\n",
    "        money = S.count(s) - T.count(s)\n",
    "\n",
    "print(money)"
   ]
  },
  {
   "cell_type": "code",
   "execution_count": 89,
   "metadata": {},
   "outputs": [
    {
     "data": {
      "text/plain": [
       "'b'"
      ]
     },
     "execution_count": 89,
     "metadata": {},
     "output_type": "execute_result"
    }
   ],
   "source": [
    "tmp"
   ]
  },
  {
   "cell_type": "code",
   "execution_count": null,
   "metadata": {},
   "outputs": [],
   "source": []
  }
 ],
 "metadata": {
  "kernelspec": {
   "display_name": "Python 3",
   "language": "python",
   "name": "python3"
  },
  "language_info": {
   "codemirror_mode": {
    "name": "ipython",
    "version": 3
   },
   "file_extension": ".py",
   "mimetype": "text/x-python",
   "name": "python",
   "nbconvert_exporter": "python",
   "pygments_lexer": "ipython3",
   "version": "3.7.5"
  }
 },
 "nbformat": 4,
 "nbformat_minor": 4
}
