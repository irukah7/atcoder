{
 "cells": [
  {
   "cell_type": "code",
   "execution_count": 15,
   "metadata": {},
   "outputs": [
    {
     "name": "stdin",
     "output_type": "stream",
     "text": [
      " 1500 2000 1600 3 2\n"
     ]
    },
    {
     "name": "stdout",
     "output_type": "stream",
     "text": [
      "7900\n"
     ]
    }
   ],
   "source": [
    "A, B, C, X, Y = map(int, input().split())\n",
    "\n",
    "ax, by = A*X, B*Y\n",
    "\n",
    "minz, maxz = min(X, Y), max(X, Y)\n",
    "min_cz, max_cz = C*minz*2, C*maxz*2\n",
    "# 差分の個数 X,Yが3,2だったら差分1 \n",
    "num = A*(X-Y) if X >= Y else B*(Y-X)\n",
    "\n",
    "if max_cz <= min_cz+num and max_cz <= ax+by:\n",
    "    print(max_cz)\n",
    "else:\n",
    "    if ax+by >= min_cz+num:\n",
    "        print(min_cz+num)\n",
    "    else:\n",
    "        print(ax+by)"
   ]
  },
  {
   "cell_type": "code",
   "execution_count": null,
   "metadata": {},
   "outputs": [],
   "source": [
    "1500 2000 1600 3 2\n",
    "7900\n",
    "\n",
    "1500 2000 1900 3 2\n",
    "8500\n",
    "\n",
    "1500 2000 500 90000 100000\n",
    "100000000"
   ]
  },
  {
   "cell_type": "code",
   "execution_count": null,
   "metadata": {},
   "outputs": [],
   "source": [
    "max_cz -> C * max(X, Y) * 2\n",
    "min_cz+num -> C * min(X, Y) * 2 + (A or B)*(X,Yの差分)\n",
    "ax+by -> A*X + B*Y"
   ]
  }
 ],
 "metadata": {
  "kernelspec": {
   "display_name": "Python 3",
   "language": "python",
   "name": "python3"
  },
  "language_info": {
   "codemirror_mode": {
    "name": "ipython",
    "version": 3
   },
   "file_extension": ".py",
   "mimetype": "text/x-python",
   "name": "python",
   "nbconvert_exporter": "python",
   "pygments_lexer": "ipython3",
   "version": "3.7.5"
  }
 },
 "nbformat": 4,
 "nbformat_minor": 4
}
