{
 "cells": [
  {
   "cell_type": "code",
   "execution_count": 22,
   "metadata": {},
   "outputs": [
    {
     "name": "stdin",
     "output_type": "stream",
     "text": [
      " 31 -41 -59 26\n"
     ]
    },
    {
     "name": "stdout",
     "output_type": "stream",
     "text": [
      "-126 -64 -36 -131\n"
     ]
    }
   ],
   "source": [
    "x1,y1,x2,y2 = map(int, input().split())\n",
    "\n",
    "x3, y3, x4, y4 = x2-(y2-y1), y2+(x2-x1), x1-(y2-y1), y1+(x2-x1)\n",
    "\n",
    "print(x3, y3, x4, y4)"
   ]
  },
  {
   "cell_type": "code",
   "execution_count": null,
   "metadata": {},
   "outputs": [],
   "source": [
    "0 0 0 1\n",
    "-1 1 -1 0\n",
    "\n",
    "2 3 6 6\n",
    "3 10 -1 7\n",
    "\n",
    "31 -41 -59 26\n",
    "-126 -64 -36 -131"
   ]
  }
 ],
 "metadata": {
  "kernelspec": {
   "display_name": "Python 3",
   "language": "python",
   "name": "python3"
  },
  "language_info": {
   "codemirror_mode": {
    "name": "ipython",
    "version": 3
   },
   "file_extension": ".py",
   "mimetype": "text/x-python",
   "name": "python",
   "nbconvert_exporter": "python",
   "pygments_lexer": "ipython3",
   "version": "3.7.5"
  }
 },
 "nbformat": 4,
 "nbformat_minor": 4
}
