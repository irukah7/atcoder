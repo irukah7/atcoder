{
 "cells": [
  {
   "cell_type": "code",
   "execution_count": 42,
   "metadata": {},
   "outputs": [
    {
     "name": "stdin",
     "output_type": "stream",
     "text": [
      " 2\n",
      " 3 1 2\n",
      " 6 1 1\n"
     ]
    },
    {
     "name": "stdout",
     "output_type": "stream",
     "text": [
      "Yes\n"
     ]
    }
   ],
   "source": [
    "N = int(input())\n",
    "X = [list(map(int, input().split())) for _ in range(N)]\n",
    "\n",
    "ret = 'No'\n",
    "tmp = X[0]\n",
    "for i in range(N):\n",
    "    if X[i][0]%2==0:\n",
    "        if (X[i][1]+X[i][2])%2==0 and (X[i][1]+X[i][2])<=X[i][0]:\n",
    "            ret = 'Yes'\n",
    "        else:\n",
    "            ret = 'No'\n",
    "            break\n",
    "    if X[i][0]%2==1:\n",
    "        if (X[i][1]+X[i][2])%2==1 and (X[i][1]+X[i][2])<=X[i][0]:\n",
    "            ret = 'Yes'\n",
    "        else:\n",
    "            ret = 'No'\n",
    "            break\n",
    "    if i >= 1:\n",
    "        if (X[i][0]-tmp[0]) <= ((X[i][1]+X[i][2]) - (tmp[1]+tmp[2])):\n",
    "            ret = 'No'\n",
    "        tmp = X[i]\n",
    "        \n",
    "print(ret)"
   ]
  },
  {
   "cell_type": "code",
   "execution_count": null,
   "metadata": {},
   "outputs": [],
   "source": [
    " 2\n",
    " 3 1 0\n",
    " 4 2 2"
   ]
  },
  {
   "cell_type": "code",
   "execution_count": null,
   "metadata": {},
   "outputs": [],
   "source": [
    " 2\n",
    " 4 1 5\n",
    " 5 1 4"
   ]
  },
  {
   "cell_type": "code",
   "execution_count": null,
   "metadata": {},
   "outputs": [],
   "source": [
    "2\n",
    "3 1 2\n",
    "6 1 1"
   ]
  },
  {
   "cell_type": "code",
   "execution_count": 36,
   "metadata": {},
   "outputs": [
    {
     "data": {
      "text/plain": [
       "1"
      ]
     },
     "execution_count": 36,
     "metadata": {},
     "output_type": "execute_result"
    }
   ],
   "source": [
    "6%5"
   ]
  },
  {
   "cell_type": "code",
   "execution_count": 38,
   "metadata": {},
   "outputs": [
    {
     "data": {
      "text/plain": [
       "1"
      ]
     },
     "execution_count": 38,
     "metadata": {},
     "output_type": "execute_result"
    }
   ],
   "source": [
    "4%3"
   ]
  },
  {
   "cell_type": "code",
   "execution_count": null,
   "metadata": {},
   "outputs": [],
   "source": []
  }
 ],
 "metadata": {
  "kernelspec": {
   "display_name": "Python 3",
   "language": "python",
   "name": "python3"
  },
  "language_info": {
   "codemirror_mode": {
    "name": "ipython",
    "version": 3
   },
   "file_extension": ".py",
   "mimetype": "text/x-python",
   "name": "python",
   "nbconvert_exporter": "python",
   "pygments_lexer": "ipython3",
   "version": "3.7.5"
  }
 },
 "nbformat": 4,
 "nbformat_minor": 4
}
