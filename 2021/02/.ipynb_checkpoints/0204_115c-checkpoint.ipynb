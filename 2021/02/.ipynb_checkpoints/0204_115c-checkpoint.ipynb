{
 "cells": [
  {
   "cell_type": "code",
   "execution_count": 35,
   "metadata": {},
   "outputs": [
    {
     "name": "stdin",
     "output_type": "stream",
     "text": [
      " 6 4\n",
      " 9\n",
      " 6\n",
      " 3\n",
      " 5\n",
      " 2\n",
      " 1\n"
     ]
    },
    {
     "name": "stdout",
     "output_type": "stream",
     "text": [
      "4\n"
     ]
    }
   ],
   "source": [
    "N, K = map(int, input().split())\n",
    "H = [int(input()) for _ in range(N)]\n",
    "\n",
    "H = sorted(H)\n",
    "f = H[:K]\n",
    "b = H[K-1:]\n",
    "\n",
    "if abs(f[0]-f[-1])>abs(b[0]-b[-1]):\n",
    "    minh = max(b)-min(b)\n",
    "else:\n",
    "    minh = max(f)-min(f)\n",
    "print(minh)"
   ]
  },
  {
   "cell_type": "code",
   "execution_count": 37,
   "metadata": {},
   "outputs": [
    {
     "name": "stdin",
     "output_type": "stream",
     "text": [
      " 5 3\n",
      " 5\n",
      " 7\n",
      " 5\n",
      " 7\n",
      " 7\n"
     ]
    },
    {
     "name": "stdout",
     "output_type": "stream",
     "text": [
      "0\n"
     ]
    }
   ],
   "source": [
    "N, K = map(int, input().split())\n",
    "H = [int(input()) for _ in range(N)]\n",
    "H = sorted(H)\n",
    "\n",
    "ans = 1e9\n",
    "for i in range(N-K+1):\n",
    "    tmp = H[i+K-1]-H[i]\n",
    "    if tmp<ans:\n",
    "        ans = tmp\n",
    "        \n",
    "print(ans)"
   ]
  },
  {
   "cell_type": "code",
   "execution_count": 30,
   "metadata": {},
   "outputs": [
    {
     "data": {
      "text/plain": [
       "[12, 14, 15]"
      ]
     },
     "execution_count": 30,
     "metadata": {},
     "output_type": "execute_result"
    }
   ],
   "source": [
    "b"
   ]
  },
  {
   "cell_type": "code",
   "execution_count": 36,
   "metadata": {},
   "outputs": [
    {
     "data": {
      "text/plain": [
       "1000000000.0"
      ]
     },
     "execution_count": 36,
     "metadata": {},
     "output_type": "execute_result"
    }
   ],
   "source": [
    "5 3\n",
    "4\n",
    "5\n",
    "5\n",
    "5\n",
    "9"
   ]
  },
  {
   "cell_type": "code",
   "execution_count": null,
   "metadata": {},
   "outputs": [],
   "source": []
  }
 ],
 "metadata": {
  "kernelspec": {
   "display_name": "Python 3",
   "language": "python",
   "name": "python3"
  },
  "language_info": {
   "codemirror_mode": {
    "name": "ipython",
    "version": 3
   },
   "file_extension": ".py",
   "mimetype": "text/x-python",
   "name": "python",
   "nbconvert_exporter": "python",
   "pygments_lexer": "ipython3",
   "version": "3.7.5"
  }
 },
 "nbformat": 4,
 "nbformat_minor": 4
}
