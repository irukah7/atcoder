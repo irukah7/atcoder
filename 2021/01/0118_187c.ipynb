{
 "cells": [
  {
   "cell_type": "code",
   "execution_count": 5,
   "metadata": {},
   "outputs": [
    {
     "name": "stdin",
     "output_type": "stream",
     "text": [
      " 10\n",
      " red\n",
      " red\n",
      " red\n",
      " !orange\n",
      " yellow\n",
      " !blue\n",
      " cyan\n",
      " !green\n",
      " brown\n",
      " !gray\n"
     ]
    },
    {
     "name": "stdout",
     "output_type": "stream",
     "text": [
      "satisfiable\n"
     ]
    }
   ],
   "source": [
    "# TLE\n",
    "N = int(input())\n",
    "S = [input() for _ in range(N)]\n",
    "\n",
    "ret = 'satisfiable'\n",
    "for s in S:\n",
    "    if '!'+ s in S and s in S:\n",
    "        ret = s\n",
    "        break\n",
    "        \n",
    "print(ret)"
   ]
  },
  {
   "cell_type": "code",
   "execution_count": 35,
   "metadata": {},
   "outputs": [
    {
     "name": "stdin",
     "output_type": "stream",
     "text": [
      " 6\n",
      " a\n",
      " !a\n",
      " b\n",
      " !c\n",
      " d\n",
      " !d\n"
     ]
    },
    {
     "name": "stdout",
     "output_type": "stream",
     "text": [
      "a\n"
     ]
    }
   ],
   "source": [
    "N = int(input())\n",
    "S = set([input() for _ in range(N)])\n",
    "\n",
    "ret = 'satisfiable'\n",
    "\n",
    "for s in S:\n",
    "    if '!'+ s in S:\n",
    "        ret = s\n",
    "        break\n",
    "        \n",
    "print(ret)"
   ]
  }
 ],
 "metadata": {
  "kernelspec": {
   "display_name": "Python 3",
   "language": "python",
   "name": "python3"
  },
  "language_info": {
   "codemirror_mode": {
    "name": "ipython",
    "version": 3
   },
   "file_extension": ".py",
   "mimetype": "text/x-python",
   "name": "python",
   "nbconvert_exporter": "python",
   "pygments_lexer": "ipython3",
   "version": "3.7.5"
  }
 },
 "nbformat": 4,
 "nbformat_minor": 4
}
