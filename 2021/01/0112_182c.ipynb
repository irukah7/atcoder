{
 "cells": [
  {
   "cell_type": "code",
   "execution_count": 8,
   "metadata": {},
   "outputs": [
    {
     "name": "stdin",
     "output_type": "stream",
     "text": [
      " 369\n"
     ]
    },
    {
     "name": "stdout",
     "output_type": "stream",
     "text": [
      "0\n"
     ]
    }
   ],
   "source": [
    "N = list(map(int, input()))\n",
    "ans = len(N)\n",
    "\n",
    "ret = 0\n",
    "if sum(N)%3==0:\n",
    "    print(ret)\n",
    "elif ans==1:\n",
    "    ret = -1\n",
    "    print(ret)\n",
    "else:\n",
    "    mod_n = sum(N)%3\n",
    "    mod_flg=False\n",
    "    \n",
    "    for i in range(ans):\n",
    "        if N[i]%3==mod_n:\n",
    "            mod_flg=True\n",
    "            break\n",
    "    if mod_flg:\n",
    "        ret = 1\n",
    "    else:\n",
    "        cnt = 0\n",
    "        for j in range(ans):\n",
    "            if N[j]%3==(1 if mod_n==2 else 2):\n",
    "                cnt += 1\n",
    "        if cnt >= 2 and ans > 2:\n",
    "            ret = 2\n",
    "        else:\n",
    "            ret = 1\n",
    "    print(ret)"
   ]
  },
  {
   "cell_type": "code",
   "execution_count": 12,
   "metadata": {},
   "outputs": [
    {
     "data": {
      "text/plain": [
       "[5]"
      ]
     },
     "execution_count": 12,
     "metadata": {},
     "output_type": "execute_result"
    }
   ],
   "source": [
    "35"
   ]
  },
  {
   "cell_type": "code",
   "execution_count": 10,
   "metadata": {},
   "outputs": [
    {
     "data": {
      "text/plain": [
       "2"
      ]
     },
     "execution_count": 10,
     "metadata": {},
     "output_type": "execute_result"
    }
   ],
   "source": [
    "5%3"
   ]
  },
  {
   "cell_type": "code",
   "execution_count": 4,
   "metadata": {},
   "outputs": [
    {
     "data": {
      "text/plain": [
       "0"
      ]
     },
     "execution_count": 4,
     "metadata": {},
     "output_type": "execute_result"
    }
   ],
   "source": [
    "0>>"
   ]
  },
  {
   "cell_type": "code",
   "execution_count": null,
   "metadata": {},
   "outputs": [],
   "source": []
  }
 ],
 "metadata": {
  "kernelspec": {
   "display_name": "Python 3",
   "language": "python",
   "name": "python3"
  },
  "language_info": {
   "codemirror_mode": {
    "name": "ipython",
    "version": 3
   },
   "file_extension": ".py",
   "mimetype": "text/x-python",
   "name": "python",
   "nbconvert_exporter": "python",
   "pygments_lexer": "ipython3",
   "version": "3.7.5"
  }
 },
 "nbformat": 4,
 "nbformat_minor": 4
}
