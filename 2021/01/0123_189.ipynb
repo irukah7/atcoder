{
 "cells": [
  {
   "cell_type": "code",
   "execution_count": 2,
   "metadata": {},
   "outputs": [
    {
     "name": "stdin",
     "output_type": "stream",
     "text": [
      " VWV\n"
     ]
    },
    {
     "name": "stdout",
     "output_type": "stream",
     "text": [
      "Lost\n"
     ]
    }
   ],
   "source": [
    "C = input()\n",
    "\n",
    "print('Won' if len(set(C))==1 else 'Lost')"
   ]
  },
  {
   "cell_type": "code",
   "execution_count": null,
   "metadata": {},
   "outputs": [],
   "source": []
  },
  {
   "cell_type": "code",
   "execution_count": 47,
   "metadata": {},
   "outputs": [
    {
     "name": "stdin",
     "output_type": "stream",
     "text": [
      " 1 0\n",
      " 0 0\n"
     ]
    },
    {
     "name": "stdout",
     "output_type": "stream",
     "text": [
      "-1\n"
     ]
    }
   ],
   "source": [
    "N, X = map(int, input().split())\n",
    "v = [list(map(int, input().split())) for _ in range(N)]\n",
    "\n",
    "sumx = 0\n",
    "cnt = 0\n",
    "for i in range(N):\n",
    "    sumx += v[i][0]*(v[i][1]/100)\n",
    "    if sumx > X:\n",
    "        cnt = -1\n",
    "        break\n",
    "    else:\n",
    "        if sumx==0: \n",
    "            cnt = -1\n",
    "        else:\n",
    "            cnt += 1\n",
    "    \n",
    "print(cnt)"
   ]
  },
  {
   "cell_type": "code",
   "execution_count": null,
   "metadata": {},
   "outputs": [],
   "source": [
    "N, X = map(int, input().split())\n",
    " \n",
    "sumx = 0\n",
    "cnt = 0\n",
    "for i in range(N):\n",
    "    v, p = map(int, input().split())\n",
    "    sumx += v*(p/100)\n",
    "    cnt += 1\n",
    "    if sumx > X:\n",
    "        break\n",
    "    \n",
    "print(cnt if sumx>X else -1)"
   ]
  }
 ],
 "metadata": {
  "kernelspec": {
   "display_name": "Python 3",
   "language": "python",
   "name": "python3"
  },
  "language_info": {
   "codemirror_mode": {
    "name": "ipython",
    "version": 3
   },
   "file_extension": ".py",
   "mimetype": "text/x-python",
   "name": "python",
   "nbconvert_exporter": "python",
   "pygments_lexer": "ipython3",
   "version": "3.7.5"
  }
 },
 "nbformat": 4,
 "nbformat_minor": 4
}
