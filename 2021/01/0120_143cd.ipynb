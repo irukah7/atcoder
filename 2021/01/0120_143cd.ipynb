{
 "cells": [
  {
   "cell_type": "code",
   "execution_count": 16,
   "metadata": {},
   "outputs": [
    {
     "name": "stdin",
     "output_type": "stream",
     "text": [
      " 20\n",
      " xxzaffeeeeddfkkkkllq\n"
     ]
    },
    {
     "name": "stdout",
     "output_type": "stream",
     "text": [
      "10\n"
     ]
    }
   ],
   "source": [
    "N = int(input())\n",
    "S = input()\n",
    "\n",
    "cnt = 1\n",
    "for i in range(1, N):\n",
    "    if S[i-1]!=S[i]:\n",
    "        cnt += 1\n",
    "print(cnt)"
   ]
  },
  {
   "cell_type": "code",
   "execution_count": null,
   "metadata": {},
   "outputs": [],
   "source": [
    "10\n",
    "aabbbbaaca"
   ]
  },
  {
   "cell_type": "code",
   "execution_count": 23,
   "metadata": {},
   "outputs": [
    {
     "name": "stdin",
     "output_type": "stream",
     "text": [
      " 7\n",
      " 218 786 704 233 645 728 389\n"
     ]
    },
    {
     "name": "stdout",
     "output_type": "stream",
     "text": [
      "23\n"
     ]
    }
   ],
   "source": [
    "# TLE\n",
    "\n",
    "import itertools\n",
    "\n",
    "N = int(input())\n",
    "L = list(map(int, input().split()))\n",
    "\n",
    "cnt = 0\n",
    "for i in list(itertools.combinations(L, 3)):\n",
    "    if i[0]<i[1]+i[2] and i[1]<i[0]+i[2] and i[2]<i[0]+i[1]:\n",
    "        cnt += 1\n",
    "        \n",
    "print(cnt)"
   ]
  },
  {
   "cell_type": "code",
   "execution_count": 41,
   "metadata": {},
   "outputs": [
    {
     "name": "stdin",
     "output_type": "stream",
     "text": [
      " 7\n",
      " 218 786 704 233 645 728 389\n"
     ]
    },
    {
     "name": "stdout",
     "output_type": "stream",
     "text": [
      "0 1\n",
      "0 4\n",
      "1 2\n",
      "1 3\n",
      "1 4\n",
      "1 5\n",
      "2 3\n",
      "2 4\n",
      "2 5\n",
      "3 4\n",
      "4 5\n",
      "0\n"
     ]
    }
   ],
   "source": [
    "import itertools\n",
    "\n",
    "N = int(input())\n",
    "L = list(map(int, input().split()))\n",
    "\n",
    "cnt = 0\n",
    "for i in range(0, N-2):\n",
    "    for j in range(i+1, N-1):\n",
    "        if L[i]<L[j]+L[j+1] and L[j]<L[i]+L[j+1] and L[j+1]<L[i]+L[j]:\n",
    "            print(i, j)\n",
    "\n",
    "print(cnt)"
   ]
  },
  {
   "cell_type": "code",
   "execution_count": 31,
   "metadata": {},
   "outputs": [
    {
     "data": {
      "text/plain": [
       "[218, 233, 389, 645, 704, 728, 786]"
      ]
     },
     "execution_count": 31,
     "metadata": {},
     "output_type": "execute_result"
    }
   ],
   "source": [
    "sorted(L)"
   ]
  },
  {
   "cell_type": "code",
   "execution_count": null,
   "metadata": {},
   "outputs": [],
   "source": []
  }
 ],
 "metadata": {
  "kernelspec": {
   "display_name": "Python 3",
   "language": "python",
   "name": "python3"
  },
  "language_info": {
   "codemirror_mode": {
    "name": "ipython",
    "version": 3
   },
   "file_extension": ".py",
   "mimetype": "text/x-python",
   "name": "python",
   "nbconvert_exporter": "python",
   "pygments_lexer": "ipython3",
   "version": "3.7.5"
  }
 },
 "nbformat": 4,
 "nbformat_minor": 4
}
