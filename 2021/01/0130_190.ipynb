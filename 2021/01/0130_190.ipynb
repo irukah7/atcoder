{
 "cells": [
  {
   "cell_type": "code",
   "execution_count": 53,
   "metadata": {},
   "outputs": [
    {
     "name": "stdin",
     "output_type": "stream",
     "text": [
      " 0 0 1\n"
     ]
    },
    {
     "name": "stdout",
     "output_type": "stream",
     "text": [
      "Takahashi\n"
     ]
    }
   ],
   "source": [
    "# A\n",
    "A, B, C = map(int, input().split())\n",
    "\n",
    "ret = ''\n",
    "while A!=0 and B!=0:\n",
    "    if C == 0:\n",
    "        A -= 1\n",
    "        if A == 0:\n",
    "            break\n",
    "        B -= 1\n",
    "    else:\n",
    "        B -= 1\n",
    "        if B == 0:\n",
    "            break\n",
    "        A -= 1\n",
    "\n",
    "if A==0:\n",
    "    ret = 'Aoki'\n",
    "if B==0:\n",
    "    ret = 'Takahashi'\n",
    "        \n",
    "if C==0 and A==0 and B==0:\n",
    "    ret = 'Aoki'\n",
    "if C==1 and A==0 and B==0:\n",
    "    ret = 'Takahashi'\n",
    "    \n",
    "\n",
    "print(ret)"
   ]
  },
  {
   "cell_type": "code",
   "execution_count": 49,
   "metadata": {},
   "outputs": [
    {
     "data": {
      "text/plain": [
       "0"
      ]
     },
     "execution_count": 49,
     "metadata": {},
     "output_type": "execute_result"
    }
   ],
   "source": [
    "B"
   ]
  },
  {
   "cell_type": "code",
   "execution_count": 55,
   "metadata": {},
   "outputs": [
    {
     "name": "stdin",
     "output_type": "stream",
     "text": [
      " 3 691 273\n",
      " 691 997\n",
      " 593 273\n",
      " 691 273\n"
     ]
    },
    {
     "name": "stdout",
     "output_type": "stream",
     "text": [
      "No\n"
     ]
    }
   ],
   "source": [
    "# B\n",
    "N, S, D = map(int, input().split())\n",
    "X = [list(map(int, input().split())) for _ in range(N)]\n",
    "\n",
    "ret = 'No'\n",
    "for x in X:\n",
    "    if x[0]<S and x[1]>D:\n",
    "        ret = 'Yes'\n",
    "        break\n",
    "\n",
    "print(ret)"
   ]
  },
  {
   "cell_type": "code",
   "execution_count": 92,
   "metadata": {},
   "outputs": [
    {
     "name": "stdin",
     "output_type": "stream",
     "text": [
      " 6 12\n",
      " 2 3\n",
      " 4 6\n",
      " 1 2\n",
      " 4 5\n",
      " 2 6\n",
      " 1 5\n",
      " 4 5\n",
      " 1 3\n",
      " 1 2\n",
      " 2 6\n",
      " 2 3\n",
      " 2 5\n",
      " 5\n",
      " 3 5\n",
      " 1 4\n",
      " 2 6\n",
      " 4 6\n",
      " 5 6\n"
     ]
    },
    {
     "name": "stdout",
     "output_type": "stream",
     "text": [
      "12\n"
     ]
    }
   ],
   "source": [
    "# C\n",
    "N, M = map(int, input().split())\n",
    "A = [list(map(int, input().split())) for _ in range(M)]\n",
    "K = int(input())\n",
    "C = [list(map(int, input().split())) for _ in range(K)]\n",
    "\n",
    "kumi = []\n",
    "for c in C:\n",
    "    for i in c:\n",
    "        kumi.append(i)\n",
    "kumi = list(set(kumi))\n",
    "if len(kumi) != K:\n",
    "    for _ in range(abs(K-len(kumi))):\n",
    "        kumi.pop(-1)\n",
    "        \n",
    "cnt = 0\n",
    "for a in A:\n",
    "    tmp = 0\n",
    "    for i in a:\n",
    "        if i in kumi:\n",
    "            tmp += 1\n",
    "            \n",
    "    if len(a) == tmp:\n",
    "        cnt += 1\n",
    "            \n",
    "print(cnt)   "
   ]
  },
  {
   "cell_type": "code",
   "execution_count": 97,
   "metadata": {},
   "outputs": [
    {
     "data": {
      "text/plain": [
       "-1"
      ]
     },
     "execution_count": 97,
     "metadata": {},
     "output_type": "execute_result"
    }
   ],
   "source": [
    "4 4\n",
    "1 2\n",
    "1 3\n",
    "2 4\n",
    "3 4\n",
    "3\n",
    "1 2\n",
    "1 3\n",
    "2 3"
   ]
  },
  {
   "cell_type": "code",
   "execution_count": 99,
   "metadata": {},
   "outputs": [
    {
     "name": "stdin",
     "output_type": "stream",
     "text": [
      " 4 4\n",
      " 1 2\n",
      " 1 3\n",
      " 2 4\n",
      " 3 4\n",
      " 3\n",
      " 1 2\n",
      " 1 3\n",
      " 2 4\n"
     ]
    },
    {
     "name": "stdout",
     "output_type": "stream",
     "text": [
      "2\n"
     ]
    }
   ],
   "source": [
    "import itertools\n",
    "\n",
    "N, M = map(int, input().split())\n",
    "A = [list(map(int, input().split())) for _ in range(M)]\n",
    "K = int(input())\n",
    "C = [list(map(int, input().split())) for _ in range(K)]\n",
    "\n",
    "CD=[]\n",
    "for i in itertools.product(*C):\n",
    "    CD.append(list(i))\n",
    "    \n",
    "cnt=0\n",
    "for i in CD:\n",
    "    tmp=0\n",
    "    for a,b in A:\n",
    "        if a in i and b in i:\n",
    "            tmp+=1\n",
    "    cnt=max(cnt,tmp)\n",
    "     \n",
    "print(cnt)   "
   ]
  },
  {
   "cell_type": "code",
   "execution_count": null,
   "metadata": {},
   "outputs": [],
   "source": [
    "4 3\n",
    "2 2\n",
    "2 1\n",
    "1 1"
   ]
  }
 ],
 "metadata": {
  "kernelspec": {
   "display_name": "Python 3",
   "language": "python",
   "name": "python3"
  },
  "language_info": {
   "codemirror_mode": {
    "name": "ipython",
    "version": 3
   },
   "file_extension": ".py",
   "mimetype": "text/x-python",
   "name": "python",
   "nbconvert_exporter": "python",
   "pygments_lexer": "ipython3",
   "version": "3.7.5"
  }
 },
 "nbformat": 4,
 "nbformat_minor": 4
}
