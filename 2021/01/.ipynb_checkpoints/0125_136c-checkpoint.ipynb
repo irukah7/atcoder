{
 "cells": [
  {
   "cell_type": "code",
   "execution_count": 21,
   "metadata": {},
   "outputs": [
    {
     "name": "stdin",
     "output_type": "stream",
     "text": [
      " 4\n",
      " 1 3 2 1\n"
     ]
    },
    {
     "name": "stdout",
     "output_type": "stream",
     "text": [
      "No\n"
     ]
    }
   ],
   "source": [
    "# WA\n",
    "N = int(input())\n",
    "H = list(map(int, input().split()))\n",
    "\n",
    "ret = 'Yes'\n",
    "for i in range(N-1):\n",
    "    if H[i]>=H[i+1]:\n",
    "        H[i] -= 1\n",
    "        if H[i]>H[i+1]:\n",
    "            ret = 'No'\n",
    "            break\n",
    "n = 0        \n",
    "for h in H:\n",
    "    if n > h:\n",
    "        ret = 'No'\n",
    "        break\n",
    "    else:\n",
    "        n = h    \n",
    "\n",
    "print(ret)"
   ]
  },
  {
   "cell_type": "code",
   "execution_count": 22,
   "metadata": {},
   "outputs": [
    {
     "data": {
      "text/plain": [
       "[1, 2, 1, 1]"
      ]
     },
     "execution_count": 22,
     "metadata": {},
     "output_type": "execute_result"
    }
   ],
   "source": [
    "H"
   ]
  },
  {
   "cell_type": "code",
   "execution_count": null,
   "metadata": {},
   "outputs": [],
   "source": []
  },
  {
   "cell_type": "code",
   "execution_count": null,
   "metadata": {},
   "outputs": [],
   "source": [
    "5\n",
    "1 2 1 1 3\n",
    "\n",
    "4\n",
    "1 3 2 1"
   ]
  },
  {
   "cell_type": "code",
   "execution_count": 121,
   "metadata": {},
   "outputs": [
    {
     "name": "stdin",
     "output_type": "stream",
     "text": [
      " 4\n",
      " 1 3 2 1\n"
     ]
    },
    {
     "name": "stdout",
     "output_type": "stream",
     "text": [
      "Yes\n"
     ]
    }
   ],
   "source": [
    "# WA\n",
    "N = int(input())\n",
    "H = list(map(int, input().split()))\n",
    "\n",
    "ret = 'Yes'\n",
    "\n",
    "for i in range(N-1):\n",
    "    if H[i]>H[i+1]:\n",
    "        H[i] -= 1\n",
    "        continue\n",
    "        if H[i]>H[i+1]:\n",
    "            ret = 'No'\n",
    "\n",
    "print(ret)"
   ]
  },
  {
   "cell_type": "code",
   "execution_count": 122,
   "metadata": {},
   "outputs": [
    {
     "data": {
      "text/plain": [
       "[1, 1, 1, 1]"
      ]
     },
     "execution_count": 122,
     "metadata": {},
     "output_type": "execute_result"
    }
   ],
   "source": [
    "H"
   ]
  },
  {
   "cell_type": "code",
   "execution_count": 123,
   "metadata": {},
   "outputs": [
    {
     "name": "stdin",
     "output_type": "stream",
     "text": [
      " 4\n",
      " 1 3 2 1\n"
     ]
    },
    {
     "name": "stdout",
     "output_type": "stream",
     "text": [
      "Yes\n"
     ]
    }
   ],
   "source": [
    "N = int(input())\n",
    "H = list(map(int, input().split()))\n",
    "\n",
    "ret = 'Yes'\n",
    "for i in reversed(range(0,n-1)):\n",
    "    if H[i]-1 == H[i+1]:\n",
    "        H[i]-=1\n",
    "    elif H[i] > H[i+1]:\n",
    "        ret = 'No'\n",
    "        break\n",
    "print(ret)"
   ]
  },
  {
   "cell_type": "code",
   "execution_count": null,
   "metadata": {},
   "outputs": [],
   "source": [
    "N=int(input())\n",
    "H=list(map(int,input().split()))\n",
    "H[0]-=1\n",
    "for i in range(1,N-1):\n",
    "    if H[i]>H[i+1]:\n",
    "        H[i]-=1\n",
    "        if H[i]>H[i+1]:\n",
    "            print('No')\n",
    "            if H[i-1]>H[i]:\n",
    "                print('No')\n",
    "            elif H[i-1]<=H[i]-1:\n",
    "                H[i]-=1\n",
    "print('Yes')"
   ]
  }
 ],
 "metadata": {
  "kernelspec": {
   "display_name": "Python 3",
   "language": "python",
   "name": "python3"
  },
  "language_info": {
   "codemirror_mode": {
    "name": "ipython",
    "version": 3
   },
   "file_extension": ".py",
   "mimetype": "text/x-python",
   "name": "python",
   "nbconvert_exporter": "python",
   "pygments_lexer": "ipython3",
   "version": "3.7.5"
  }
 },
 "nbformat": 4,
 "nbformat_minor": 4
}
