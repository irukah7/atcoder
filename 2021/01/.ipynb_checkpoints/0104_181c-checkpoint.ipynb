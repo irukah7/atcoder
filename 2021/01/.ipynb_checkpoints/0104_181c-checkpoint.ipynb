{
 "cells": [
  {
   "cell_type": "code",
   "execution_count": 9,
   "metadata": {},
   "outputs": [
    {
     "name": "stdin",
     "output_type": "stream",
     "text": [
      " 9\n",
      " 8 2\n",
      " 2 3\n",
      " 1 3\n",
      " 3 7\n",
      " 1 0\n",
      " 8 8\n",
      " 5 6\n",
      " 9 7\n",
      " 0 1\n"
     ]
    },
    {
     "name": "stdout",
     "output_type": "stream",
     "text": [
      "Yes\n"
     ]
    }
   ],
   "source": [
    "import itertools\n",
    "\n",
    "N = int(input())\n",
    "P = [list(map(int, input().split())) for _ in range(N)]\n",
    "\n",
    "flag='No'\n",
    "# 3点を選ぶ\n",
    "for p1, p2, p3 in itertools.combinations(P, 3):\n",
    "    if (p3[1]-p1[1])*(p2[0]-p1[0]) == (p2[1]-p1[1])*(p3[0]-p1[0]):\n",
    "        flag = 'Yes'\n",
    "        break\n",
    "        \n",
    "print(flag)"
   ]
  },
  {
   "cell_type": "code",
   "execution_count": 4,
   "metadata": {},
   "outputs": [
    {
     "data": {
      "text/plain": [
       "[([0, 1], [0, 2], [0, 3]),\n",
       " ([0, 1], [0, 2], [1, 1]),\n",
       " ([0, 1], [0, 3], [1, 1]),\n",
       " ([0, 2], [0, 3], [1, 1])]"
      ]
     },
     "execution_count": 4,
     "metadata": {},
     "output_type": "execute_result"
    }
   ],
   "source": [
    "list(itertools.combinations(P, 3))"
   ]
  },
  {
   "cell_type": "code",
   "execution_count": 5,
   "metadata": {},
   "outputs": [
    {
     "data": {
      "text/plain": [
       "[0, 2]"
      ]
     },
     "execution_count": 5,
     "metadata": {},
     "output_type": "execute_result"
    }
   ],
   "source": [
    "9\n",
    "8 2\n",
    "2 3\n",
    "1 3\n",
    "3 7\n",
    "1 0\n",
    "8 8\n",
    "5 6\n",
    "9 7\n",
    "0 1"
   ]
  },
  {
   "cell_type": "code",
   "execution_count": null,
   "metadata": {},
   "outputs": [],
   "source": []
  }
 ],
 "metadata": {
  "kernelspec": {
   "display_name": "Python 3",
   "language": "python",
   "name": "python3"
  },
  "language_info": {
   "codemirror_mode": {
    "name": "ipython",
    "version": 3
   },
   "file_extension": ".py",
   "mimetype": "text/x-python",
   "name": "python",
   "nbconvert_exporter": "python",
   "pygments_lexer": "ipython3",
   "version": "3.7.5"
  }
 },
 "nbformat": 4,
 "nbformat_minor": 4
}
