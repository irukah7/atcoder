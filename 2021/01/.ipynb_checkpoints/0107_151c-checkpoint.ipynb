{
 "cells": [
  {
   "cell_type": "code",
   "execution_count": 25,
   "metadata": {},
   "outputs": [
    {
     "name": "stdin",
     "output_type": "stream",
     "text": [
      " 100000 3\n",
      " 7777 AC\n",
      " 7777 AC\n",
      " 7777 AC\n"
     ]
    },
    {
     "name": "stdout",
     "output_type": "stream",
     "text": [
      "1 0\n"
     ]
    }
   ],
   "source": [
    "N, M = map(int, input().split())\n",
    "\n",
    "ac = [0]*N\n",
    "wa = [0]*N\n",
    "\n",
    "for i in range(M):\n",
    "    p, s = input().split()\n",
    "    p = int(p)-1\n",
    "    if s == 'AC':\n",
    "        ac[p] = 1\n",
    "    else:\n",
    "        if ac[p] == 0:\n",
    "            wa[p] += 1\n",
    "\n",
    "for n in range(N):\n",
    "    if wa[n]>0 and ac[n]==0:\n",
    "        wa[n]=0\n",
    "\n",
    "print(sum(ac), sum(wa))"
   ]
  },
  {
   "cell_type": "code",
   "execution_count": null,
   "metadata": {},
   "outputs": [],
   "source": [
    "ac"
   ]
  },
  {
   "cell_type": "code",
   "execution_count": 24,
   "metadata": {},
   "outputs": [
    {
     "data": {
      "text/plain": [
       "[1, 1]"
      ]
     },
     "execution_count": 24,
     "metadata": {},
     "output_type": "execute_result"
    }
   ],
   "source": [
    "wa"
   ]
  },
  {
   "cell_type": "code",
   "execution_count": null,
   "metadata": {},
   "outputs": [],
   "source": []
  }
 ],
 "metadata": {
  "kernelspec": {
   "display_name": "Python 3",
   "language": "python",
   "name": "python3"
  },
  "language_info": {
   "codemirror_mode": {
    "name": "ipython",
    "version": 3
   },
   "file_extension": ".py",
   "mimetype": "text/x-python",
   "name": "python",
   "nbconvert_exporter": "python",
   "pygments_lexer": "ipython3",
   "version": "3.7.5"
  }
 },
 "nbformat": 4,
 "nbformat_minor": 4
}
