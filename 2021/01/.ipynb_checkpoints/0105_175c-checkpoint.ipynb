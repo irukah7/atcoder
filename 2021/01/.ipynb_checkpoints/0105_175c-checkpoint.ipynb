{
 "cells": [
  {
   "cell_type": "code",
   "execution_count": 3,
   "metadata": {},
   "outputs": [
    {
     "name": "stdin",
     "output_type": "stream",
     "text": [
      " 10 1 2\n"
     ]
    },
    {
     "name": "stdout",
     "output_type": "stream",
     "text": [
      "8\n"
     ]
    }
   ],
   "source": [
    "# TLE\n",
    "\n",
    "X, K, D = map(int, input().split())\n",
    "\n",
    "for _ in range(K):\n",
    "    if abs(X-D) < abs(X+D):\n",
    "        X -= D\n",
    "    else:\n",
    "        X += D\n",
    "        \n",
    "print(abs(X))"
   ]
  },
  {
   "cell_type": "code",
   "execution_count": 19,
   "metadata": {},
   "outputs": [
    {
     "name": "stdin",
     "output_type": "stream",
     "text": [
      " 7 4 3\n"
     ]
    },
    {
     "name": "stdout",
     "output_type": "stream",
     "text": [
      "1\n"
     ]
    }
   ],
   "source": [
    "X, K, D = map(int, input().split())\n",
    "\n",
    "X = abs(X)\n",
    "# 0を下回るまでの回数cnt\n",
    "cnt = X//D\n",
    "\n",
    "if cnt >= K:\n",
    "    # そもそもcntがKより大きかったらK*Dで最小に近づく\n",
    "    ans = X - (K*D)\n",
    "else:\n",
    "    # つまり動ける回数が余っている\n",
    "    # K-cntが偶数か奇数かで分ける\n",
    "    if (K-cnt) % 2 == 0:\n",
    "        ans = X - (cnt*D)\n",
    "    else:\n",
    "        ans = X - ((cnt+1)*D)\n",
    "        \n",
    "print(abs(ans))"
   ]
  },
  {
   "cell_type": "code",
   "execution_count": null,
   "metadata": {},
   "outputs": [],
   "source": [
    "6 2 4\n",
    "cnt = 1\n"
   ]
  },
  {
   "cell_type": "code",
   "execution_count": 16,
   "metadata": {},
   "outputs": [
    {
     "data": {
      "text/plain": [
       "1"
      ]
     },
     "execution_count": 16,
     "metadata": {},
     "output_type": "execute_result"
    }
   ],
   "source": [
    "6//4"
   ]
  },
  {
   "cell_type": "code",
   "execution_count": null,
   "metadata": {},
   "outputs": [],
   "source": [
    "7 4 3"
   ]
  },
  {
   "cell_type": "code",
   "execution_count": 18,
   "metadata": {},
   "outputs": [
    {
     "data": {
      "text/plain": [
       "2"
      ]
     },
     "execution_count": 18,
     "metadata": {},
     "output_type": "execute_result"
    }
   ],
   "source": [
    "7//3"
   ]
  },
  {
   "cell_type": "code",
   "execution_count": null,
   "metadata": {},
   "outputs": [],
   "source": []
  }
 ],
 "metadata": {
  "kernelspec": {
   "display_name": "Python 3",
   "language": "python",
   "name": "python3"
  },
  "language_info": {
   "codemirror_mode": {
    "name": "ipython",
    "version": 3
   },
   "file_extension": ".py",
   "mimetype": "text/x-python",
   "name": "python",
   "nbconvert_exporter": "python",
   "pygments_lexer": "ipython3",
   "version": "3.7.5"
  }
 },
 "nbformat": 4,
 "nbformat_minor": 4
}
