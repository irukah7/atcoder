{
 "cells": [
  {
   "cell_type": "code",
   "execution_count": 22,
   "metadata": {},
   "outputs": [
    {
     "name": "stdin",
     "output_type": "stream",
     "text": [
      " 3 5\n",
      " 2 3\n",
      " 4 3\n",
      " 2 4\n"
     ]
    },
    {
     "name": "stdout",
     "output_type": "stream",
     "text": [
      "10\n"
     ]
    }
   ],
   "source": [
    "N, M = map(int, input().split())\n",
    "A = [list(map(int, input().split())) for _ in range(N)]\n",
    "sort_a = sorted(A)\n",
    "\n",
    "cnt = 0\n",
    "money = 0\n",
    "for _ in range(M):\n",
    "    money += sort_a[cnt][0]\n",
    "    \n",
    "    sort_a[cnt][1] -= 1\n",
    "    if sort_a[cnt][1] == 0:\n",
    "        cnt += 1\n",
    "        \n",
    "print(money)"
   ]
  },
  {
   "cell_type": "code",
   "execution_count": null,
   "metadata": {},
   "outputs": [],
   "source": [
    "2 5\n",
    "[[4, 9],[2, 4]]"
   ]
  }
 ],
 "metadata": {
  "kernelspec": {
   "display_name": "Python 3",
   "language": "python",
   "name": "python3"
  },
  "language_info": {
   "codemirror_mode": {
    "name": "ipython",
    "version": 3
   },
   "file_extension": ".py",
   "mimetype": "text/x-python",
   "name": "python",
   "nbconvert_exporter": "python",
   "pygments_lexer": "ipython3",
   "version": "3.7.5"
  }
 },
 "nbformat": 4,
 "nbformat_minor": 4
}
