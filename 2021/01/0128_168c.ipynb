{
 "cells": [
  {
   "cell_type": "code",
   "execution_count": 24,
   "metadata": {},
   "outputs": [
    {
     "name": "stdin",
     "output_type": "stream",
     "text": [
      " 3 4 10 40\n"
     ]
    },
    {
     "name": "stdout",
     "output_type": "stream",
     "text": [
      "4.564257194330054\n"
     ]
    }
   ],
   "source": [
    "import math\n",
    "A, B, H, M = map(int, input().split())\n",
    "\n",
    "# 余弦定理\n",
    "# a^2 = b^2 + c^2 - 2bccosA\n",
    "# 1日＝24時間で, 一回り＝360°, 1時間当たり15°\n",
    "# 60分 2π\n",
    "m = M * (2*math.pi/60)\n",
    "h = H * (2*math.pi/12) + m/12\n",
    "\n",
    "n = A**2 + B**2 - (2*A*B)*math.cos(m-h)\n",
    "print(n**0.5)"
   ]
  },
  {
   "cell_type": "code",
   "execution_count": null,
   "metadata": {},
   "outputs": [],
   "source": [
    "3 4 9 0\n",
    "\n",
    "9 0\n",
    "# 差は3時間分\n",
    "90°\n",
    "cos90度=0\n",
    "10 40\n",
    "# 差は2時間分\n",
    "60°\n",
    "cos60度"
   ]
  },
  {
   "cell_type": "code",
   "execution_count": 19,
   "metadata": {},
   "outputs": [
    {
     "data": {
      "text/plain": [
       "9"
      ]
     },
     "execution_count": 19,
     "metadata": {},
     "output_type": "execute_result"
    }
   ],
   "source": [
    "A**2"
   ]
  },
  {
   "cell_type": "code",
   "execution_count": 22,
   "metadata": {},
   "outputs": [
    {
     "data": {
      "text/plain": [
       "0.9424777960769379"
      ]
     },
     "execution_count": 22,
     "metadata": {},
     "output_type": "execute_result"
    }
   ],
   "source": [
    "9*2*math.pi/60"
   ]
  },
  {
   "cell_type": "code",
   "execution_count": null,
   "metadata": {},
   "outputs": [],
   "source": []
  }
 ],
 "metadata": {
  "kernelspec": {
   "display_name": "Python 3",
   "language": "python",
   "name": "python3"
  },
  "language_info": {
   "codemirror_mode": {
    "name": "ipython",
    "version": 3
   },
   "file_extension": ".py",
   "mimetype": "text/x-python",
   "name": "python",
   "nbconvert_exporter": "python",
   "pygments_lexer": "ipython3",
   "version": "3.7.5"
  }
 },
 "nbformat": 4,
 "nbformat_minor": 4
}
