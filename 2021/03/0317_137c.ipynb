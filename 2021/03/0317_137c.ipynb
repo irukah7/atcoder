{
 "cells": [
  {
   "cell_type": "code",
   "execution_count": 4,
   "metadata": {},
   "outputs": [
    {
     "name": "stdin",
     "output_type": "stream",
     "text": [
      " 5\n",
      " abaaaaaaaa\n",
      " oneplustwo\n",
      " aaaaaaaaba\n",
      " twoplusone\n",
      " aaaabaaaaa\n"
     ]
    },
    {
     "name": "stdout",
     "output_type": "stream",
     "text": [
      "4\n"
     ]
    }
   ],
   "source": [
    "N = int(input())\n",
    "S = [list(map(str, input())) for _ in range(N)]\n",
    "\n",
    "cnt = 0\n",
    "for i in range(N-1):\n",
    "    for j in range(i+1, N):\n",
    "        if sorted(S[i]) == sorted(S[j]):\n",
    "            cnt += 1\n",
    "            \n",
    "print(cnt)"
   ]
  },
  {
   "cell_type": "code",
   "execution_count": null,
   "metadata": {},
   "outputs": [],
   "source": [
    "3\n",
    "acornistnt\n",
    "peanutbomb\n",
    "constraint\n",
    "\n",
    "2\n",
    "oneplustwo\n",
    "ninemodsix\n",
    "\n",
    "5\n",
    "abaaaaaaaa\n",
    "oneplustwo\n",
    "aaaaaaaaba\n",
    "twoplusone\n",
    "aaaabaaaaa\n"
   ]
  },
  {
   "cell_type": "code",
   "execution_count": 6,
   "metadata": {},
   "outputs": [
    {
     "data": {
      "text/plain": [
       "[['a', 'a', 'a', 'a', 'a', 'a', 'a', 'a', 'b', 'a'],\n",
       " ['a', 'a', 'a', 'a', 'b', 'a', 'a', 'a', 'a', 'a'],\n",
       " ['a', 'b', 'a', 'a', 'a', 'a', 'a', 'a', 'a', 'a'],\n",
       " ['o', 'n', 'e', 'p', 'l', 'u', 's', 't', 'w', 'o'],\n",
       " ['t', 'w', 'o', 'p', 'l', 'u', 's', 'o', 'n', 'e']]"
      ]
     },
     "execution_count": 6,
     "metadata": {},
     "output_type": "execute_result"
    }
   ],
   "source": [
    "sorted(S)"
   ]
  },
  {
   "cell_type": "code",
   "execution_count": 64,
   "metadata": {},
   "outputs": [
    {
     "name": "stdin",
     "output_type": "stream",
     "text": [
      " 5\n",
      " abaaaaaaaa\n",
      " abaaaaaaaa\n",
      " abaaaaaaaa\n",
      " twoplusone\n",
      " twoplusone\n"
     ]
    },
    {
     "name": "stdout",
     "output_type": "stream",
     "text": [
      "4\n"
     ]
    }
   ],
   "source": [
    "from itertools import combinations\n",
    "\n",
    "N = int(input())\n",
    "S = [\"\".join(sorted(input())) for _ in range(N)]\n",
    "\n",
    "cnt = 0\n",
    "for s in set(S):\n",
    "    cnt += len(list(combinations(range(S.count(s)), 2)))\n",
    "    \n",
    "print(cnt)"
   ]
  },
  {
   "cell_type": "code",
   "execution_count": 38,
   "metadata": {},
   "outputs": [
    {
     "data": {
      "text/plain": [
       "[(0, 1)]"
      ]
     },
     "execution_count": 38,
     "metadata": {},
     "output_type": "execute_result"
    }
   ],
   "source": [
    "list(combinations(range(2), 2))"
   ]
  },
  {
   "cell_type": "code",
   "execution_count": 46,
   "metadata": {},
   "outputs": [
    {
     "name": "stdin",
     "output_type": "stream",
     "text": [
      " acornistnt\n",
      " peanutbomb\n",
      " constraint\n"
     ]
    }
   ],
   "source": [
    "S = [input().rstrip().split() for _ in range(N)]"
   ]
  },
  {
   "cell_type": "code",
   "execution_count": 57,
   "metadata": {},
   "outputs": [],
   "source": [
    "S = ['acornistnt', 'peanutbomb', 'constraint']\n",
    "for i in range(3):\n",
    "    S[i] = sorted(list(S[i]))"
   ]
  },
  {
   "cell_type": "code",
   "execution_count": 61,
   "metadata": {},
   "outputs": [
    {
     "name": "stdin",
     "output_type": "stream",
     "text": [
      " acornistnt\n",
      " peanutbomb\n",
      " constraint\n"
     ]
    }
   ],
   "source": [
    "S = [\"\".join(sorted(input())) for _ in range(N)]"
   ]
  },
  {
   "cell_type": "code",
   "execution_count": 62,
   "metadata": {},
   "outputs": [
    {
     "data": {
      "text/plain": [
       "['acinnorstt', 'abbemnoptu', 'acinnorstt']"
      ]
     },
     "execution_count": 62,
     "metadata": {},
     "output_type": "execute_result"
    }
   ],
   "source": [
    "S"
   ]
  },
  {
   "cell_type": "code",
   "execution_count": null,
   "metadata": {},
   "outputs": [],
   "source": []
  }
 ],
 "metadata": {
  "kernelspec": {
   "display_name": "Python 3",
   "language": "python",
   "name": "python3"
  },
  "language_info": {
   "codemirror_mode": {
    "name": "ipython",
    "version": 3
   },
   "file_extension": ".py",
   "mimetype": "text/x-python",
   "name": "python",
   "nbconvert_exporter": "python",
   "pygments_lexer": "ipython3",
   "version": "3.7.5"
  }
 },
 "nbformat": 4,
 "nbformat_minor": 4
}
