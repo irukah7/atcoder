{
 "cells": [
  {
   "cell_type": "code",
   "execution_count": 25,
   "metadata": {},
   "outputs": [
    {
     "name": "stdin",
     "output_type": "stream",
     "text": [
      " 3 3\n",
      " ...\n",
      " ...\n",
      " .##\n"
     ]
    },
    {
     "name": "stdout",
     "output_type": "stream",
     "text": [
      "Yes\n"
     ]
    }
   ],
   "source": [
    "H, W = map(int,input().split())\n",
    "S = [list(input()) for _ in range(H)]\n",
    "\n",
    "ret = 'Yes'\n",
    "for i in range(H):\n",
    "    for j in range(W):\n",
    "        if S[i][j] == '#':\n",
    "            if i==0:\n",
    "                    if j==0:\n",
    "                            if S[i+1][j]==\".\" and S[i][j+1]==\".\":\n",
    "                                    ret='No'\n",
    "                    elif j==W-1:\n",
    "                            if S[i+1][j]==\".\" and S[i][j-1]==\".\":\n",
    "                                    ret='No'\n",
    "                    else:\n",
    "                            if S[i+1][j]==\".\" and S[i][j-1]==\".\" and S[i][j+1]==\".\":\n",
    "                                    ret='No'\n",
    "            elif i==H-1:\n",
    "                    if j==0:\n",
    "                            if S[i-1][j]==\".\" and S[i][j+1]==\".\":\n",
    "                                    ret='No'\n",
    "                    elif j==W-1:\n",
    "                            if S[i-1][j]==\".\" and S[i][j-1]==\".\":\n",
    "                                    ret='No'\n",
    "                    else:\n",
    "                            if S[i-1][j]==\".\" and S[i][j-1]==\".\" and S[i][j+1]==\".\":\n",
    "                                    ret='No'\n",
    "            else:\n",
    "                    if j==0:\n",
    "                            if S[i+1][j]==\".\" and S[i-1][j]==\".\" and S[i][j+1]==\".\":\n",
    "                                    ret='No'\n",
    "                    elif j==W-1:\n",
    "                            if S[i+1][j]==\".\" and S[i-1][j]==\".\" and S[i][j-1]==\".\":\n",
    "                                    ret='No'\n",
    "                    else:\n",
    "                            if S[i+1][j]==\".\" and S[i-1][j]==\".\" and S[i][j-1]==\".\" and S[i][j+1]==\".\":\n",
    "                                    ret='No'\n",
    "\n",
    "print(ret)"
   ]
  },
  {
   "cell_type": "code",
   "execution_count": null,
   "metadata": {},
   "outputs": [],
   "source": [
    "3 3\n",
    ".#.\n",
    "###\n",
    ".#.\n",
    "\n",
    "\n",
    "5 5\n",
    "#.#.#\n",
    ".#.#.\n",
    "#.#.#\n",
    ".#.#.\n",
    "#.#.#"
   ]
  },
  {
   "cell_type": "code",
   "execution_count": null,
   "metadata": {},
   "outputs": [],
   "source": [
    "11 11\n",
    "...#####...\n",
    ".##.....##.\n",
    "#..##.##..#\n",
    "#..##.##..#\n",
    "#.........#\n",
    "#...###...#\n",
    ".#########.\n",
    ".#.#.#.#.#.\n",
    "##.#.#.#.##\n",
    "..##.#.##..\n",
    ".##..#..##."
   ]
  }
 ],
 "metadata": {
  "kernelspec": {
   "display_name": "Python 3",
   "language": "python",
   "name": "python3"
  },
  "language_info": {
   "codemirror_mode": {
    "name": "ipython",
    "version": 3
   },
   "file_extension": ".py",
   "mimetype": "text/x-python",
   "name": "python",
   "nbconvert_exporter": "python",
   "pygments_lexer": "ipython3",
   "version": "3.7.5"
  }
 },
 "nbformat": 4,
 "nbformat_minor": 4
}
