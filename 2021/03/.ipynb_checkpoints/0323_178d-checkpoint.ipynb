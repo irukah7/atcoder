{
 "cells": [
  {
   "cell_type": "code",
   "execution_count": 43,
   "metadata": {},
   "outputs": [
    {
     "name": "stdin",
     "output_type": "stream",
     "text": [
      " 1729\n"
     ]
    },
    {
     "name": "stdout",
     "output_type": "stream",
     "text": [
      "1483506\n"
     ]
    }
   ],
   "source": [
    "S = int(input())\n",
    "\n",
    "mod = 1e9+7\n",
    "cnt = 0\n",
    "\n",
    "if S>=3 and S<6:\n",
    "    cnt += 1\n",
    "elif S==6:\n",
    "    cnt += 2\n",
    "elif S==7:\n",
    "    cnt += 3\n",
    "elif S==8:\n",
    "    cnt += 4\n",
    "elif S>=9:\n",
    "    cnt += 4 + sum(range(2, S-6))\n",
    "\n",
    "print(cnt)"
   ]
  },
  {
   "cell_type": "code",
   "execution_count": null,
   "metadata": {},
   "outputs": [],
   "source": [
    "7\n",
    "3\n",
    "{3,4},{4,3},{7}\n",
    "\n",
    "1729\n",
    "294867501\n",
    "\n",
    "5\n",
    "1\n",
    "{5}\n",
    "\n",
    "6\n",
    "2\n",
    "{3,3},{6}\n",
    "\n",
    "8\n",
    "4\n",
    "{3,5},{5,3},{4,4}{8}\n",
    "\n",
    "9\n",
    "6→4+2\n",
    "{3,3,3}{3,6}{4,5}{5,4}{6,3}{9}\n",
    "\n",
    "10\n",
    "9→4+2+3\n",
    "{3,3,4}{3,4,3}{4,3,3}{3,7}{4,6}{5,5}{6,4}{7,3}{10}\n",
    "\n",
    "11\n",
    "13→4+2+3+4\n",
    "{3,3,5}{3,4,4}{3,5,3}{4,3,4}{4,4,3}{5,3,3}{3,8}{4,7}{5,6}{6,5}{7,4}{8,3}{11}"
   ]
  },
  {
   "cell_type": "code",
   "execution_count": 31,
   "metadata": {},
   "outputs": [
    {
     "data": {
      "text/plain": [
       "2"
      ]
     },
     "execution_count": 31,
     "metadata": {},
     "output_type": "execute_result"
    }
   ],
   "source": [
    "S: 3 4 5 6 7 8 9 10 11\n",
    "P: 1 1 1 2 3 4 6 9 13"
   ]
  },
  {
   "cell_type": "code",
   "execution_count": 1,
   "metadata": {},
   "outputs": [
    {
     "name": "stdout",
     "output_type": "stream",
     "text": [
      "The history saving thread hit an unexpected error (OperationalError('attempt to write a readonly database')).History will not be written to the database.\n"
     ]
    },
    {
     "name": "stdin",
     "output_type": "stream",
     "text": [
      " 1\n"
     ]
    },
    {
     "name": "stdout",
     "output_type": "stream",
     "text": [
      "0\n"
     ]
    }
   ],
   "source": [
    "MOD = 10 ** 9 + 7\n",
    "s = int(input())\n",
    "l = [0, 0, 0, 1, 1, 1] + [0] * (s - 5)\n",
    " \n",
    "for n in range(6, s+1):\n",
    "    l[n] += 1\n",
    "    for a in range(3, n-2):\n",
    "        b = n - a\n",
    "        l[n] = (l[n] + l[b]) % MOD\n",
    "\n",
    "print(l[s])"
   ]
  },
  {
   "cell_type": "code",
   "execution_count": null,
   "metadata": {},
   "outputs": [],
   "source": []
  }
 ],
 "metadata": {
  "kernelspec": {
   "display_name": "Python 3",
   "language": "python",
   "name": "python3"
  },
  "language_info": {
   "codemirror_mode": {
    "name": "ipython",
    "version": 3
   },
   "file_extension": ".py",
   "mimetype": "text/x-python",
   "name": "python",
   "nbconvert_exporter": "python",
   "pygments_lexer": "ipython3",
   "version": "3.7.5"
  }
 },
 "nbformat": 4,
 "nbformat_minor": 4
}
