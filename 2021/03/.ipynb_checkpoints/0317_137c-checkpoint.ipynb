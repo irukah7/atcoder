{
 "cells": [
  {
   "cell_type": "code",
   "execution_count": 4,
   "metadata": {},
   "outputs": [
    {
     "name": "stdin",
     "output_type": "stream",
     "text": [
      " 5\n",
      " abaaaaaaaa\n",
      " oneplustwo\n",
      " aaaaaaaaba\n",
      " twoplusone\n",
      " aaaabaaaaa\n"
     ]
    },
    {
     "name": "stdout",
     "output_type": "stream",
     "text": [
      "4\n"
     ]
    }
   ],
   "source": [
    "N = int(input())\n",
    "S = [list(map(str, input())) for _ in range(N)]\n",
    "\n",
    "cnt = 0\n",
    "for i in range(N-1):\n",
    "    for j in range(i+1, N):\n",
    "        if sorted(S[i]) == sorted(S[j]):\n",
    "            cnt += 1\n",
    "            \n",
    "print(cnt)"
   ]
  },
  {
   "cell_type": "code",
   "execution_count": null,
   "metadata": {},
   "outputs": [],
   "source": [
    "3\n",
    "acornistnt\n",
    "peanutbomb\n",
    "constraint\n",
    "\n",
    "2\n",
    "oneplustwo\n",
    "ninemodsix\n",
    "\n",
    "5\n",
    "abaaaaaaaa\n",
    "oneplustwo\n",
    "aaaaaaaaba\n",
    "twoplusone\n",
    "aaaabaaaaa\n"
   ]
  },
  {
   "cell_type": "code",
   "execution_count": 6,
   "metadata": {},
   "outputs": [
    {
     "data": {
      "text/plain": [
       "[['a', 'a', 'a', 'a', 'a', 'a', 'a', 'a', 'b', 'a'],\n",
       " ['a', 'a', 'a', 'a', 'b', 'a', 'a', 'a', 'a', 'a'],\n",
       " ['a', 'b', 'a', 'a', 'a', 'a', 'a', 'a', 'a', 'a'],\n",
       " ['o', 'n', 'e', 'p', 'l', 'u', 's', 't', 'w', 'o'],\n",
       " ['t', 'w', 'o', 'p', 'l', 'u', 's', 'o', 'n', 'e']]"
      ]
     },
     "execution_count": 6,
     "metadata": {},
     "output_type": "execute_result"
    }
   ],
   "source": [
    "sorted(S)"
   ]
  },
  {
   "cell_type": "code",
   "execution_count": 16,
   "metadata": {},
   "outputs": [
    {
     "name": "stdin",
     "output_type": "stream",
     "text": [
      " 5\n",
      " oneplustwo\n",
      " oneplustwo\n",
      " abaaaaaaaa\n",
      " abaaaaaaaa\n",
      " abaaaaaaaa\n"
     ]
    }
   ],
   "source": [
    "N = int(input())\n",
    "S = [input() for _ in range(N)]\n",
    "\n",
    "cnt = 0\n",
    "for i in range(N):\n",
    "    S[i] = sorted(S[i])"
   ]
  },
  {
   "cell_type": "code",
   "execution_count": 17,
   "metadata": {},
   "outputs": [
    {
     "data": {
      "text/plain": [
       "[['e', 'l', 'n', 'o', 'o', 'p', 's', 't', 'u', 'w'],\n",
       " ['e', 'l', 'n', 'o', 'o', 'p', 's', 't', 'u', 'w'],\n",
       " ['a', 'a', 'a', 'a', 'a', 'a', 'a', 'a', 'a', 'b'],\n",
       " ['a', 'a', 'a', 'a', 'a', 'a', 'a', 'a', 'a', 'b'],\n",
       " ['a', 'a', 'a', 'a', 'a', 'a', 'a', 'a', 'a', 'b']]"
      ]
     },
     "execution_count": 17,
     "metadata": {},
     "output_type": "execute_result"
    }
   ],
   "source": [
    "S"
   ]
  },
  {
   "cell_type": "code",
   "execution_count": 13,
   "metadata": {},
   "outputs": [
    {
     "ename": "TypeError",
     "evalue": "unhashable type: 'list'",
     "output_type": "error",
     "traceback": [
      "\u001b[0;31m--------------------------------------------------------\u001b[0m",
      "\u001b[0;31mTypeError\u001b[0m              Traceback (most recent call last)",
      "\u001b[0;32m<ipython-input-13-f392cdbbc24f>\u001b[0m in \u001b[0;36m<module>\u001b[0;34m\u001b[0m\n\u001b[0;32m----> 1\u001b[0;31m \u001b[0mset\u001b[0m\u001b[0;34m(\u001b[0m\u001b[0mS\u001b[0m\u001b[0;34m)\u001b[0m\u001b[0;34m\u001b[0m\u001b[0;34m\u001b[0m\u001b[0m\n\u001b[0m",
      "\u001b[0;31mTypeError\u001b[0m: unhashable type: 'list'"
     ]
    }
   ],
   "source": [
    "set(S)"
   ]
  },
  {
   "cell_type": "code",
   "execution_count": null,
   "metadata": {},
   "outputs": [],
   "source": []
  }
 ],
 "metadata": {
  "kernelspec": {
   "display_name": "Python 3",
   "language": "python",
   "name": "python3"
  },
  "language_info": {
   "codemirror_mode": {
    "name": "ipython",
    "version": 3
   },
   "file_extension": ".py",
   "mimetype": "text/x-python",
   "name": "python",
   "nbconvert_exporter": "python",
   "pygments_lexer": "ipython3",
   "version": "3.7.5"
  }
 },
 "nbformat": 4,
 "nbformat_minor": 4
}
