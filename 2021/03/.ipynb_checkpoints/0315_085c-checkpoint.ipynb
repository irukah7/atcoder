{
 "cells": [
  {
   "cell_type": "code",
   "execution_count": 38,
   "metadata": {},
   "outputs": [
    {
     "name": "stdin",
     "output_type": "stream",
     "text": [
      " 10 10000\n"
     ]
    },
    {
     "name": "stdout",
     "output_type": "stream",
     "text": [
      "-1 -1 -1\n"
     ]
    }
   ],
   "source": [
    "N, Y = map(int, input().split())\n",
    "\n",
    "a = Y//10000\n",
    "Y -= 10000*a\n",
    "\n",
    "b = Y//5000\n",
    "Y -= 5000*b\n",
    "\n",
    "c = Y//1000\n",
    "Y -= 1000*c\n",
    "\n",
    "if Y==0 and (a+b+c)==N:\n",
    "    print(a,b,c)\n",
    "else:\n",
    "    print(-1,-1,-1)"
   ]
  },
  {
   "cell_type": "code",
   "execution_count": 46,
   "metadata": {},
   "outputs": [
    {
     "name": "stdin",
     "output_type": "stream",
     "text": [
      " 9 45000\n"
     ]
    },
    {
     "name": "stdout",
     "output_type": "stream",
     "text": [
      "-1 -1 -1\n"
     ]
    }
   ],
   "source": [
    "N, Y = map(int, input().split())\n",
    "\n",
    "a = Y//1000\n",
    "Y -= 1000*a\n",
    "\n",
    "b = Y//5000\n",
    "Y -= 5000*b\n",
    "\n",
    "c = Y//10000\n",
    "Y -= 10000*c\n",
    "\n",
    "if Y==0 and (a+b+c)==N:\n",
    "    print(c,b,a)\n",
    "else:\n",
    "    print(-1,-1,-1)"
   ]
  },
  {
   "cell_type": "code",
   "execution_count": null,
   "metadata": {},
   "outputs": [],
   "source": [
    "9 45000\n",
    "4 0 5\n",
    "\n",
    "20 196000\n",
    "-1 -1 -1\n",
    "\n",
    "1000 1234000\n",
    "14 27 959"
   ]
  },
  {
   "cell_type": "code",
   "execution_count": 70,
   "metadata": {},
   "outputs": [
    {
     "name": "stdin",
     "output_type": "stream",
     "text": [
      " 1000 1234000\n"
     ]
    },
    {
     "name": "stdout",
     "output_type": "stream",
     "text": [
      "26 0 974\n"
     ]
    }
   ],
   "source": [
    "N, Y = map(int, input().split())\n",
    "\n",
    "s=t=u=-1\n",
    "for i in range(N+1):\n",
    "    for j in range(N-i+1):\n",
    "        k = N-(i+j)\n",
    "        if i*10000 + j*5000 + k*1000 == Y:\n",
    "            s,t,u = i,j,k\n",
    "            break\n",
    "\n",
    "print(s,t,u)"
   ]
  },
  {
   "cell_type": "code",
   "execution_count": 62,
   "metadata": {},
   "outputs": [
    {
     "data": {
      "text/plain": [
       "1234000"
      ]
     },
     "execution_count": 62,
     "metadata": {},
     "output_type": "execute_result"
    }
   ],
   "source": [
    "26*10000 + 974*1000"
   ]
  },
  {
   "cell_type": "code",
   "execution_count": 65,
   "metadata": {},
   "outputs": [],
   "source": [
    "ret = -1,-1,-1"
   ]
  },
  {
   "cell_type": "code",
   "execution_count": null,
   "metadata": {},
   "outputs": [],
   "source": []
  }
 ],
 "metadata": {
  "kernelspec": {
   "display_name": "Python 3",
   "language": "python",
   "name": "python3"
  },
  "language_info": {
   "codemirror_mode": {
    "name": "ipython",
    "version": 3
   },
   "file_extension": ".py",
   "mimetype": "text/x-python",
   "name": "python",
   "nbconvert_exporter": "python",
   "pygments_lexer": "ipython3",
   "version": "3.7.5"
  }
 },
 "nbformat": 4,
 "nbformat_minor": 4
}
