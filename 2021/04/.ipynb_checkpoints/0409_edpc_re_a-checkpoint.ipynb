{
 "cells": [
  {
   "cell_type": "code",
   "execution_count": 2,
   "metadata": {},
   "outputs": [
    {
     "name": "stdin",
     "output_type": "stream",
     "text": [
      " 4\n",
      " 10 30 40 20\n"
     ]
    },
    {
     "name": "stdout",
     "output_type": "stream",
     "text": [
      "100\n"
     ]
    }
   ],
   "source": [
    "N = int(input())\n",
    "h = list(map(int,input().split()))\n",
    "\n",
    "dp = [0]*N\n",
    "dp[0] = h[0]\n",
    "cnt = 0\n",
    "\n",
    "for i in range(1, N-1):\n",
    "    dp[i] = min(abs(h[i]-dp[i-1]), abs(h[i+1]-dp[i-1]))\n",
    "    cnt += dp[i]\n",
    "    \n",
    "print(cnt)"
   ]
  },
  {
   "cell_type": "code",
   "execution_count": null,
   "metadata": {},
   "outputs": [],
   "source": [
    "4\n",
    "10 30 40 20\n",
    "\n",
    "30"
   ]
  }
 ],
 "metadata": {
  "kernelspec": {
   "display_name": "Python 3",
   "language": "python",
   "name": "python3"
  },
  "language_info": {
   "codemirror_mode": {
    "name": "ipython",
    "version": 3
   },
   "file_extension": ".py",
   "mimetype": "text/x-python",
   "name": "python",
   "nbconvert_exporter": "python",
   "pygments_lexer": "ipython3",
   "version": "3.7.5"
  }
 },
 "nbformat": 4,
 "nbformat_minor": 4
}
