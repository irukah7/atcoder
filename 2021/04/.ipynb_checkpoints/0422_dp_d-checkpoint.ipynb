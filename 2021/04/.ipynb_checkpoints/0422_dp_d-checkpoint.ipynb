{
 "cells": [
  {
   "cell_type": "code",
   "execution_count": 8,
   "metadata": {},
   "outputs": [
    {
     "name": "stdin",
     "output_type": "stream",
     "text": [
      " 3 8\n",
      " 3 30\n",
      " 4 50\n",
      " 5 60\n"
     ]
    },
    {
     "name": "stdout",
     "output_type": "stream",
     "text": [
      "90\n"
     ]
    }
   ],
   "source": [
    "N, W = map(int, input().split())\n",
    "\n",
    "dp = [[0]*(W+1) for _ in range(N+1)]\n",
    "\n",
    "for i in range(N):\n",
    "    w, v = map(int, input().split())\n",
    "    for j in range(W+1):\n",
    "        if j - w >= 0:\n",
    "            dp[i+1][j] = max(dp[i][j-w] + v, dp[i][j])\n",
    "        else:\n",
    "            dp[i+1][j] = dp[i][j]\n",
    "print(dp[N][W])"
   ]
  },
  {
   "cell_type": "code",
   "execution_count": null,
   "metadata": {},
   "outputs": [],
   "source": [
    "3 8\n",
    "3 30\n",
    "4 50\n",
    "5 60\n"
   ]
  }
 ],
 "metadata": {
  "kernelspec": {
   "display_name": "Python 3",
   "language": "python",
   "name": "python3"
  },
  "language_info": {
   "codemirror_mode": {
    "name": "ipython",
    "version": 3
   },
   "file_extension": ".py",
   "mimetype": "text/x-python",
   "name": "python",
   "nbconvert_exporter": "python",
   "pygments_lexer": "ipython3",
   "version": "3.7.5"
  }
 },
 "nbformat": 4,
 "nbformat_minor": 4
}
