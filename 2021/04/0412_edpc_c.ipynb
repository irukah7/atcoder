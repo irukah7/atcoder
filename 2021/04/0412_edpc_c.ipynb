{
 "cells": [
  {
   "cell_type": "code",
   "execution_count": 36,
   "metadata": {},
   "outputs": [
    {
     "name": "stdin",
     "output_type": "stream",
     "text": [
      " 3\n",
      " 10 40 70\n",
      " 20 50 80\n",
      " 30 60 90\n"
     ]
    },
    {
     "name": "stdout",
     "output_type": "stream",
     "text": [
      "210\n"
     ]
    }
   ],
   "source": [
    "N = int(input())\n",
    "h = [list(map(int, input().split())) for _ in range(N)]\n",
    "\n",
    "A, B, C = [0]*N,[0]*N,[0]*N\n",
    "\n",
    "A[0] = h[0][0] # 海\n",
    "B[0] = h[0][1] # 山\n",
    "C[0] = h[0][2] # 宿題\n",
    "\n",
    "for i in range(1, N):\n",
    "    A[i] = max(B[i-1], C[i-1]) + h[i][0] #前日に山か宿題\n",
    "    B[i] = max(A[i-1], C[i-1]) + h[i][1] #前日に海か宿題\n",
    "    C[i] = max(B[i-1], A[i-1]) + h[i][2] #前日に山か海\n",
    "    \n",
    "print(max(A[N-1], B[N-1], C[N-1]))"
   ]
  },
  {
   "cell_type": "code",
   "execution_count": null,
   "metadata": {},
   "outputs": [],
   "source": [
    "3\n",
    "10 40 70\n",
    "20 50 80\n",
    "30 60 90\n"
   ]
  },
  {
   "cell_type": "code",
   "execution_count": 37,
   "metadata": {},
   "outputs": [
    {
     "data": {
      "text/plain": [
       "([10, 90, 150], [40, 120, 180], [70, 120, 210])"
      ]
     },
     "execution_count": 37,
     "metadata": {},
     "output_type": "execute_result"
    }
   ],
   "source": [
    "A,B,C"
   ]
  },
  {
   "cell_type": "code",
   "execution_count": null,
   "metadata": {},
   "outputs": [],
   "source": []
  }
 ],
 "metadata": {
  "kernelspec": {
   "display_name": "Python 3",
   "language": "python",
   "name": "python3"
  },
  "language_info": {
   "codemirror_mode": {
    "name": "ipython",
    "version": 3
   },
   "file_extension": ".py",
   "mimetype": "text/x-python",
   "name": "python",
   "nbconvert_exporter": "python",
   "pygments_lexer": "ipython3",
   "version": "3.7.5"
  }
 },
 "nbformat": 4,
 "nbformat_minor": 4
}
