{
 "cells": [
  {
   "cell_type": "code",
   "execution_count": 7,
   "metadata": {},
   "outputs": [
    {
     "name": "stdin",
     "output_type": "stream",
     "text": [
      " 12.5\n"
     ]
    },
    {
     "name": "stdout",
     "output_type": "stream",
     "text": [
      "12\n"
     ]
    }
   ],
   "source": [
    "X, Y = input().split('.')\n",
    "\n",
    "if int(Y) >= 0 and int(Y)<=2:\n",
    "    ret = X + '-'\n",
    "elif int(Y) >= 3 and int(Y)<=6:\n",
    "    ret = X\n",
    "elif int(Y) >= 7 and int(Y)<=9:\n",
    "    ret = X + '+'\n",
    "    \n",
    "print(ret)"
   ]
  },
  {
   "cell_type": "code",
   "execution_count": 27,
   "metadata": {},
   "outputs": [
    {
     "name": "stdin",
     "output_type": "stream",
     "text": [
      " 3\n",
      " saito ichiro\n",
      " saito jiro\n",
      " saito saburo\n"
     ]
    },
    {
     "name": "stdout",
     "output_type": "stream",
     "text": [
      "No\n"
     ]
    }
   ],
   "source": [
    "N = int(input())\n",
    "L = [list(map(str, input().split())) for _ in range(N)]\n",
    "L = sorted(L)\n",
    "ret = 'No'\n",
    "for i in range(N-1):\n",
    "    cnt = 0\n",
    "    for j in range(2):\n",
    "        if L[i][j] == L[i+1][j]:\n",
    "            cnt += 1\n",
    "            continue\n",
    "    if cnt == 2:\n",
    "        ret = 'Yes'\n",
    "            \n",
    "print(ret)"
   ]
  },
  {
   "cell_type": "markdown",
   "metadata": {},
   "source": []
  },
  {
   "cell_type": "code",
   "execution_count": null,
   "metadata": {},
   "outputs": [],
   "source": [
    "N = int(input())\n",
    "\n",
    "cnt = 0\n",
    "tmp = 0\n",
    "l = []\n",
    "while cnt!=N:\n",
    "    if cnt > N//2:\n",
    "        tmp = N-cnt\n",
    "        break\n",
    "    if cnt*2 >= cnt+1 and N-(cnt*2) <= N-cnt+1 and N-(cnt*2) >= 0:\n",
    "        cnt *= 2\n",
    "        l.append('B')\n",
    "    else:\n",
    "        cnt += 1\n",
    "        l.append('A')\n",
    "        \n",
    "if tmp !=0:\n",
    "    l.append('A'*tmp)\n",
    "print(''.join(l))"
   ]
  },
  {
   "cell_type": "code",
   "execution_count": 89,
   "metadata": {},
   "outputs": [
    {
     "data": {
      "text/plain": [
       "3"
      ]
     },
     "execution_count": 89,
     "metadata": {},
     "output_type": "execute_result"
    }
   ],
   "source": [
    "6//2"
   ]
  },
  {
   "cell_type": "code",
   "execution_count": 7,
   "metadata": {},
   "outputs": [
    {
     "name": "stdin",
     "output_type": "stream",
     "text": [
      " 5\n"
     ]
    },
    {
     "ename": "KeyboardInterrupt",
     "evalue": "",
     "output_type": "error",
     "traceback": [
      "\u001b[0;31m-----------------------------------------------------------------\u001b[0m",
      "\u001b[0;31mKeyboardInterrupt\u001b[0m               Traceback (most recent call last)",
      "\u001b[0;32m<ipython-input-7-e77a26b344e1>\u001b[0m in \u001b[0;36m<module>\u001b[0;34m\u001b[0m\n\u001b[1;32m      9\u001b[0m \u001b[0;34m\u001b[0m\u001b[0m\n\u001b[1;32m     10\u001b[0m \u001b[0;32mwhile\u001b[0m \u001b[0mcnt\u001b[0m \u001b[0;34m!=\u001b[0m \u001b[0;36m1\u001b[0m\u001b[0;34m:\u001b[0m\u001b[0;34m\u001b[0m\u001b[0;34m\u001b[0m\u001b[0m\n\u001b[0;32m---> 11\u001b[0;31m     \u001b[0ml\u001b[0m\u001b[0;34m.\u001b[0m\u001b[0mappend\u001b[0m\u001b[0;34m(\u001b[0m\u001b[0;34m'B'\u001b[0m\u001b[0;34m)\u001b[0m\u001b[0;34m\u001b[0m\u001b[0;34m\u001b[0m\u001b[0m\n\u001b[0m\u001b[1;32m     12\u001b[0m     \u001b[0mcnt\u001b[0m \u001b[0;34m*=\u001b[0m \u001b[0;36m1\u001b[0m\u001b[0;34m//\u001b[0m\u001b[0;36m2\u001b[0m\u001b[0;34m\u001b[0m\u001b[0;34m\u001b[0m\u001b[0m\n\u001b[1;32m     13\u001b[0m \u001b[0;34m\u001b[0m\u001b[0m\n",
      "\u001b[0;31mKeyboardInterrupt\u001b[0m: "
     ]
    }
   ],
   "source": [
    "N = int(input())\n",
    "\n",
    "l = []\n",
    "if N%2==1:\n",
    "    N -= 1\n",
    "    l.append('A')\n",
    "cnt = N//2\n",
    "l.append('B')\n",
    "    \n",
    "while cnt != 1:\n",
    "    l.append('B')\n",
    "    cnt *= 1//2\n",
    "    \n",
    "l.append('A')\n",
    "l = list(reversed(l))\n",
    "print(''.join(l))"
   ]
  },
  {
   "cell_type": "code",
   "execution_count": 8,
   "metadata": {},
   "outputs": [],
   "source": [
    "cnt = 4//2"
   ]
  },
  {
   "cell_type": "code",
   "execution_count": 10,
   "metadata": {},
   "outputs": [
    {
     "data": {
      "text/plain": [
       "1"
      ]
     },
     "execution_count": 10,
     "metadata": {},
     "output_type": "execute_result"
    }
   ],
   "source": [
    "2//2"
   ]
  },
  {
   "cell_type": "code",
   "execution_count": null,
   "metadata": {},
   "outputs": [
    {
     "name": "stdin",
     "output_type": "stream",
     "text": [
      " 5\n"
     ]
    }
   ],
   "source": [
    "N = int(input())\n",
    "\n",
    "l = []\n",
    "if N%2==1:\n",
    "    N -= 1\n",
    "    l.append('A')\n",
    "cnt = N//2\n",
    "\n",
    "\n",
    "l.append('B')\n",
    "    \n",
    "while cnt != 1:\n",
    "    l.append('B')\n",
    "    cnt *= 1//2\n",
    "    \n",
    "l.append('A')\n",
    "l = list(reversed(l))\n",
    "print(''.join(l))"
   ]
  },
  {
   "cell_type": "code",
   "execution_count": null,
   "metadata": {},
   "outputs": [],
   "source": []
  }
 ],
 "metadata": {
  "kernelspec": {
   "display_name": "Python 3",
   "language": "python",
   "name": "python3"
  },
  "language_info": {
   "codemirror_mode": {
    "name": "ipython",
    "version": 3
   },
   "file_extension": ".py",
   "mimetype": "text/x-python",
   "name": "python",
   "nbconvert_exporter": "python",
   "pygments_lexer": "ipython3",
   "version": "3.7.6"
  }
 },
 "nbformat": 4,
 "nbformat_minor": 4
}
