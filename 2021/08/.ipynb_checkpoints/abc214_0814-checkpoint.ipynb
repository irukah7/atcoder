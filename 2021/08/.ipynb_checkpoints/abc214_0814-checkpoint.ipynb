{
 "cells": [
  {
   "cell_type": "code",
   "execution_count": 3,
   "metadata": {},
   "outputs": [
    {
     "name": "stdin",
     "output_type": "stream",
     "text": [
      " 126\n"
     ]
    },
    {
     "name": "stdout",
     "output_type": "stream",
     "text": [
      "6\n"
     ]
    }
   ],
   "source": [
    "N = int(input())\n",
    "\n",
    "if N >= 1 and N <= 125:\n",
    "    print(4)\n",
    "elif N >= 126 and N <= 211:\n",
    "    print(6)\n",
    "elif N >= 212 and N <= 214:\n",
    "    print(8)"
   ]
  },
  {
   "cell_type": "code",
   "execution_count": 17,
   "metadata": {},
   "outputs": [
    {
     "name": "stdin",
     "output_type": "stream",
     "text": [
      " 30 100\n"
     ]
    },
    {
     "name": "stdout",
     "output_type": "stream",
     "text": [
      "2471\n"
     ]
    }
   ],
   "source": [
    "S, T = map(int, input().split())\n",
    "\n",
    "cnt = 0\n",
    "for i in range(S+1):\n",
    "    for j in range(S+1):\n",
    "        for k in range(S+1):\n",
    "            if i+j+k<=S and i*j*k<=T:\n",
    "                cnt += 1\n",
    "print(cnt)"
   ]
  },
  {
   "cell_type": "code",
   "execution_count": 47,
   "metadata": {},
   "outputs": [
    {
     "name": "stdin",
     "output_type": "stream",
     "text": [
      " 3\n",
      " 1 2 3\n",
      " 3 2 1\n"
     ]
    },
    {
     "name": "stdout",
     "output_type": "stream",
     "text": [
      "3\n",
      "2\n",
      "1\n"
     ]
    }
   ],
   "source": [
    "N = int(input())\n",
    "S = list(map(int, input().split()))\n",
    "T = list(map(int, input().split()))\n",
    "\n",
    "time = 0\n",
    "for i in range(0, N):\n",
    "    if i==0:\n",
    "        if T[0] < S[-1]+T[-1]:\n",
    "            time += T[0]\n",
    "        else:\n",
    "            time += S[-1]+T[-1]\n",
    "    else:\n",
    "        if time+S[i-1] < T[i]:\n",
    "            time += S[i-1]\n",
    "        else:\n",
    "            time = T[i]\n",
    "    print(time)"
   ]
  },
  {
   "cell_type": "code",
   "execution_count": null,
   "metadata": {},
   "outputs": [],
   "source": [
    " 3\n",
    " 4 1 5\n",
    " 5 10 13"
   ]
  }
 ],
 "metadata": {
  "kernelspec": {
   "display_name": "Python 3",
   "language": "python",
   "name": "python3"
  },
  "language_info": {
   "codemirror_mode": {
    "name": "ipython",
    "version": 3
   },
   "file_extension": ".py",
   "mimetype": "text/x-python",
   "name": "python",
   "nbconvert_exporter": "python",
   "pygments_lexer": "ipython3",
   "version": "3.7.6"
  }
 },
 "nbformat": 4,
 "nbformat_minor": 4
}
