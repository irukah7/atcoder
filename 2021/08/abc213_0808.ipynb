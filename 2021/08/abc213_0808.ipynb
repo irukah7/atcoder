{
 "cells": [
  {
   "cell_type": "code",
   "execution_count": 20,
   "metadata": {},
   "outputs": [
    {
     "name": "stdin",
     "output_type": "stream",
     "text": [
      " 3 6\n"
     ]
    },
    {
     "name": "stdout",
     "output_type": "stream",
     "text": [
      "5\n"
     ]
    }
   ],
   "source": [
    "A, B = map(int, input().split())\n",
    "\n",
    "a = bin(A ^ B)[2:]\n",
    "print(int(a, 2))"
   ]
  },
  {
   "cell_type": "code",
   "execution_count": 24,
   "metadata": {},
   "outputs": [
    {
     "name": "stdin",
     "output_type": "stream",
     "text": [
      " 5\n",
      " 3 1 4 15 9\n"
     ]
    },
    {
     "name": "stdout",
     "output_type": "stream",
     "text": [
      "5\n"
     ]
    }
   ],
   "source": [
    "N = int(input())\n",
    "A = list(map(int, input().split())) \n",
    "\n",
    "sort_a = sorted(A)\n",
    "print(A.index(sort_a[-2])+1)"
   ]
  },
  {
   "cell_type": "code",
   "execution_count": null,
   "metadata": {},
   "outputs": [
    {
     "name": "stdin",
     "output_type": "stream",
     "text": [
      " 1000000000 1000000000 10\n",
      " 1 1\n",
      " 10 10\n",
      " 100 100\n",
      " 1000 1000\n",
      " 10000 10000\n",
      " 100000 100000\n",
      " 1000000 1000000\n",
      " 10000000 10000000\n",
      " 100000000 100000000\n",
      " 1000000000 1000000000\n"
     ]
    }
   ],
   "source": [
    "H, W, N = map(int, input().split())\n",
    "A = [list(map(int, input().split())) for _ in range(N)]\n",
    "\n",
    "X = [list('*'*W) for _ in range(H)]\n",
    "cnt = 1\n",
    "for a in A:\n",
    "    X[a[0]-1][a[1]-1] = str(cnt)\n",
    "    cnt += 1\n",
    "\n",
    "dc = 0\n",
    "for i in range(H):\n",
    "    # popした分削る\n",
    "    i -= dc\n",
    "    if X[i].count('*') == W:\n",
    "        X.pop(i)\n",
    "        dc += 1\n",
    "    \n",
    "k = 0\n",
    "dc = 0\n",
    "while k < W:\n",
    "    count = 0\n",
    "    for i in range(len(X)):\n",
    "        if X[i][k-dc] == '*':\n",
    "            count += 1\n",
    "        \n",
    "    if count == len(X):\n",
    "        for i in range(len(X)):\n",
    "            X[i].pop(k-dc)    \n",
    "        dc += 1\n",
    "\n",
    "    k += 1\n",
    "    \n",
    "ans = []\n",
    "for i in range(1, cnt):\n",
    "    for j in range(len(X)):\n",
    "        for k in range(len(X[0])):\n",
    "            if X[j][k] != '*':\n",
    "                if int(X[j][k]) == i:\n",
    "                    ans.append((j+1, k+1))\n",
    "\n",
    "for a in ans:\n",
    "    print(a[0], a[1])"
   ]
  },
  {
   "cell_type": "code",
   "execution_count": 86,
   "metadata": {},
   "outputs": [
    {
     "data": {
      "text/plain": [
       "[['*', '2'], ['1', '*']]"
      ]
     },
     "execution_count": 86,
     "metadata": {},
     "output_type": "execute_result"
    }
   ],
   "source": [
    "X"
   ]
  },
  {
   "cell_type": "code",
   "execution_count": 87,
   "metadata": {},
   "outputs": [
    {
     "data": {
      "text/plain": [
       "2"
      ]
     },
     "execution_count": 87,
     "metadata": {},
     "output_type": "execute_result"
    }
   ],
   "source": [
    "len(X[0])"
   ]
  },
  {
   "cell_type": "code",
   "execution_count": 89,
   "metadata": {},
   "outputs": [
    {
     "data": {
      "text/plain": [
       "'2'"
      ]
     },
     "execution_count": 89,
     "metadata": {},
     "output_type": "execute_result"
    }
   ],
   "source": [
    "X[0][1]"
   ]
  },
  {
   "cell_type": "code",
   "execution_count": null,
   "metadata": {},
   "outputs": [],
   "source": []
  }
 ],
 "metadata": {
  "kernelspec": {
   "display_name": "Python 3",
   "language": "python",
   "name": "python3"
  },
  "language_info": {
   "codemirror_mode": {
    "name": "ipython",
    "version": 3
   },
   "file_extension": ".py",
   "mimetype": "text/x-python",
   "name": "python",
   "nbconvert_exporter": "python",
   "pygments_lexer": "ipython3",
   "version": "3.7.6"
  }
 },
 "nbformat": 4,
 "nbformat_minor": 4
}
