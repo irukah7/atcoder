{
 "cells": [
  {
   "cell_type": "code",
   "execution_count": 25,
   "metadata": {},
   "outputs": [
    {
     "name": "stdin",
     "output_type": "stream",
     "text": [
      " 3\n",
      " 8 5\n",
      " 4 4\n",
      " 7 9\n"
     ]
    },
    {
     "name": "stdout",
     "output_type": "stream",
     "text": [
      "5\n"
     ]
    }
   ],
   "source": [
    "N = int(input())\n",
    "L = [list(map(int, input().split())) for _ in range(N)]\n",
    "\n",
    "La = []\n",
    "Lb = []\n",
    "for l in L:\n",
    "    La.append(l[0])\n",
    "    Lb.append(l[1])\n",
    "\n",
    "idx_a = La.index(min(La))\n",
    "idx_Lb = Lb[idx_a]\n",
    "\n",
    "Lb.pop(idx_a)\n",
    "\n",
    "if max(min(La), min(Lb)) < min(La)+idx_Lb:\n",
    "    print(max(min(La), min(Lb)))\n",
    "else:\n",
    "    print(min(La)+idx_Lb)"
   ]
  },
  {
   "cell_type": "code",
   "execution_count": 18,
   "metadata": {},
   "outputs": [
    {
     "data": {
      "text/plain": [
       "[8, 4, 7]"
      ]
     },
     "execution_count": 18,
     "metadata": {},
     "output_type": "execute_result"
    }
   ],
   "source": [
    "La"
   ]
  },
  {
   "cell_type": "code",
   "execution_count": 21,
   "metadata": {},
   "outputs": [
    {
     "data": {
      "text/plain": [
       "1"
      ]
     },
     "execution_count": 21,
     "metadata": {},
     "output_type": "execute_result"
    }
   ],
   "source": [
    "3\n",
    "11 7\n",
    "3 2\n",
    "6 7\n"
   ]
  },
  {
   "cell_type": "code",
   "execution_count": null,
   "metadata": {},
   "outputs": [],
   "source": []
  }
 ],
 "metadata": {
  "kernelspec": {
   "display_name": "Python 3",
   "language": "python",
   "name": "python3"
  },
  "language_info": {
   "codemirror_mode": {
    "name": "ipython",
    "version": 3
   },
   "file_extension": ".py",
   "mimetype": "text/x-python",
   "name": "python",
   "nbconvert_exporter": "python",
   "pygments_lexer": "ipython3",
   "version": "3.7.5"
  }
 },
 "nbformat": 4,
 "nbformat_minor": 4
}
