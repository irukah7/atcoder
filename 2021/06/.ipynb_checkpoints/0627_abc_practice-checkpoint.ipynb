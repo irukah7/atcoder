{
 "cells": [
  {
   "cell_type": "code",
   "execution_count": 2,
   "metadata": {},
   "outputs": [
    {
     "name": "stdin",
     "output_type": "stream",
     "text": [
      " 1 21\n"
     ]
    },
    {
     "name": "stdout",
     "output_type": "stream",
     "text": [
      "odd\n"
     ]
    }
   ],
   "source": [
    "# 086a\n",
    "a, b = map(int, input().split())\n",
    "\n",
    "print('Even' if a*b%2==0 else 'Odd')"
   ]
  },
  {
   "cell_type": "code",
   "execution_count": 13,
   "metadata": {},
   "outputs": [
    {
     "name": "stdin",
     "output_type": "stream",
     "text": [
      " 101\n"
     ]
    },
    {
     "name": "stdout",
     "output_type": "stream",
     "text": [
      "2\n"
     ]
    }
   ],
   "source": [
    "# 081a\n",
    "s = list(input())\n",
    "\n",
    "print(s.count('1'))"
   ]
  },
  {
   "cell_type": "code",
   "execution_count": 5,
   "metadata": {},
   "outputs": [
    {
     "name": "stdin",
     "output_type": "stream",
     "text": [
      " 6\n",
      " 382253568 723152896 37802240 379425024 404894720 471526144\n"
     ]
    },
    {
     "name": "stdout",
     "output_type": "stream",
     "text": [
      "8\n"
     ]
    }
   ],
   "source": [
    "# 081b\n",
    "N = int(input())\n",
    "A = list(map(int, input().split()))\n",
    "\n",
    "cnt = 0\n",
    "judge = True\n",
    "while judge:\n",
    "    for i in range(len(A)):\n",
    "        if A[i]%2 == 0:\n",
    "            A[i] = A[i]//2\n",
    "        else:\n",
    "            judge = False\n",
    "            break\n",
    "    if judge:\n",
    "        cnt += 1\n",
    "    \n",
    "print(cnt)"
   ]
  },
  {
   "cell_type": "code",
   "execution_count": 86,
   "metadata": {},
   "outputs": [
    {
     "name": "stdin",
     "output_type": "stream",
     "text": [
      " 100\n"
     ]
    },
    {
     "name": "stdout",
     "output_type": "stream",
     "text": [
      "64\n"
     ]
    }
   ],
   "source": [
    "# 068b\n",
    "N = [i for i in range(1, int(input())+1) if i%2==0]\n",
    "\n",
    "if N != []:\n",
    "    judge=True\n",
    "    cnt = {}\n",
    "    for n in N:\n",
    "        cnt[n] = 0\n",
    "    i = 0\n",
    "    tmpn = N[0]\n",
    "    while judge:\n",
    "        if N[i]%2==0:\n",
    "            N[i] //= 2\n",
    "            cnt[tmpn] += 1\n",
    "        else:\n",
    "            i += 1\n",
    "            if i==len(N):\n",
    "                judge=False\n",
    "            else:\n",
    "                tmpn = N[i]\n",
    "    print(max(cnt, key=cnt.get))\n",
    "else:\n",
    "    print(1)"
   ]
  },
  {
   "cell_type": "code",
   "execution_count": 92,
   "metadata": {},
   "outputs": [
    {
     "name": "stdin",
     "output_type": "stream",
     "text": [
      " 1\n",
      " 1 1 1 1 1\n"
     ]
    },
    {
     "name": "stdout",
     "output_type": "stream",
     "text": [
      "0\n"
     ]
    }
   ],
   "source": [
    "#102b\n",
    "N = int(input())\n",
    "A = list(map(int, input().split()))\n",
    "\n",
    "maxn = 0\n",
    "for i in range(N-1):\n",
    "    for j in range(i, N):\n",
    "        maxn = max(maxn, abs(A[i]-A[j]))\n",
    "        \n",
    "print(maxn)"
   ]
  },
  {
   "cell_type": "code",
   "execution_count": 93,
   "metadata": {},
   "outputs": [
    {
     "name": "stdin",
     "output_type": "stream",
     "text": [
      " 4\n",
      " 1 4 6 3\n"
     ]
    },
    {
     "name": "stdout",
     "output_type": "stream",
     "text": [
      "5\n"
     ]
    }
   ],
   "source": [
    "#102b \n",
    "N = int(input())\n",
    "A = list(map(int, input().split()))\n",
    "\n",
    "print(max(A)-min(A))"
   ]
  },
  {
   "cell_type": "code",
   "execution_count": 96,
   "metadata": {},
   "outputs": [
    {
     "name": "stdin",
     "output_type": "stream",
     "text": [
      " 2\n",
      " 12 5\n",
      " 1000 2000\n"
     ]
    },
    {
     "name": "stdout",
     "output_type": "stream",
     "text": [
      "-1.0\n"
     ]
    }
   ],
   "source": [
    "#113b\n",
    "N = int(input())\n",
    "T, A = map(int, input().split())\n",
    "H = list(map(int, input().split()))\n",
    "\n",
    "minn = 100\n",
    "for h in H:\n",
    "    diff = A-(T-(h*0.006))\n",
    "    minn = min(minn, diff)\n",
    "    \n",
    "print(minn)"
   ]
  },
  {
   "cell_type": "code",
   "execution_count": 97,
   "metadata": {},
   "outputs": [
    {
     "data": {
      "text/plain": [
       "5.0"
      ]
     },
     "execution_count": 97,
     "metadata": {},
     "output_type": "execute_result"
    }
   ],
   "source": [
    "diff"
   ]
  },
  {
   "cell_type": "code",
   "execution_count": null,
   "metadata": {},
   "outputs": [],
   "source": []
  }
 ],
 "metadata": {
  "kernelspec": {
   "display_name": "Python 3",
   "language": "python",
   "name": "python3"
  },
  "language_info": {
   "codemirror_mode": {
    "name": "ipython",
    "version": 3
   },
   "file_extension": ".py",
   "mimetype": "text/x-python",
   "name": "python",
   "nbconvert_exporter": "python",
   "pygments_lexer": "ipython3",
   "version": "3.7.5"
  }
 },
 "nbformat": 4,
 "nbformat_minor": 4
}
