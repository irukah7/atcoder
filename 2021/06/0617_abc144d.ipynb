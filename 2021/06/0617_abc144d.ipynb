{
 "cells": [
  {
   "cell_type": "code",
   "execution_count": 50,
   "metadata": {},
   "outputs": [
    {
     "name": "stdin",
     "output_type": "stream",
     "text": [
      " 3 1 8\n"
     ]
    },
    {
     "name": "stdout",
     "output_type": "stream",
     "text": [
      "4.23639479905884\n"
     ]
    }
   ],
   "source": [
    "import math\n",
    "a, b, x = list(map(int, input().split()))\n",
    "# xが半分より多い時 tan = (2(a^2*b-x)/a*a)\n",
    "if x > (a*a*b)/2:\n",
    "    theta = (2*(a*a*b-x))/(a*a*a)\n",
    "    print(math.degrees(math.atan(theta)))\n",
    "else:\n",
    "    # xが半分より少ない時 tan =a*b*b/2*x\n",
    "    theta = (a*b*b) / (2*x)\n",
    "    print(math.degrees(math.atan(theta)))"
   ]
  },
  {
   "cell_type": "code",
   "execution_count": 19,
   "metadata": {},
   "outputs": [
    {
     "data": {
      "text/plain": [
       "0.008092177346063363"
      ]
     },
     "execution_count": 19,
     "metadata": {},
     "output_type": "execute_result"
    }
   ],
   "source": []
  },
  {
   "cell_type": "code",
   "execution_count": 54,
   "metadata": {},
   "outputs": [
    {
     "name": "stdin",
     "output_type": "stream",
     "text": [
      " 2 2 4\n"
     ]
    },
    {
     "name": "stdout",
     "output_type": "stream",
     "text": [
      "45.0\n"
     ]
    }
   ],
   "source": [
    "import math\n",
    "a,b,x = list(map(int, input().split()))\n",
    "\n",
    "if x > (a*a*b)/2:\n",
    "    theta = (2*(a*a*b-x))/(a*a*a)\n",
    "    print(math.degrees(math.atan(theta)))\n",
    "else:\n",
    "    theta = (a*b*b)/(2*x)\n",
    "    print(math.degrees(math.atan(theta)))"
   ]
  },
  {
   "cell_type": "code",
   "execution_count": null,
   "metadata": {},
   "outputs": [],
   "source": []
  }
 ],
 "metadata": {
  "kernelspec": {
   "display_name": "Python 3",
   "language": "python",
   "name": "python3"
  },
  "language_info": {
   "codemirror_mode": {
    "name": "ipython",
    "version": 3
   },
   "file_extension": ".py",
   "mimetype": "text/x-python",
   "name": "python",
   "nbconvert_exporter": "python",
   "pygments_lexer": "ipython3",
   "version": "3.7.5"
  }
 },
 "nbformat": 4,
 "nbformat_minor": 4
}
