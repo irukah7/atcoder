{
 "cells": [
  {
   "cell_type": "code",
   "execution_count": 7,
   "metadata": {},
   "outputs": [
    {
     "name": "stdin",
     "output_type": "stream",
     "text": [
      " 3 4 10 40\n"
     ]
    },
    {
     "name": "stdout",
     "output_type": "stream",
     "text": [
      "4.5642571943300565\n"
     ]
    }
   ],
   "source": [
    "import math\n",
    "\n",
    "A, B, H, M = list(map(int, input().split()))\n",
    "\n",
    "# 時針の端点の求め方\n",
    "# (cos(30H+0.5M), sin(30H+0.5M))\n",
    "ziX = A*math.cos(math.radians(30*H+0.5*M))\n",
    "ziY = A*math.sin(math.radians(30*H+0.5*M))\n",
    "\n",
    "# 短針の端点の求め方\n",
    "# (cos6M, sin6M)\n",
    "huX = B*math.cos(math.radians(6*M))\n",
    "huY = B*math.sin(math.radians(6*M))\n",
    "\n",
    "# 2点間の距離の求め方\n",
    "ret = math.sqrt((ziX-huX)**2 + (ziY-huY)**2)\n",
    "\n",
    "print(ret)"
   ]
  },
  {
   "cell_type": "code",
   "execution_count": 5,
   "metadata": {},
   "outputs": [
    {
     "data": {
      "text/plain": [
       "-5.51091059616309e-16"
      ]
     },
     "execution_count": 5,
     "metadata": {},
     "output_type": "execute_result"
    }
   ],
   "source": [
    "ziX"
   ]
  },
  {
   "cell_type": "code",
   "execution_count": null,
   "metadata": {},
   "outputs": [],
   "source": []
  }
 ],
 "metadata": {
  "kernelspec": {
   "display_name": "Python 3",
   "language": "python",
   "name": "python3"
  },
  "language_info": {
   "codemirror_mode": {
    "name": "ipython",
    "version": 3
   },
   "file_extension": ".py",
   "mimetype": "text/x-python",
   "name": "python",
   "nbconvert_exporter": "python",
   "pygments_lexer": "ipython3",
   "version": "3.7.5"
  }
 },
 "nbformat": 4,
 "nbformat_minor": 4
}
