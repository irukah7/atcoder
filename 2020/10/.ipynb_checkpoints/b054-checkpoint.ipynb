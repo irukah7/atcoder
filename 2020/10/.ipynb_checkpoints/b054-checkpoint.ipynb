{
 "cells": [
  {
   "cell_type": "code",
   "execution_count": 5,
   "metadata": {},
   "outputs": [
    {
     "name": "stdin",
     "output_type": "stream",
     "text": [
      " 3 2\n",
      " #.#\n",
      " .#.\n",
      " #.#\n",
      " #.\n",
      " .#\n"
     ]
    }
   ],
   "source": [
    "# 入力\n",
    "N, M = map(int,input().split())\n",
    "\n",
    "A = [input().split() for i in range(N)]\n",
    "B = [input().split() for i in range(M)]\n",
    "\n",
    "# for i in range(N):\n",
    "#     for j in range(M):\n",
    "#         print()"
   ]
  },
  {
   "cell_type": "code",
   "execution_count": null,
   "metadata": {},
   "outputs": [],
   "source": []
  }
 ],
 "metadata": {
  "kernelspec": {
   "display_name": "Python 3",
   "language": "python",
   "name": "python3"
  },
  "language_info": {
   "codemirror_mode": {
    "name": "ipython",
    "version": 3
   },
   "file_extension": ".py",
   "mimetype": "text/x-python",
   "name": "python",
   "nbconvert_exporter": "python",
   "pygments_lexer": "ipython3",
   "version": "3.7.5"
  }
 },
 "nbformat": 4,
 "nbformat_minor": 4
}
