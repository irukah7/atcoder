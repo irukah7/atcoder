{
 "cells": [
  {
   "cell_type": "code",
   "execution_count": 11,
   "metadata": {},
   "outputs": [
    {
     "name": "stdin",
     "output_type": "stream",
     "text": [
      " 2\n"
     ]
    },
    {
     "name": "stdout",
     "output_type": "stream",
     "text": [
      "\n"
     ]
    }
   ],
   "source": [
    "# 1 >> a\n",
    "# 26 >> z\n",
    "# 27 >> aa\n",
    "# 702 >> zz\n",
    "# 704 >> aab\n"
   ]
  },
  {
   "cell_type": "code",
   "execution_count": 88,
   "metadata": {},
   "outputs": [
    {
     "name": "stdin",
     "output_type": "stream",
     "text": [
      " 30\n"
     ]
    },
    {
     "name": "stdout",
     "output_type": "stream",
     "text": [
      "dd\n"
     ]
    }
   ],
   "source": [
    "# 入力\n",
    "N = int(input())\n",
    "\n",
    "li = []\n",
    "\n",
    "# Nの分だけループを回してasciiコードを生成する\n",
    "for i in range(0, N):\n",
    "    if i < 26:\n",
    "        li.append(chr(97 + i%26))\n",
    "#     if i >= 26:\n",
    "#         li.append(chr(97 + i%26)+chr(97 + i%26))\n",
    "\n",
    "# 末尾を出力する\n",
    "print(li[-1])"
   ]
  },
  {
   "cell_type": "code",
   "execution_count": 102,
   "metadata": {},
   "outputs": [
    {
     "name": "stdin",
     "output_type": "stream",
     "text": [
      " 27\n"
     ]
    },
    {
     "name": "stdout",
     "output_type": "stream",
     "text": [
      "aa\n"
     ]
    }
   ],
   "source": [
    "N = int(input())\n",
    "ans = \"\"\n",
    "while N > 0:\n",
    "    N -= 1\n",
    "    ans += chr(97 + N%26)\n",
    "    N //= 26\n",
    "print(ans[::-1])"
   ]
  },
  {
   "cell_type": "code",
   "execution_count": 13,
   "metadata": {},
   "outputs": [
    {
     "name": "stdin",
     "output_type": "stream",
     "text": [
      " 27\n"
     ]
    },
    {
     "name": "stdout",
     "output_type": "stream",
     "text": [
      "aa\n"
     ]
    }
   ],
   "source": [
    "# 正解！\n",
    "N = int(input())\n",
    "\n",
    "ans = ''\n",
    "while N > 0:\n",
    "    # 入力1の時N-1で余り0になる = aが入る\n",
    "    N -= 1\n",
    "    ans += chr(97 + N%26)\n",
    "    # 商を取得する\n",
    "    N //= 26\n",
    "print(ans[::-1])"
   ]
  },
  {
   "cell_type": "code",
   "execution_count": null,
   "metadata": {},
   "outputs": [],
   "source": []
  }
 ],
 "metadata": {
  "kernelspec": {
   "display_name": "Python 3",
   "language": "python",
   "name": "python3"
  },
  "language_info": {
   "codemirror_mode": {
    "name": "ipython",
    "version": 3
   },
   "file_extension": ".py",
   "mimetype": "text/x-python",
   "name": "python",
   "nbconvert_exporter": "python",
   "pygments_lexer": "ipython3",
   "version": "3.7.5"
  }
 },
 "nbformat": 4,
 "nbformat_minor": 4
}
