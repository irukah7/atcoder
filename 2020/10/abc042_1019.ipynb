{
 "cells": [
  {
   "cell_type": "code",
   "execution_count": 14,
   "metadata": {},
   "outputs": [
    {
     "name": "stdin",
     "output_type": "stream",
     "text": [
      " 3 3\n",
      " dxx\n",
      " axx\n",
      " cxx\n"
     ]
    },
    {
     "name": "stdout",
     "output_type": "stream",
     "text": [
      "axxcxxdxx\n"
     ]
    }
   ],
   "source": [
    "# 入力\n",
    "N, L = map(int, input().split())\n",
    "S = [input() for i in range(N)]\n",
    "\n",
    "# ソートして結合して出力\n",
    "print(''.join(sorted(S)))"
   ]
  },
  {
   "cell_type": "code",
   "execution_count": 21,
   "metadata": {},
   "outputs": [
    {
     "name": "stdin",
     "output_type": "stream",
     "text": [
      " 3 3\n",
      " zzz\n",
      " abc\n",
      " xyz\n"
     ]
    },
    {
     "name": "stdout",
     "output_type": "stream",
     "text": [
      "abcxyzzzz\n"
     ]
    }
   ],
   "source": [
    "# 入力\n",
    "N, L = map(int, input().split())\n",
    "S = [input() for i in range(N)]\n",
    "\n",
    "# 文字列の比較をして左の文字列の方が大きければ入れ替え\n",
    "for i in range(0, len(S)-1):\n",
    "    for j in range(i+1, len(S)):\n",
    "        if S[i] > S[j]:\n",
    "            S[i], S[j] = S[j], S[i]\n",
    "\n",
    "# 結合して出力\n",
    "print(''.join(S))"
   ]
  },
  {
   "cell_type": "code",
   "execution_count": null,
   "metadata": {},
   "outputs": [],
   "source": []
  }
 ],
 "metadata": {
  "kernelspec": {
   "display_name": "Python 3",
   "language": "python",
   "name": "python3"
  },
  "language_info": {
   "codemirror_mode": {
    "name": "ipython",
    "version": 3
   },
   "file_extension": ".py",
   "mimetype": "text/x-python",
   "name": "python",
   "nbconvert_exporter": "python",
   "pygments_lexer": "ipython3",
   "version": "3.7.5"
  }
 },
 "nbformat": 4,
 "nbformat_minor": 4
}
