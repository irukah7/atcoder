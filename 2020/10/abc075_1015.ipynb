{
 "cells": [
  {
   "cell_type": "code",
   "execution_count": null,
   "metadata": {},
   "outputs": [],
   "source": [
    ". . . . .\n",
    ". # . # .\n",
    ". . . . .\n",
    "\n",
    "\n",
    "[0][0]-> [0][1] or [1][0] or [1][1]\n",
    "[0][1]-> [0][0] or [0][2] or [1][0] or [1][1] or [1][2]\n",
    "[0][2]-> []"
   ]
  },
  {
   "cell_type": "code",
   "execution_count": 2,
   "metadata": {},
   "outputs": [
    {
     "name": "stdin",
     "output_type": "stream",
     "text": [
      " 3 5\n",
      " .....\n",
      " .#.#.\n",
      " .....\n"
     ]
    },
    {
     "name": "stdout",
     "output_type": "stream",
     "text": [
      "11211\n",
      "1#2#1\n",
      "11211\n"
     ]
    }
   ],
   "source": [
    "H, W = map(int, (input().split()))\n",
    "S = [input() for i in range(H)]\n",
    "\n",
    "ret = ['' for i in range(H)]\n",
    "for h in range(H):\n",
    "    for w in range(W):\n",
    "        counter = 0\n",
    "        if S[h][w] == '.':\n",
    "            # 上に行がある場合\n",
    "            if h > 0:\n",
    "                up_row = S[h-1][w-1 if w > 0 else 0:w+2]\n",
    "                counter += up_row.count('#')\n",
    "            \n",
    "            current_row = S[h][w-1 if w > 0 else 0:w+2]\n",
    "            counter += current_row.count('#')\n",
    "            \n",
    "            # 下に行がある場合\n",
    "            if h < H-1:\n",
    "                under_row = S[h+1][w-1 if w > 0 else 0:w+2]\n",
    "                counter += under_row.count('#')\n",
    "                \n",
    "        ret[h] += str(counter) if S[h][w] == '.' else '#'\n",
    "            \n",
    "for r in ret:\n",
    "    print(r)            "
   ]
  },
  {
   "cell_type": "code",
   "execution_count": 3,
   "metadata": {},
   "outputs": [
    {
     "data": {
      "text/plain": [
       "['.....', '.#.#.', '.....']"
      ]
     },
     "execution_count": 3,
     "metadata": {},
     "output_type": "execute_result"
    }
   ],
   "source": [
    "S"
   ]
  },
  {
   "cell_type": "code",
   "execution_count": 4,
   "metadata": {},
   "outputs": [
    {
     "data": {
      "text/plain": [
       "['', '', '']"
      ]
     },
     "execution_count": 4,
     "metadata": {},
     "output_type": "execute_result"
    }
   ],
   "source": [
    "ret = ['' for i in range(H)]\n",
    "ret"
   ]
  },
  {
   "cell_type": "code",
   "execution_count": null,
   "metadata": {},
   "outputs": [],
   "source": []
  }
 ],
 "metadata": {
  "kernelspec": {
   "display_name": "Python 3",
   "language": "python",
   "name": "python3"
  },
  "language_info": {
   "codemirror_mode": {
    "name": "ipython",
    "version": 3
   },
   "file_extension": ".py",
   "mimetype": "text/x-python",
   "name": "python",
   "nbconvert_exporter": "python",
   "pygments_lexer": "ipython3",
   "version": "3.7.5"
  }
 },
 "nbformat": 4,
 "nbformat_minor": 4
}
