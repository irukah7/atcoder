{
 "cells": [
  {
   "cell_type": "code",
   "execution_count": 13,
   "metadata": {},
   "outputs": [
    {
     "name": "stdin",
     "output_type": "stream",
     "text": [
      " 7\n",
      "  5 0 7 8 3 3 2\n"
     ]
    },
    {
     "name": "stdout",
     "output_type": "stream",
     "text": [
      "312\n"
     ]
    }
   ],
   "source": [
    "import itertools as it\n",
    "# 入力\n",
    "N = int(input())\n",
    "d = map(int, input().split())\n",
    "\n",
    "# 2つの組み合わせの全パターンを取得する\n",
    "k = it.combinations(d, 2)\n",
    "# 組み合わせの掛け算をリストに詰める\n",
    "sum_k = [a*b for a, b in k]\n",
    "\n",
    "# sumして出力\n",
    "print(sum(sum_k))"
   ]
  },
  {
   "cell_type": "code",
   "execution_count": 17,
   "metadata": {},
   "outputs": [
    {
     "name": "stdout",
     "output_type": "stream",
     "text": [
      "[0, 35, 40, 15, 15, 10, 0, 0, 0, 0, 0, 56, 21, 21, 14, 24, 24, 16, 9, 6, 6]\n"
     ]
    }
   ],
   "source": [
    "print(sum_k)"
   ]
  },
  {
   "cell_type": "code",
   "execution_count": null,
   "metadata": {},
   "outputs": [],
   "source": []
  }
 ],
 "metadata": {
  "kernelspec": {
   "display_name": "Python 3",
   "language": "python",
   "name": "python3"
  },
  "language_info": {
   "codemirror_mode": {
    "name": "ipython",
    "version": 3
   },
   "file_extension": ".py",
   "mimetype": "text/x-python",
   "name": "python",
   "nbconvert_exporter": "python",
   "pygments_lexer": "ipython3",
   "version": "3.7.5"
  }
 },
 "nbformat": 4,
 "nbformat_minor": 4
}
