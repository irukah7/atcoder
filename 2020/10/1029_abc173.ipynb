{
 "cells": [
  {
   "cell_type": "code",
   "execution_count": 40,
   "metadata": {},
   "outputs": [
    {
     "name": "stdin",
     "output_type": "stream",
     "text": [
      " 2 3 2\n",
      " ..#\n",
      " ###\n"
     ]
    },
    {
     "name": "stdout",
     "output_type": "stream",
     "text": [
      "5\n"
     ]
    }
   ],
   "source": [
    "import itertools\n",
    "import numpy as np\n",
    "\n",
    "# H, W, K\n",
    "H, W, K = map(int, input().split())\n",
    "\n",
    "# cijを取得\n",
    "C = np.array([list(input()) for i in range(H)])\n",
    "\n",
    "rows = [i for i in range(H)]\n",
    "columns = [j for j in range(W)]\n",
    "\n",
    "row_combs = []\n",
    "for i in range(H+1):\n",
    "    row_combs.extend(list(itertools.combinations(rows, i)))\n",
    "    \n",
    "column_combs = []\n",
    "for j in range(W+1):\n",
    "    column_combs.extend(list(itertools.combinations(columns, j)))\n",
    "    \n",
    "ret = 0\n",
    "for rows in row_combs:\n",
    "    for columns in column_combs:\n",
    "        tmp_rows = C[rows, :]\n",
    "        tmp_c = tmp_rows[:, columns]\n",
    "        ret += 1 if np.sum(tmp_c == '#') == K else 0\n",
    "                     \n",
    "print(ret)"
   ]
  },
  {
   "cell_type": "code",
   "execution_count": null,
   "metadata": {},
   "outputs": [],
   "source": []
  },
  {
   "cell_type": "code",
   "execution_count": null,
   "metadata": {},
   "outputs": [],
   "source": []
  }
 ],
 "metadata": {
  "kernelspec": {
   "display_name": "Python 3",
   "language": "python",
   "name": "python3"
  },
  "language_info": {
   "codemirror_mode": {
    "name": "ipython",
    "version": 3
   },
   "file_extension": ".py",
   "mimetype": "text/x-python",
   "name": "python",
   "nbconvert_exporter": "python",
   "pygments_lexer": "ipython3",
   "version": "3.7.5"
  }
 },
 "nbformat": 4,
 "nbformat_minor": 4
}
