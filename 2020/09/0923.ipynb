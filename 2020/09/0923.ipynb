{
 "cells": [
  {
   "cell_type": "code",
   "execution_count": 9,
   "metadata": {},
   "outputs": [
    {
     "name": "stdin",
     "output_type": "stream",
     "text": [
      " 7 7\n"
     ]
    },
    {
     "name": "stdout",
     "output_type": "stream",
     "text": [
      "7777777\n"
     ]
    }
   ],
   "source": [
    "a, b = list(map(int,input().split()))\n",
    "\n",
    "my_list = []\n",
    "\n",
    "if a > b:\n",
    "    for i in range(a):\n",
    "        my_list.append(b)\n",
    "elif b > a:\n",
    "    for i in range(b):\n",
    "        my_list.append(a)\n",
    "else:\n",
    "    for i in range(a):\n",
    "        my_list.append(b)\n",
    "        \n",
    "print(''.join([str(n) for n in my_list]))"
   ]
  },
  {
   "cell_type": "code",
   "execution_count": null,
   "metadata": {},
   "outputs": [],
   "source": []
  }
 ],
 "metadata": {
  "kernelspec": {
   "display_name": "Python 3",
   "language": "python",
   "name": "python3"
  },
  "language_info": {
   "codemirror_mode": {
    "name": "ipython",
    "version": 3
   },
   "file_extension": ".py",
   "mimetype": "text/x-python",
   "name": "python",
   "nbconvert_exporter": "python",
   "pygments_lexer": "ipython3",
   "version": "3.7.5"
  }
 },
 "nbformat": 4,
 "nbformat_minor": 4
}
