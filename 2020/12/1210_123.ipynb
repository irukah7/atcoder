{
 "cells": [
  {
   "cell_type": "code",
   "execution_count": 39,
   "metadata": {},
   "outputs": [
    {
     "name": "stdin",
     "output_type": "stream",
     "text": [
      " 29\n",
      " 20\n",
      " 7\n",
      " 35\n",
      " 120\n"
     ]
    },
    {
     "name": "stdout",
     "output_type": "stream",
     "text": [
      "215\n"
     ]
    }
   ],
   "source": [
    "import numpy as np\n",
    "\n",
    "O = np.array([int(input()) for i in range(5)])\n",
    "\n",
    "# 10で割り切れるものと割り切れないもののリストに直す\n",
    "O_1 = O[O%10 == 0]\n",
    "O_2 = O[O%10 != 0]\n",
    "\n",
    "# O_1はそのままsumする\n",
    "ret = np.sum(O_1)\n",
    "\n",
    "if len(O_2) > 0:\n",
    "    last_idx = np.argmin(O_2 % 10)\n",
    "    \n",
    "    _O_2 = np.delete(O_2, last_idx)\n",
    "    \n",
    "    _O_2 = _O_2 + (10 - _O_2%10)\n",
    "    \n",
    "    ret += np.sum(_O_2) + O_2[last_idx]\n",
    "    \n",
    "print(ret)"
   ]
  },
  {
   "cell_type": "code",
   "execution_count": 36,
   "metadata": {},
   "outputs": [
    {
     "data": {
      "text/plain": [
       "array([11, 12, 14, 14])"
      ]
     },
     "execution_count": 36,
     "metadata": {},
     "output_type": "execute_result"
    }
   ],
   "source": [
    "O_2"
   ]
  },
  {
   "cell_type": "code",
   "execution_count": null,
   "metadata": {},
   "outputs": [],
   "source": [
    "29\n",
    " 20\n",
    " 7\n",
    " 35\n",
    " 120"
   ]
  }
 ],
 "metadata": {
  "kernelspec": {
   "display_name": "Python 3",
   "language": "python",
   "name": "python3"
  },
  "language_info": {
   "codemirror_mode": {
    "name": "ipython",
    "version": 3
   },
   "file_extension": ".py",
   "mimetype": "text/x-python",
   "name": "python",
   "nbconvert_exporter": "python",
   "pygments_lexer": "ipython3",
   "version": "3.7.5"
  }
 },
 "nbformat": 4,
 "nbformat_minor": 4
}
