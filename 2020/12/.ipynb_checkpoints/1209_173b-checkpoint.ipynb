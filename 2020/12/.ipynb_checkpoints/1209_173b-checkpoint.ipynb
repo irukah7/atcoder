{
 "cells": [
  {
   "cell_type": "code",
   "execution_count": 2,
   "metadata": {},
   "outputs": [
    {
     "name": "stdin",
     "output_type": "stream",
     "text": [
      " 6\n",
      " AC\n",
      " TLE\n",
      " AC\n",
      " AC\n",
      " WA\n",
      " TLE\n"
     ]
    },
    {
     "name": "stdout",
     "output_type": "stream",
     "text": [
      "AC × 3\n",
      "WA × 1\n",
      "TLE × 2\n",
      "RE × 0\n"
     ]
    }
   ],
   "source": [
    "N = int(input())\n",
    "\n",
    "dic = {\n",
    "    'AC': 0,\n",
    "    'WA': 0,\n",
    "    'TLE': 0,\n",
    "    'RE': 0\n",
    "}\n",
    "\n",
    "for i in range(N):\n",
    "    \n",
    "    S = input()\n",
    "    dic[S] += 1\n",
    "\n",
    "for key, value in dic.items():\n",
    "    print(key + ' x ' + str(value))"
   ]
  },
  {
   "cell_type": "code",
   "execution_count": null,
   "metadata": {},
   "outputs": [],
   "source": []
  }
 ],
 "metadata": {
  "kernelspec": {
   "display_name": "Python 3",
   "language": "python",
   "name": "python3"
  },
  "language_info": {
   "codemirror_mode": {
    "name": "ipython",
    "version": 3
   },
   "file_extension": ".py",
   "mimetype": "text/x-python",
   "name": "python",
   "nbconvert_exporter": "python",
   "pygments_lexer": "ipython3",
   "version": "3.7.5"
  }
 },
 "nbformat": 4,
 "nbformat_minor": 4
}
