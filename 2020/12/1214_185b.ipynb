{
 "cells": [
  {
   "cell_type": "code",
   "execution_count": 32,
   "metadata": {},
   "outputs": [
    {
     "name": "stdin",
     "output_type": "stream",
     "text": [
      " 20 1 30\n",
      " 1 10\n"
     ]
    },
    {
     "name": "stdout",
     "output_type": "stream",
     "text": [
      "20\n",
      "No\n"
     ]
    }
   ],
   "source": [
    "# 入力\n",
    "N, M, T = map(int, input().split())\n",
    "\n",
    "zan = N\n",
    "zikoku = 0\n",
    "result = 'No'\n",
    "\n",
    "for i in range(M):\n",
    "    A, B = map(int, input().split())\n",
    "    zan =  zan - (A - zikoku)\n",
    "    \n",
    "    if zan <= 0:\n",
    "        result = 'No'\n",
    "        break\n",
    "    else:\n",
    "        zan = min(zan+B-A, N)\n",
    "        zikoku = B\n",
    "\n",
    "\n",
    "if zan-(T-zikoku) > 0:\n",
    "    result = 'Yes'\n",
    "    \n",
    "print(result)"
   ]
  },
  {
   "cell_type": "code",
   "execution_count": 31,
   "metadata": {},
   "outputs": [
    {
     "data": {
      "text/plain": [
       "False"
      ]
     },
     "execution_count": 31,
     "metadata": {},
     "output_type": "execute_result"
    }
   ],
   "source": [
    "zan-(T-zikoku) >0"
   ]
  },
  {
   "cell_type": "code",
   "execution_count": null,
   "metadata": {},
   "outputs": [],
   "source": [
    "1 - (13-11)"
   ]
  }
 ],
 "metadata": {
  "kernelspec": {
   "display_name": "Python 3",
   "language": "python",
   "name": "python3"
  },
  "language_info": {
   "codemirror_mode": {
    "name": "ipython",
    "version": 3
   },
   "file_extension": ".py",
   "mimetype": "text/x-python",
   "name": "python",
   "nbconvert_exporter": "python",
   "pygments_lexer": "ipython3",
   "version": "3.7.5"
  }
 },
 "nbformat": 4,
 "nbformat_minor": 4
}
