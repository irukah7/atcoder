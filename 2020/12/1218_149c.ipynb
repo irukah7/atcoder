{
 "cells": [
  {
   "cell_type": "code",
   "execution_count": 13,
   "metadata": {},
   "outputs": [
    {
     "name": "stdin",
     "output_type": "stream",
     "text": [
      " 99992\n"
     ]
    },
    {
     "name": "stdout",
     "output_type": "stream",
     "text": [
      "100003\n"
     ]
    }
   ],
   "source": [
    "X = int(input())\n",
    "\n",
    "\n",
    "while True:\n",
    "    flg = True\n",
    "    for i in range(2, int(X**0.5) + 1):\n",
    "        if X % i == 0:\n",
    "            flg = False\n",
    "            break\n",
    "        \n",
    "    if flg:\n",
    "        break\n",
    "    X += 1\n",
    "        \n",
    "print(X)"
   ]
  },
  {
   "cell_type": "code",
   "execution_count": null,
   "metadata": {},
   "outputs": [],
   "source": []
  }
 ],
 "metadata": {
  "kernelspec": {
   "display_name": "Python 3",
   "language": "python",
   "name": "python3"
  },
  "language_info": {
   "codemirror_mode": {
    "name": "ipython",
    "version": 3
   },
   "file_extension": ".py",
   "mimetype": "text/x-python",
   "name": "python",
   "nbconvert_exporter": "python",
   "pygments_lexer": "ipython3",
   "version": "3.7.5"
  }
 },
 "nbformat": 4,
 "nbformat_minor": 4
}
