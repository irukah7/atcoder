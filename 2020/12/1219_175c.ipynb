{
 "cells": [
  {
   "cell_type": "code",
   "execution_count": 2,
   "metadata": {},
   "outputs": [
    {
     "name": "stdin",
     "output_type": "stream",
     "text": [
      " 1 1 1\n"
     ]
    },
    {
     "name": "stdout",
     "output_type": "stream",
     "text": [
      "0\n"
     ]
    }
   ],
   "source": [
    "# TLE\n",
    "\n",
    "import numpy as np\n",
    "\n",
    "X, K, D = map(int, input().split())\n",
    "\n",
    "\n",
    "for _ in range(K):\n",
    "        \n",
    "    l = [abs(X), abs(X+D), abs(X-D)]\n",
    "    min_idx = np.argmin(l)\n",
    "    \n",
    "    X = l[min_idx]\n",
    "    \n",
    "    if min_idx==0:\n",
    "        break\n",
    "    \n",
    "print(X)"
   ]
  },
  {
   "cell_type": "code",
   "execution_count": 8,
   "metadata": {},
   "outputs": [
    {
     "name": "stdin",
     "output_type": "stream",
     "text": [
      " 100 100 20\n"
     ]
    },
    {
     "name": "stdout",
     "output_type": "stream",
     "text": [
      "20\n"
     ]
    }
   ],
   "source": [
    "X, K, D = map(int, input().split())\n",
    "\n",
    "X = abs(X)\n",
    "# 0の方向へ向かえばいいがxがマイナスの値にならないように動ける最小回数はx//d\n",
    "cnt = X//D\n",
    "\n",
    "if cnt >= K:\n",
    "    ans = X - (K*D)\n",
    "else:\n",
    "    # 動ける回数が余って、かつ余りが偶数なら同じ位置に戻るように動き続ければいい。\n",
    "    if (K - cnt) % 2 == 0:\n",
    "        ans = X - (cnt*D)\n",
    "    # 動ける回数が余って、かつ余りが奇数なら+dより-dへ進む\n",
    "    # a = abs(x - (count*d))とすると |a - d| ≦ |a + d| だから\n",
    "    else:\n",
    "        ans = X - (cnt+1) * D\n",
    "print(abs(ans))\n"
   ]
  },
  {
   "cell_type": "code",
   "execution_count": null,
   "metadata": {},
   "outputs": [],
   "source": []
  }
 ],
 "metadata": {
  "kernelspec": {
   "display_name": "Python 3",
   "language": "python",
   "name": "python3"
  },
  "language_info": {
   "codemirror_mode": {
    "name": "ipython",
    "version": 3
   },
   "file_extension": ".py",
   "mimetype": "text/x-python",
   "name": "python",
   "nbconvert_exporter": "python",
   "pygments_lexer": "ipython3",
   "version": "3.7.5"
  }
 },
 "nbformat": 4,
 "nbformat_minor": 4
}
