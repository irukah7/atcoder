{
 "cells": [
  {
   "cell_type": "code",
   "execution_count": 74,
   "metadata": {},
   "outputs": [
    {
     "name": "stdin",
     "output_type": "stream",
     "text": [
      " 5 5\n",
      " 1 AC\n",
      " 2 WA\n",
      " 2 AC\n",
      " 2 WA\n",
      " 3 AC\n"
     ]
    },
    {
     "name": "stdout",
     "output_type": "stream",
     "text": [
      "3 1\n"
     ]
    }
   ],
   "source": [
    "# TLE\n",
    "N, M = map(int, input().split())\n",
    "\n",
    "A = {}\n",
    "ac, wa = 0,0\n",
    "\n",
    "for i in range(M):\n",
    "    p, S = input().split()\n",
    "\n",
    "    if p not in A.keys():\n",
    "        A[p] = []\n",
    "        A[p].append(S)\n",
    "    else:\n",
    "        if 'AC' not in A[p]:\n",
    "            A[p].append(S)\n",
    "        \n",
    "for key, val in A.items():\n",
    "    ac += val.count('AC')\n",
    "    wa += val.count('WA')\n",
    "print(ac, wa)"
   ]
  },
  {
   "cell_type": "code",
   "execution_count": 81,
   "metadata": {},
   "outputs": [
    {
     "name": "stdin",
     "output_type": "stream",
     "text": [
      " 100000 3\n",
      " 7777 AC\n",
      " 7777 AC\n",
      " 7777 AC\n"
     ]
    },
    {
     "name": "stdout",
     "output_type": "stream",
     "text": [
      "0 1\n"
     ]
    }
   ],
   "source": [
    "N, M = map(int, input().split())\n",
    "AC = [0]*N\n",
    "WA = [0]*N\n",
    "for _ in range(M):\n",
    "    p, s = input().split()\n",
    "    p = int(p) - 1\n",
    "    if s == \"AC\":\n",
    "        AC[p] = 1\n",
    "    else:\n",
    "        if AC[p] == 0:\n",
    "            WA[p] += 1\n",
    "for n in range(N):\n",
    "    if WA[n] > 0 and AC[n] == 0:\n",
    "        WA[n] = 0\n",
    "print(sum(AC), sum(WA))"
   ]
  },
  {
   "cell_type": "code",
   "execution_count": 68,
   "metadata": {},
   "outputs": [
    {
     "data": {
      "text/plain": [
       "{'1': ['WA', 'AC'], '2': ['WA', 'AC']}"
      ]
     },
     "execution_count": 68,
     "metadata": {},
     "output_type": "execute_result"
    }
   ],
   "source": [
    "A"
   ]
  },
  {
   "cell_type": "code",
   "execution_count": 76,
   "metadata": {},
   "outputs": [
    {
     "data": {
      "text/plain": [
       "[0, 0, 0, 0]"
      ]
     },
     "execution_count": 76,
     "metadata": {},
     "output_type": "execute_result"
    }
   ],
   "source": [
    "mo = [0]*4\n",
    "mo"
   ]
  },
  {
   "cell_type": "code",
   "execution_count": null,
   "metadata": {},
   "outputs": [],
   "source": [
    "2 5\n",
    "1 WA\n",
    "1 AC\n",
    "2 WA\n",
    "2 AC\n",
    "2 WA"
   ]
  }
 ],
 "metadata": {
  "kernelspec": {
   "display_name": "Python 3",
   "language": "python",
   "name": "python3"
  },
  "language_info": {
   "codemirror_mode": {
    "name": "ipython",
    "version": 3
   },
   "file_extension": ".py",
   "mimetype": "text/x-python",
   "name": "python",
   "nbconvert_exporter": "python",
   "pygments_lexer": "ipython3",
   "version": "3.7.5"
  }
 },
 "nbformat": 4,
 "nbformat_minor": 4
}
