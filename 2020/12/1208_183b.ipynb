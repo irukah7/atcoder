{
 "cells": [
  {
   "cell_type": "code",
   "execution_count": 12,
   "metadata": {},
   "outputs": [
    {
     "name": "stdin",
     "output_type": "stream",
     "text": [
      " 1 1 7 2\n"
     ]
    },
    {
     "name": "stdout",
     "output_type": "stream",
     "text": [
      "3.0\n"
     ]
    }
   ],
   "source": [
    "# 点(Sx, Sy), (Gx, Gy)の入力\n",
    "Sx, Sy, Gx, Gy = list(map(int, input().split()))\n",
    "\n",
    "# 2点を通る直線の公式 y-Sy = ((Gy- Sy) / (Gx - Sx))(x-Sx)\n",
    "# 求めたい点はy座標が0の時のxなので\n",
    "\n",
    "# 反射前のy座標を反転させる\n",
    "Sy = -Sy\n",
    "\n",
    "# 公式を当てはめる\n",
    "# -Sy / (Gy- Sy) = (x-Sx)\n",
    "x = ((-Sy / (Gy- Sy)) * (Gx - Sx)) + Sx\n",
    "\n",
    "print(x)"
   ]
  },
  {
   "cell_type": "code",
   "execution_count": null,
   "metadata": {},
   "outputs": [],
   "source": []
  }
 ],
 "metadata": {
  "kernelspec": {
   "display_name": "Python 3",
   "language": "python",
   "name": "python3"
  },
  "language_info": {
   "codemirror_mode": {
    "name": "ipython",
    "version": 3
   },
   "file_extension": ".py",
   "mimetype": "text/x-python",
   "name": "python",
   "nbconvert_exporter": "python",
   "pygments_lexer": "ipython3",
   "version": "3.7.5"
  }
 },
 "nbformat": 4,
 "nbformat_minor": 4
}
