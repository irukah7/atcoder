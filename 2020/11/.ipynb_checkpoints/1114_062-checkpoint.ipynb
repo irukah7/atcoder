{
 "cells": [
  {
   "cell_type": "code",
   "execution_count": 19,
   "metadata": {},
   "outputs": [
    {
     "name": "stdin",
     "output_type": "stream",
     "text": [
      " 2 3\n",
      " abc\n",
      " arc\n"
     ]
    }
   ],
   "source": [
    "# 入力縦H, 横W\n",
    "H, W = map(int, input().split())\n",
    "\n",
    "# 取得した行の外枠に#を付ける = 行数の上下2行に#なので行数＋2\n",
    "# 取得した列の外枠に#を付ける = 列数の左右2列に#なので列数＋2\n",
    "\n",
    "li = []\n",
    "li += ['#' for x in range(H+2)]\n",
    "for i in range(H):\n",
    "    li += '#' + input() + '#'\n",
    "    li += '\\n'\n",
    "li += ['#' for x in range(H+2)]"
   ]
  },
  {
   "cell_type": "code",
   "execution_count": 20,
   "metadata": {},
   "outputs": [
    {
     "name": "stdout",
     "output_type": "stream",
     "text": [
      "####\n",
      "#abc#\n",
      "####\n",
      "#arc#\n",
      "\n"
     ]
    }
   ],
   "source": [
    "print(''.join(li))"
   ]
  },
  {
   "cell_type": "code",
   "execution_count": 14,
   "metadata": {},
   "outputs": [
    {
     "data": {
      "text/plain": [
       "['#', 'a', 'b', 'c', '#', '\\n', '#', 'a', 'r', 'c', '#', '\\n']"
      ]
     },
     "execution_count": 14,
     "metadata": {},
     "output_type": "execute_result"
    }
   ],
   "source": [
    "li"
   ]
  },
  {
   "cell_type": "code",
   "execution_count": null,
   "metadata": {},
   "outputs": [],
   "source": []
  }
 ],
 "metadata": {
  "kernelspec": {
   "display_name": "Python 3",
   "language": "python",
   "name": "python3"
  },
  "language_info": {
   "codemirror_mode": {
    "name": "ipython",
    "version": 3
   },
   "file_extension": ".py",
   "mimetype": "text/x-python",
   "name": "python",
   "nbconvert_exporter": "python",
   "pygments_lexer": "ipython3",
   "version": "3.7.5"
  }
 },
 "nbformat": 4,
 "nbformat_minor": 4
}
