{
 "cells": [
  {
   "cell_type": "code",
   "execution_count": 58,
   "metadata": {},
   "outputs": [
    {
     "name": "stdin",
     "output_type": "stream",
     "text": [
      " 2\n",
      " 1\n",
      " 2\n"
     ]
    },
    {
     "name": "stdout",
     "output_type": "stream",
     "text": [
      "-1\n"
     ]
    }
   ],
   "source": [
    "N = int(input())\n",
    "A = [int(input()) for i in range(N)]\n",
    "\n",
    "count = 0\n",
    "x = 1\n",
    "for i in range(len(A)):\n",
    "    if A[x-1] == 2:\n",
    "        count += 1\n",
    "        break\n",
    "    elif A[x-1] == A[A[x-1]-1]:\n",
    "        count = -1\n",
    "        break\n",
    "    else:\n",
    "        x = A[x-1]\n",
    "        count += 1\n",
    "print(count)"
   ]
  },
  {
   "cell_type": "code",
   "execution_count": 8,
   "metadata": {},
   "outputs": [
    {
     "name": "stdin",
     "output_type": "stream",
     "text": [
      " 4\n",
      " 3\n",
      " 1\n",
      " 4\n",
      " 2\n"
     ]
    },
    {
     "name": "stdout",
     "output_type": "stream",
     "text": [
      "3\n",
      "-1\n"
     ]
    }
   ],
   "source": [
    "import sys\n",
    "\n",
    "N = int(input())\n",
    "A = [int(input()) for i in range(N)]\n",
    "\n",
    "i = 0\n",
    "\n",
    "for cnt in range(1, N+1):\n",
    "    if A[i] == 2:\n",
    "        print(cnt)\n",
    "        break\n",
    "    i = A[i] -1\n",
    "\n",
    "    \n",
    "print('-1')"
   ]
  },
  {
   "cell_type": "code",
   "execution_count": 8,
   "metadata": {},
   "outputs": [
    {
     "name": "stdin",
     "output_type": "stream",
     "text": [
      " 4\n",
      " 3\n",
      " 2\n",
      " 4\n",
      " 1\n"
     ]
    },
    {
     "name": "stdout",
     "output_type": "stream",
     "text": [
      "-1\n"
     ]
    }
   ],
   "source": [
    "N = int(input())\n",
    "A = [int(input()) for i in range(N)]\n",
    "\n",
    "i = 0\n",
    "cnt = 0\n",
    "while True:\n",
    "    cnt += 1\n",
    "    if cnt > N:\n",
    "        print('-1')\n",
    "        break\n",
    "    if A[i] == 2:\n",
    "        print(cnt)\n",
    "        break\n",
    "    i = A[i] -1\n",
    "    \n",
    "# print('-1')"
   ]
  },
  {
   "cell_type": "code",
   "execution_count": null,
   "metadata": {},
   "outputs": [],
   "source": []
  }
 ],
 "metadata": {
  "kernelspec": {
   "display_name": "Python 3",
   "language": "python",
   "name": "python3"
  },
  "language_info": {
   "codemirror_mode": {
    "name": "ipython",
    "version": 3
   },
   "file_extension": ".py",
   "mimetype": "text/x-python",
   "name": "python",
   "nbconvert_exporter": "python",
   "pygments_lexer": "ipython3",
   "version": "3.7.5"
  }
 },
 "nbformat": 4,
 "nbformat_minor": 4
}
