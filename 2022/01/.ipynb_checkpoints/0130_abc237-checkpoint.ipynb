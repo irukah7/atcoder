{
 "cells": [
  {
   "cell_type": "code",
   "execution_count": 3,
   "metadata": {},
   "outputs": [
    {
     "name": "stdin",
     "output_type": "stream",
     "text": [
      " 483597848400000\n"
     ]
    },
    {
     "name": "stdout",
     "output_type": "stream",
     "text": [
      "No\n"
     ]
    }
   ],
   "source": [
    "N = int(input())\n",
    "a = -2**31\n",
    "b = 2**31 \n",
    "\n",
    "print('Yes' if a <= N and N < b else 'No')"
   ]
  },
  {
   "cell_type": "code",
   "execution_count": 43,
   "metadata": {},
   "outputs": [
    {
     "name": "stdin",
     "output_type": "stream",
     "text": [
      " 4 3\n",
      " 1 2 3\n",
      " 4 5 6\n",
      " 7 8 9\n",
      " 10 11 12\n"
     ]
    },
    {
     "name": "stdout",
     "output_type": "stream",
     "text": [
      "1 4 7 10\n",
      "2 5 8 11\n",
      "3 6 9 12\n"
     ]
    }
   ],
   "source": [
    "import numpy as np\n",
    "H, W = map(int, input().split())\n",
    "A = np.array([list(map(int, input().split())) for _ in range(H)])\n",
    "B = A.T\n",
    "for b in B:\n",
    "    print(*b)"
   ]
  },
  {
   "cell_type": "code",
   "execution_count": 185,
   "metadata": {},
   "outputs": [
    {
     "name": "stdin",
     "output_type": "stream",
     "text": [
      " aaaoooaa\n"
     ]
    },
    {
     "name": "stdout",
     "output_type": "stream",
     "text": [
      "No\n"
     ]
    }
   ],
   "source": [
    "S = input()\n",
    "N = len(S)\n",
    "reverse_S = ''.join(list(reversed(S)))\n",
    "\n",
    "kaibun = True\n",
    "if S == reverse_S:\n",
    "    print('Yes')\n",
    "else:\n",
    "    if S[-1] == 'a':\n",
    "        count_head_a = 0\n",
    "        count_tail_a = 0\n",
    "        # 先頭と末尾のaの個数を取り除く\n",
    "        h = 0\n",
    "        r = N-1\n",
    "        while S[h]=='a':\n",
    "            count_head_a += 1\n",
    "            h += 1\n",
    "        while S[r]=='a':\n",
    "            count_tail_a += 1\n",
    "            r -= 1\n",
    "        if count_head_a>count_tail_a:\n",
    "            print('No')\n",
    "        else:\n",
    "            tmpS = S[count_head_a:N-count_tail_a]\n",
    "            N = len(tmpS)\n",
    "            for i in range(N//2):\n",
    "                if tmpS[i] != tmpS[N-1-i]:\n",
    "                    kaibun = False\n",
    "                    print('No')\n",
    "                    break\n",
    "            if kaibun:\n",
    "                print('Yes')\n",
    "    else:\n",
    "        print('No')"
   ]
  },
  {
   "cell_type": "code",
   "execution_count": 191,
   "metadata": {},
   "outputs": [
    {
     "name": "stdout",
     "output_type": "stream",
     "text": [
      "1 2 3 4 5 6 7 8 9 0\n"
     ]
    }
   ],
   "source": [
    "N = int(input())\n",
    "S = input()\n",
    "A = [0]\n",
    "for i in range(N):\n",
    "    if S[i]=='L':\n",
    "        A.insert(A.index(i), i+1)\n",
    "    if S[i]=='R':\n",
    "        A.insert(A.index(i)+1, i+1)\n",
    "print(*A)"
   ]
  },
  {
   "cell_type": "code",
   "execution_count": 193,
   "metadata": {},
   "outputs": [],
   "source": [
    "A[1:1] = [99, 99]"
   ]
  },
  {
   "cell_type": "code",
   "execution_count": 195,
   "metadata": {},
   "outputs": [],
   "source": [
    "A[1:2] = [98,98]"
   ]
  },
  {
   "cell_type": "code",
   "execution_count": 199,
   "metadata": {},
   "outputs": [],
   "source": [
    "A[0:-1] = [111]"
   ]
  },
  {
   "cell_type": "code",
   "execution_count": 200,
   "metadata": {},
   "outputs": [
    {
     "data": {
      "text/plain": [
       "[111, 0]"
      ]
     },
     "execution_count": 200,
     "metadata": {},
     "output_type": "execute_result"
    }
   ],
   "source": [
    "A"
   ]
  },
  {
   "cell_type": "code",
   "execution_count": null,
   "metadata": {},
   "outputs": [],
   "source": []
  }
 ],
 "metadata": {
  "kernelspec": {
   "display_name": "Python 3",
   "language": "python",
   "name": "python3"
  },
  "language_info": {
   "codemirror_mode": {
    "name": "ipython",
    "version": 3
   },
   "file_extension": ".py",
   "mimetype": "text/x-python",
   "name": "python",
   "nbconvert_exporter": "python",
   "pygments_lexer": "ipython3",
   "version": "3.7.6"
  }
 },
 "nbformat": 4,
 "nbformat_minor": 4
}
