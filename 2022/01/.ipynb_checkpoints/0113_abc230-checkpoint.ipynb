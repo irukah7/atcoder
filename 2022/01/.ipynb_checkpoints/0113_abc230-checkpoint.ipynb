{
 "cells": [
  {
   "cell_type": "code",
   "execution_count": 10,
   "metadata": {},
   "outputs": [
    {
     "name": "stdin",
     "output_type": "stream",
     "text": [
      " 1\n"
     ]
    },
    {
     "name": "stdout",
     "output_type": "stream",
     "text": [
      "AGC001\n"
     ]
    }
   ],
   "source": [
    "N = int(input())\n",
    "N = N+1 if N>=42 else N\n",
    "\n",
    "if len(str(N))==1:\n",
    "    print('AGC00{}'.format(N))\n",
    "\n",
    "if len(str(N))==2:\n",
    "    print('AGC0{}'.format(N))"
   ]
  },
  {
   "cell_type": "code",
   "execution_count": 18,
   "metadata": {},
   "outputs": [
    {
     "name": "stdin",
     "output_type": "stream",
     "text": [
      " ox\n"
     ]
    },
    {
     "name": "stdout",
     "output_type": "stream",
     "text": [
      "Yes\n"
     ]
    }
   ],
   "source": [
    "T = 'oxx'*100000\n",
    "S = input()\n",
    "\n",
    "print('Yes' if S in T else 'No')"
   ]
  },
  {
   "cell_type": "code",
   "execution_count": 92,
   "metadata": {},
   "outputs": [
    {
     "name": "stdout",
     "output_type": "stream",
     "text": [
      "...........#.............\n",
      ".........#...............\n",
      ".................#.......\n",
      ".............#...........\n",
      ".......................#.\n"
     ]
    }
   ],
   "source": [
    "# N,A,B = map(int, input().split())\n",
    "# P,Q,R,S = map(int, input().split())\n",
    "N,A,B = 5,3,2\n",
    "P,Q,R,S = 1,5,1,5\n",
    "\n",
    "masu = [['.' * N] for _ in range(N)]\n",
    "# 座標を格納する\n",
    "K = []\n",
    "k1 = []\n",
    "for i in range(max(1-A, 1-B), min(N-A, N-B)+1):\n",
    "    k1.append(i)\n",
    "k2 = []\n",
    "for i in range(max(1-A, B-N), min(N-A, B-1)+1):\n",
    "    k2.append(i)\n",
    "    \n",
    "for a, b in zip(k1, k2):\n",
    "    K.append([A+a, B+a])\n",
    "    K.append([A+b, B-b])\n",
    "    \n",
    "strl = []\n",
    "strname = ''\n",
    "for k in K:\n",
    "    for i in range(N):\n",
    "        for j in range(N):\n",
    "            strname += '#' if k[0]==i and k[1]==j else '.'\n",
    "    strl.append(strname)\n",
    "    strname = ''\n",
    "    \n",
    "for i in range(Q-P+1):\n",
    "    print(strl[i])"
   ]
  },
  {
   "cell_type": "code",
   "execution_count": 46,
   "metadata": {},
   "outputs": [
    {
     "data": {
      "text/plain": [
       "'#'"
      ]
     },
     "execution_count": 46,
     "metadata": {},
     "output_type": "execute_result"
    }
   ],
   "source": [
    "masu[0][0].replace('.', '#')"
   ]
  },
  {
   "cell_type": "code",
   "execution_count": 78,
   "metadata": {},
   "outputs": [
    {
     "data": {
      "text/plain": [
       "[['.....'], ['.....'], ['.....'], ['.....'], ['.....']]"
      ]
     },
     "execution_count": 78,
     "metadata": {},
     "output_type": "execute_result"
    }
   ],
   "source": [
    "masu"
   ]
  },
  {
   "cell_type": "code",
   "execution_count": 75,
   "metadata": {},
   "outputs": [
    {
     "data": {
      "text/plain": [
       "'#'"
      ]
     },
     "execution_count": 75,
     "metadata": {},
     "output_type": "execute_result"
    }
   ],
   "source": [
    "masu[1][0][1].replace('.', '#')"
   ]
  },
  {
   "cell_type": "code",
   "execution_count": 76,
   "metadata": {},
   "outputs": [
    {
     "data": {
      "text/plain": [
       "[['.....'], ['.....'], ['.....'], ['.....'], ['.....']]"
      ]
     },
     "execution_count": 76,
     "metadata": {},
     "output_type": "execute_result"
    }
   ],
   "source": [
    "masu"
   ]
  },
  {
   "cell_type": "code",
   "execution_count": null,
   "metadata": {},
   "outputs": [],
   "source": []
  }
 ],
 "metadata": {
  "kernelspec": {
   "display_name": "Python 3",
   "language": "python",
   "name": "python3"
  },
  "language_info": {
   "codemirror_mode": {
    "name": "ipython",
    "version": 3
   },
   "file_extension": ".py",
   "mimetype": "text/x-python",
   "name": "python",
   "nbconvert_exporter": "python",
   "pygments_lexer": "ipython3",
   "version": "3.7.6"
  }
 },
 "nbformat": 4,
 "nbformat_minor": 4
}
