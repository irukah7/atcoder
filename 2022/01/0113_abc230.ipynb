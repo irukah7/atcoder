{
 "cells": [
  {
   "cell_type": "code",
   "execution_count": 10,
   "metadata": {},
   "outputs": [
    {
     "name": "stdin",
     "output_type": "stream",
     "text": [
      " 1\n"
     ]
    },
    {
     "name": "stdout",
     "output_type": "stream",
     "text": [
      "AGC001\n"
     ]
    }
   ],
   "source": [
    "N = int(input())\n",
    "N = N+1 if N>=42 else N\n",
    "\n",
    "if len(str(N))==1:\n",
    "    print('AGC00{}'.format(N))\n",
    "\n",
    "if len(str(N))==2:\n",
    "    print('AGC0{}'.format(N))"
   ]
  },
  {
   "cell_type": "code",
   "execution_count": 18,
   "metadata": {},
   "outputs": [
    {
     "name": "stdin",
     "output_type": "stream",
     "text": [
      " ox\n"
     ]
    },
    {
     "name": "stdout",
     "output_type": "stream",
     "text": [
      "Yes\n"
     ]
    }
   ],
   "source": [
    "T = 'oxx'*100000\n",
    "S = input()\n",
    "\n",
    "print('Yes' if S in T else 'No')"
   ]
  },
  {
   "cell_type": "code",
   "execution_count": 116,
   "metadata": {},
   "outputs": [
    {
     "name": "stdin",
     "output_type": "stream",
     "text": [
      " 1000000000000000000 999999999999999999 999999999999999999\n",
      " 999999999999999998 1000000000000000000 999999999999999998 1000000000000000000\n"
     ]
    },
    {
     "name": "stdout",
     "output_type": "stream",
     "text": [
      "#.#\n",
      ".#.\n",
      "#.#\n"
     ]
    }
   ],
   "source": [
    "N,A,B = map(int, input().split())\n",
    "P,Q,R,S = map(int, input().split())\n",
    "\n",
    "F = [['.'] * (S-R+1) for _ in range(Q-P+2)]\n",
    "    \n",
    "for i in range(Q-P+1):\n",
    "    for j in range(S-R+1):\n",
    "        if ((i+P)-(j+R) == A-B) or ((i+P)+(j+R) == A+B):\n",
    "            F[i][j] = '#'\n",
    "        else:\n",
    "            F[i][j] = '.'\n",
    "    \n",
    "for i in range(Q-P+1):\n",
    "    print(''.join(F[i]))"
   ]
  },
  {
   "cell_type": "code",
   "execution_count": 46,
   "metadata": {},
   "outputs": [
    {
     "data": {
      "text/plain": [
       "'#'"
      ]
     },
     "execution_count": 46,
     "metadata": {},
     "output_type": "execute_result"
    }
   ],
   "source": [
    "1000000000000000000 999999999999999999 999999999999999999\n",
    "999999999999999998 1000000000000000000 999999999999999998 1000000000000000000"
   ]
  },
  {
   "cell_type": "code",
   "execution_count": 97,
   "metadata": {},
   "outputs": [
    {
     "data": {
      "text/plain": [
       "['.....',\n",
       " '#....',\n",
       " '.....',\n",
       " '.....',\n",
       " '.....',\n",
       " '...#.',\n",
       " '.....',\n",
       " '.....',\n",
       " '.....',\n",
       " '.....',\n",
       " '.....',\n",
       " '.....',\n",
       " '.#...',\n",
       " '.....',\n",
       " '.....',\n",
       " '.....',\n",
       " '..#..',\n",
       " '.....',\n",
       " '.....',\n",
       " '.....',\n",
       " '.....',\n",
       " '.....',\n",
       " '.....',\n",
       " '..#..',\n",
       " '.....',\n",
       " '.....',\n",
       " '.....',\n",
       " '.#...',\n",
       " '.....',\n",
       " '.....',\n",
       " '.....',\n",
       " '.....',\n",
       " '.....',\n",
       " '.....',\n",
       " '...#.',\n",
       " '.....',\n",
       " '.....',\n",
       " '.....',\n",
       " '#....',\n",
       " '.....']"
      ]
     },
     "execution_count": 97,
     "metadata": {},
     "output_type": "execute_result"
    }
   ],
   "source": [
    "strl"
   ]
  },
  {
   "cell_type": "code",
   "execution_count": null,
   "metadata": {},
   "outputs": [],
   "source": []
  }
 ],
 "metadata": {
  "kernelspec": {
   "display_name": "Python 3",
   "language": "python",
   "name": "python3"
  },
  "language_info": {
   "codemirror_mode": {
    "name": "ipython",
    "version": 3
   },
   "file_extension": ".py",
   "mimetype": "text/x-python",
   "name": "python",
   "nbconvert_exporter": "python",
   "pygments_lexer": "ipython3",
   "version": "3.7.6"
  }
 },
 "nbformat": 4,
 "nbformat_minor": 4
}
