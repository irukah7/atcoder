{
 "cells": [
  {
   "cell_type": "code",
   "execution_count": 25,
   "metadata": {},
   "outputs": [
    {
     "name": "stdin",
     "output_type": "stream",
     "text": [
      " 1 3\n"
     ]
    },
    {
     "name": "stdout",
     "output_type": "stream",
     "text": [
      "C\n"
     ]
    }
   ],
   "source": [
    "N,X = map(int, input().split())\n",
    "l = []\n",
    "\n",
    "for i in range(65, 91):\n",
    "    l.append(chr(i)*N)\n",
    "l = ''.join(l)\n",
    "\n",
    "print(l[X-1])"
   ]
  },
  {
   "cell_type": "code",
   "execution_count": 89,
   "metadata": {},
   "outputs": [
    {
     "name": "stdin",
     "output_type": "stream",
     "text": [
      " 10 6 9\n",
      " 1 3 5 7 8 9\n",
      " 1 2 3 4 5 6 5 6 2\n"
     ]
    },
    {
     "name": "stdout",
     "output_type": "stream",
     "text": [
      "2 5 6 7 9 10 "
     ]
    }
   ],
   "source": [
    "N, K, Q = map(int, input().split())\n",
    "A = list(map(int, input().split()))\n",
    "L = list(map(int, input().split()))\n",
    "\n",
    "li = [0]*N\n",
    "for i in range(len(A)):\n",
    "    li[A[i]-1] = i+1\n",
    "\n",
    "for i in range(Q):\n",
    "    if li.index(L[i])+1 == N:\n",
    "        continue\n",
    "    if li[li.index(L[i])+1] == 0:\n",
    "        # 左から Li番目のコマがあるマスの1つ右のマスにコマが無いならば、左からLi番目のコマを1つ右のマスに移動させる\n",
    "        li[li.index(L[i])+1] = L[i]\n",
    "        li[li.index(L[i])] = 0\n",
    "    else:\n",
    "        # 1つ右のマスに駒があるなら何もしない\n",
    "        continue\n",
    "\n",
    "i=1\n",
    "for l in li:\n",
    "    if l!=0:\n",
    "        print(i, end=' ')\n",
    "    i += 1"
   ]
  },
  {
   "cell_type": "code",
   "execution_count": 114,
   "metadata": {},
   "outputs": [
    {
     "name": "stdin",
     "output_type": "stream",
     "text": [
      " 5\n",
      " 10101\n",
      " 60 50 50 50 60\n"
     ]
    },
    {
     "name": "stdout",
     "output_type": "stream",
     "text": [
      "4\n"
     ]
    }
   ],
   "source": [
    "N = int(input())\n",
    "S = str(input())\n",
    "W = list(map(int, input().split()))\n",
    "\n",
    "W_median = sorted(W)[N//2]\n",
    "\n",
    "count1 = 0\n",
    "count2 = 0\n",
    "count3 = 0\n",
    "\n",
    "for i in range(N):\n",
    "    # 最大値で判別する\n",
    "    if W[i] > max(W):\n",
    "        if S[i] == '1':\n",
    "            count1 += 1\n",
    "    else:\n",
    "        if S[i] == '0':\n",
    "            count1 += 1   \n",
    "            \n",
    "    # 中央値で判別する\n",
    "    if W[i] > W_median:\n",
    "        if S[i] == '1':\n",
    "            count2 += 1\n",
    "    else:\n",
    "        if S[i] == '0':\n",
    "            count2 += 1\n",
    "            \n",
    "    # 最小値で判別する\n",
    "    if W[i] > min(W):\n",
    "        if S[i] == '1':\n",
    "            count3 += 1\n",
    "    else:\n",
    "        if S[i] == '0':\n",
    "            count3 += 1   \n",
    "            \n",
    "print(max(count1,count2,count3))"
   ]
  },
  {
   "cell_type": "code",
   "execution_count": 98,
   "metadata": {},
   "outputs": [
    {
     "data": {
      "text/plain": [
       "2"
      ]
     },
     "execution_count": 98,
     "metadata": {},
     "output_type": "execute_result"
    }
   ],
   "source": [
    "W_median"
   ]
  },
  {
   "cell_type": "code",
   "execution_count": 101,
   "metadata": {},
   "outputs": [
    {
     "data": {
      "text/plain": [
       "1"
      ]
     },
     "execution_count": 101,
     "metadata": {},
     "output_type": "execute_result"
    }
   ],
   "source": [
    "len(set(S))"
   ]
  },
  {
   "cell_type": "code",
   "execution_count": 92,
   "metadata": {},
   "outputs": [
    {
     "data": {
      "text/plain": [
       "[30, 40, 45, 60, 80]"
      ]
     },
     "execution_count": 92,
     "metadata": {},
     "output_type": "execute_result"
    }
   ],
   "source": [
    "0 1 0\n",
    "20 10 40"
   ]
  },
  {
   "cell_type": "code",
   "execution_count": null,
   "metadata": {},
   "outputs": [],
   "source": []
  }
 ],
 "metadata": {
  "kernelspec": {
   "display_name": "Python 3",
   "language": "python",
   "name": "python3"
  },
  "language_info": {
   "codemirror_mode": {
    "name": "ipython",
    "version": 3
   },
   "file_extension": ".py",
   "mimetype": "text/x-python",
   "name": "python",
   "nbconvert_exporter": "python",
   "pygments_lexer": "ipython3",
   "version": "3.7.6"
  }
 },
 "nbformat": 4,
 "nbformat_minor": 4
}
