{
 "cells": [
  {
   "cell_type": "code",
   "execution_count": 5,
   "metadata": {},
   "outputs": [
    {
     "name": "stdin",
     "output_type": "stream",
     "text": [
      " 11\n",
      " 3 1 4 1 5 9 2 6 5 3 5\n"
     ]
    },
    {
     "name": "stdout",
     "output_type": "stream",
     "text": [
      "7\n"
     ]
    }
   ],
   "source": [
    "N = int(input())\n",
    "a = list(map(int, input().split()))\n",
    "\n",
    "print(len(set(a)))"
   ]
  },
  {
   "cell_type": "code",
   "execution_count": 15,
   "metadata": {},
   "outputs": [
    {
     "name": "stdin",
     "output_type": "stream",
     "text": [
      " 2 10\n",
      " 10 100\n",
      " 10 100\n"
     ]
    },
    {
     "name": "stdout",
     "output_type": "stream",
     "text": [
      "Yes\n"
     ]
    }
   ],
   "source": [
    "N, X = map(int, input().split())\n",
    "L = [list(map(int, input().split())) for _ in range(N)]\n",
    "\n",
    "dpa = [[0, 0]] * N\n",
    "dpb = [[0, 0]] * N\n",
    "\n",
    "dpa[0][0] = L[0][0]\n",
    "dpa[0][1] = L[0][1]\n",
    "dpb[0][0] = L[0][0]\n",
    "dpb[0][1] = L[0][1]\n",
    "\n",
    "ret = 'No'\n",
    "if dpa[0][0] == X or dpa[0][1] == X:\n",
    "    ret = 'Yes'\n",
    "else:\n",
    "    for i in range(1, N):\n",
    "        dpa[i][0] = dpa[i-1][0] + L[i][0]\n",
    "        dpa[i][1] = dpa[i-1][0] + L[i][1]\n",
    "        dpb[i][0] = dpb[i-1][0] + L[i][0]\n",
    "        dpb[i][1] = dpb[i-1][0] + L[i][1]\n",
    "        if dpa[i][0] == X or dpa[i][1] == X or dpb[i][0] == X or dpb[i][1] == X:\n",
    "            ret = 'Yes'\n",
    "            break\n",
    "print(ret)"
   ]
  },
  {
   "cell_type": "code",
   "execution_count": 16,
   "metadata": {},
   "outputs": [
    {
     "data": {
      "text/plain": [
       "[[10, 100], [10, 100]]"
      ]
     },
     "execution_count": 16,
     "metadata": {},
     "output_type": "execute_result"
    }
   ],
   "source": [
    "dpa"
   ]
  },
  {
   "cell_type": "code",
   "execution_count": 10,
   "metadata": {},
   "outputs": [
    {
     "data": {
      "text/plain": [
       "[[0, 0], [0, 0], [0, 0]]"
      ]
     },
     "execution_count": 10,
     "metadata": {},
     "output_type": "execute_result"
    }
   ],
   "source": [
    "[[0, 0]] * 3"
   ]
  },
  {
   "cell_type": "code",
   "execution_count": null,
   "metadata": {},
   "outputs": [],
   "source": []
  }
 ],
 "metadata": {
  "kernelspec": {
   "display_name": "Python 3",
   "language": "python",
   "name": "python3"
  },
  "language_info": {
   "codemirror_mode": {
    "name": "ipython",
    "version": 3
   },
   "file_extension": ".py",
   "mimetype": "text/x-python",
   "name": "python",
   "nbconvert_exporter": "python",
   "pygments_lexer": "ipython3",
   "version": "3.7.6"
  }
 },
 "nbformat": 4,
 "nbformat_minor": 4
}
