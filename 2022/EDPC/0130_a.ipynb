{
 "cells": [
  {
   "cell_type": "code",
   "execution_count": 17,
   "metadata": {},
   "outputs": [
    {
     "name": "stdin",
     "output_type": "stream",
     "text": [
      " 6\n",
      " 30 10 60 10 60 50\n"
     ]
    }
   ],
   "source": [
    "N = int(input())\n",
    "h = list(map(int, input().split()))\n",
    "\n",
    "dp = [0] * N\n",
    "dp[0] = h[0]\n",
    "\n",
    "for i in range(1, N-1):\n",
    "    if h[i-1]>=h[i] and h[i-1]>=h[i+1]:\n",
    "        dp[i] = min(abs(h[i-1]-h[i]), abs(h[i-1]-h[i+1]))\n",
    "    elif h[i-1]>=h[i] and h[i-1]<h[i+1]:\n",
    "        dp[i] = abs(h[i-1]-h[i+1])\n",
    "    elif h[i-1]<h[i] and h[i-1]>=h[i+1]: \n",
    "        dp[i] = abs(h[i-1]-h[i])"
   ]
  },
  {
   "cell_type": "code",
   "execution_count": 18,
   "metadata": {},
   "outputs": [
    {
     "data": {
      "text/plain": [
       "[30, 30, 50, 0, 0, 0]"
      ]
     },
     "execution_count": 18,
     "metadata": {},
     "output_type": "execute_result"
    }
   ],
   "source": [
    "dp"
   ]
  },
  {
   "cell_type": "code",
   "execution_count": null,
   "metadata": {},
   "outputs": [],
   "source": []
  }
 ],
 "metadata": {
  "kernelspec": {
   "display_name": "Python 3",
   "language": "python",
   "name": "python3"
  },
  "language_info": {
   "codemirror_mode": {
    "name": "ipython",
    "version": 3
   },
   "file_extension": ".py",
   "mimetype": "text/x-python",
   "name": "python",
   "nbconvert_exporter": "python",
   "pygments_lexer": "ipython3",
   "version": "3.7.6"
  }
 },
 "nbformat": 4,
 "nbformat_minor": 4
}
