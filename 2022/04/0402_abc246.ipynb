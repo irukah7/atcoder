{
 "cells": [
  {
   "cell_type": "code",
   "execution_count": 8,
   "metadata": {},
   "outputs": [
    {
     "name": "stdin",
     "output_type": "stream",
     "text": [
      " -60 -40\n",
      " -60 -80\n",
      " -20 -80\n"
     ]
    },
    {
     "name": "stdout",
     "output_type": "stream",
     "text": [
      "-20 -40\n"
     ]
    }
   ],
   "source": [
    "x1, y1 = list(map(int, input().split()))\n",
    "x2, y2 = list(map(int, input().split()))\n",
    "x3, y3 = list(map(int, input().split()))\n",
    "\n",
    "if x1==x2:\n",
    "    x4 = x3\n",
    "if x2==x3:\n",
    "    x4 = x1\n",
    "if x1==x3:\n",
    "    x4 = x2\n",
    "if y1==y3:\n",
    "    y4 = y2\n",
    "if y1==y2:\n",
    "    y4 = y3\n",
    "if y2==y3:\n",
    "    y4 = y1\n",
    "    \n",
    "print(x4, y4)"
   ]
  },
  {
   "cell_type": "code",
   "execution_count": null,
   "metadata": {},
   "outputs": [],
   "source": [
    "A, B = map(int, input().split())\n"
   ]
  },
  {
   "cell_type": "code",
   "execution_count": 31,
   "metadata": {},
   "outputs": [
    {
     "name": "stdin",
     "output_type": "stream",
     "text": [
      " 5 100 7\n",
      " 8 3 10 5 13\n"
     ]
    },
    {
     "data": {
      "text/plain": [
       "0"
      ]
     },
     "execution_count": 31,
     "metadata": {},
     "output_type": "execute_result"
    }
   ],
   "source": [
    "N, K, X = map(int, input().split())\n",
    "A = list(map(int, input().split()))\n",
    "\n",
    "for i in range(K):\n",
    "    n = A.index(max(A))\n",
    "    A[n] -= X\n",
    "    if A[n]<0:\n",
    "        A[n] = 0\n",
    "sum(A)"
   ]
  },
  {
   "cell_type": "code",
   "execution_count": 28,
   "metadata": {},
   "outputs": [
    {
     "data": {
      "text/plain": [
       "[1, 3, 3, 5, 0]"
      ]
     },
     "execution_count": 28,
     "metadata": {},
     "output_type": "execute_result"
    }
   ],
   "source": [
    "A"
   ]
  },
  {
   "cell_type": "code",
   "execution_count": null,
   "metadata": {},
   "outputs": [],
   "source": []
  }
 ],
 "metadata": {
  "kernelspec": {
   "display_name": "Python 3",
   "language": "python",
   "name": "python3"
  },
  "language_info": {
   "codemirror_mode": {
    "name": "ipython",
    "version": 3
   },
   "file_extension": ".py",
   "mimetype": "text/x-python",
   "name": "python",
   "nbconvert_exporter": "python",
   "pygments_lexer": "ipython3",
   "version": "3.7.6"
  }
 },
 "nbformat": 4,
 "nbformat_minor": 4
}
