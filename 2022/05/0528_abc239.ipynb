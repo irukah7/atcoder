{
 "cells": [
  {
   "cell_type": "code",
   "execution_count": 17,
   "metadata": {},
   "outputs": [
    {
     "name": "stdin",
     "output_type": "stream",
     "text": [
      " 0 0 3 3\n"
     ]
    },
    {
     "name": "stdout",
     "output_type": "stream",
     "text": [
      "No\n"
     ]
    }
   ],
   "source": [
    "def judge():\n",
    "    def f(xa, ya, xb, yb):\n",
    "        return (xa-xb)**2 + (ya-yb)**2\n",
    "\n",
    "    x1, y1, x2, y2 = map(int, input().split())\n",
    "\n",
    "    for dx in range(-2, 3):\n",
    "        for dy in range(-2, 3):\n",
    "            xt = x1 + dx\n",
    "            yt = y1 + dy\n",
    "            if f(xt, yt, x1, y1) == 5 and f(xt, yt, x2, y2) == 5:\n",
    "                return True\n",
    "        return False\n",
    "\n",
    "print('Yes' if judge() else 'No')"
   ]
  },
  {
   "cell_type": "markdown",
   "metadata": {},
   "source": [
    "### "
   ]
  }
 ],
 "metadata": {
  "kernelspec": {
   "display_name": "Python 3",
   "language": "python",
   "name": "python3"
  },
  "language_info": {
   "codemirror_mode": {
    "name": "ipython",
    "version": 3
   },
   "file_extension": ".py",
   "mimetype": "text/x-python",
   "name": "python",
   "nbconvert_exporter": "python",
   "pygments_lexer": "ipython3",
   "version": "3.7.6"
  }
 },
 "nbformat": 4,
 "nbformat_minor": 4
}
