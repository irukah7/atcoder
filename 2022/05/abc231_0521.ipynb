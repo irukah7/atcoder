{
 "cells": [
  {
   "cell_type": "code",
   "execution_count": 4,
   "metadata": {},
   "outputs": [
    {
     "name": "stdin",
     "output_type": "stream",
     "text": [
      " 3141\n"
     ]
    },
    {
     "name": "stdout",
     "output_type": "stream",
     "text": [
      "31.41\n"
     ]
    }
   ],
   "source": [
    "# A\n",
    "\n",
    "D = int(input())\n",
    "print(D/100)"
   ]
  },
  {
   "cell_type": "code",
   "execution_count": 43,
   "metadata": {},
   "outputs": [
    {
     "name": "stdin",
     "output_type": "stream",
     "text": [
      " 2\n",
      " q\n",
      " a\n"
     ]
    },
    {
     "name": "stdout",
     "output_type": "stream",
     "text": [
      "a\n"
     ]
    }
   ],
   "source": [
    "# B\n",
    "\n",
    "N = int(input())\n",
    "S = [input() for _ in range(N)]\n",
    "\n",
    "count = {}\n",
    "for s in S:\n",
    "    if s not in count:\n",
    "        count[s] = 1\n",
    "    else:\n",
    "        count[s] += 1\n",
    "\n",
    "maxn = 0\n",
    "strs = ''\n",
    "for item in count.items():\n",
    "#     max(count, key=count.get)でもMAX値取得できる\n",
    "    if item[1]>=maxn:\n",
    "        maxn, strs = item[1], item[0]\n",
    "print(strs)"
   ]
  },
  {
   "cell_type": "code",
   "execution_count": 68,
   "metadata": {},
   "outputs": [
    {
     "name": "stdin",
     "output_type": "stream",
     "text": [
      " 3 2\n",
      " 100 200 300\n",
      " 120\n",
      " 130\n"
     ]
    },
    {
     "name": "stdout",
     "output_type": "stream",
     "text": [
      "2 2\n"
     ]
    }
   ],
   "source": [
    "N, Q = map(int, input().split())\n",
    "A = list(map(int, input().split()))\n",
    "x = [int(input()) for _ in range(Q)]\n",
    "A = sorted(A)\n",
    "\n",
    "# 2分探索\n",
    "cnt = []\n",
    "for i in range(Q):\n",
    "    if x[i]<=A[0]:\n",
    "        cnt.append(N)\n",
    "    elif A[N-1]<x[i]:\n",
    "        cnt.append(0)\n",
    "    else:\n",
    "        left = 0\n",
    "        right = N-1\n",
    "        while 1<right-left:\n",
    "            # 真ん中\n",
    "            center = (right+left)//2\n",
    "            if A[center] < x[i]:\n",
    "                # 左端を真ん中に更新する\n",
    "                left = center\n",
    "            else:\n",
    "                right = center\n",
    "        cnt.append(N-right)\n",
    "print(*cnt)"
   ]
  },
  {
   "cell_type": "code",
   "execution_count": 65,
   "metadata": {},
   "outputs": [
    {
     "data": {
      "text/plain": [
       "1"
      ]
     },
     "execution_count": 65,
     "metadata": {},
     "output_type": "execute_result"
    }
   ],
   "source": [
    " 3 1\n",
    " 100 160 130\n",
    " 120"
   ]
  },
  {
   "cell_type": "code",
   "execution_count": 57,
   "metadata": {},
   "outputs": [
    {
     "data": {
      "text/plain": [
       "[424238336, 719885387, 649760493, 596516650, 189641422]"
      ]
     },
     "execution_count": 57,
     "metadata": {},
     "output_type": "execute_result"
    }
   ],
   "source": [
    "x"
   ]
  },
  {
   "cell_type": "code",
   "execution_count": null,
   "metadata": {},
   "outputs": [],
   "source": []
  }
 ],
 "metadata": {
  "kernelspec": {
   "display_name": "Python 3",
   "language": "python",
   "name": "python3"
  },
  "language_info": {
   "codemirror_mode": {
    "name": "ipython",
    "version": 3
   },
   "file_extension": ".py",
   "mimetype": "text/x-python",
   "name": "python",
   "nbconvert_exporter": "python",
   "pygments_lexer": "ipython3",
   "version": "3.7.6"
  }
 },
 "nbformat": 4,
 "nbformat_minor": 4
}
