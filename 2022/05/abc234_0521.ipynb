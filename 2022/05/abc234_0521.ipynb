{
 "cells": [
  {
   "cell_type": "code",
   "execution_count": 3,
   "metadata": {},
   "outputs": [
    {
     "name": "stdin",
     "output_type": "stream",
     "text": [
      " 5\n",
      " 315 271\n",
      " -2 -621\n",
      " -205 -511\n",
      " -952 482\n",
      " 165 463\n"
     ]
    },
    {
     "name": "stdout",
     "output_type": "stream",
     "text": [
      "1455.7159750445826\n"
     ]
    }
   ],
   "source": [
    "import math\n",
    "N = int(input())\n",
    "L = [list(map(int, input().split())) for _ in range(N)]\n",
    "\n",
    "maxd = 0\n",
    "for i in range(N-1):\n",
    "    for j in range(i, N):\n",
    "        d = math.sqrt(((L[j][0]-L[i][0])**2 + (L[j][1]-L[i][1])**2))\n",
    "        if d >= maxd:\n",
    "            maxd = d\n",
    "print(maxd)"
   ]
  },
  {
   "cell_type": "code",
   "execution_count": null,
   "metadata": {},
   "outputs": [],
   "source": [
    "315 271\n",
    "-2 -621\n",
    "-205 -511\n",
    "-952 482\n",
    "165 463"
   ]
  }
 ],
 "metadata": {
  "kernelspec": {
   "display_name": "Python 3",
   "language": "python",
   "name": "python3"
  },
  "language_info": {
   "codemirror_mode": {
    "name": "ipython",
    "version": 3
   },
   "file_extension": ".py",
   "mimetype": "text/x-python",
   "name": "python",
   "nbconvert_exporter": "python",
   "pygments_lexer": "ipython3",
   "version": "3.7.6"
  }
 },
 "nbformat": 4,
 "nbformat_minor": 4
}
