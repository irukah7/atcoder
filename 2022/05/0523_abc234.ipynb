{
 "cells": [
  {
   "cell_type": "code",
   "execution_count": 1,
   "metadata": {},
   "outputs": [
    {
     "name": "stdin",
     "output_type": "stream",
     "text": [
      " 3\n",
      " 0 0 \n",
      " 0 1\n",
      " 1 1\n"
     ]
    },
    {
     "name": "stdout",
     "output_type": "stream",
     "text": [
      "1.4142135623730951\n"
     ]
    }
   ],
   "source": [
    "# B\n",
    "import math\n",
    "\n",
    "N = int(input())\n",
    "L = [list(map(int, input().split())) for _ in range(N)]\n",
    "\n",
    "maxd = 0\n",
    "for i in range(N-1):\n",
    "    for j in range(i, N):\n",
    "        d = math.sqrt((L[j][0]-L[i][0])**2 + (L[j][1]-L[i][1])**2)\n",
    "        if d >= maxd:\n",
    "            maxd = d\n",
    "print(maxd)"
   ]
  },
  {
   "cell_type": "code",
   "execution_count": 17,
   "metadata": {},
   "outputs": [
    {
     "name": "stdin",
     "output_type": "stream",
     "text": [
      " 923423423420220108\n"
     ]
    },
    {
     "name": "stdout",
     "output_type": "stream",
     "text": [
      "220022020000202020002022022000002020002222002200002022002200\n"
     ]
    }
   ],
   "source": [
    "# C\n",
    "K = int(input())\n",
    "\n",
    "s = str(bin(K)[2:])\n",
    "s = s.replace('1', '2')\n",
    "print(s)"
   ]
  },
  {
   "cell_type": "code",
   "execution_count": null,
   "metadata": {},
   "outputs": [],
   "source": []
  }
 ],
 "metadata": {
  "kernelspec": {
   "display_name": "Python 3",
   "language": "python",
   "name": "python3"
  },
  "language_info": {
   "codemirror_mode": {
    "name": "ipython",
    "version": 3
   },
   "file_extension": ".py",
   "mimetype": "text/x-python",
   "name": "python",
   "nbconvert_exporter": "python",
   "pygments_lexer": "ipython3",
   "version": "3.7.6"
  }
 },
 "nbformat": 4,
 "nbformat_minor": 4
}
