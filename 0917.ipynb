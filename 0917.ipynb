{
 "cells": [
  {
   "cell_type": "code",
   "execution_count": 15,
   "metadata": {},
   "outputs": [
    {
     "name": "stdin",
     "output_type": "stream",
     "text": [
      " 31\n",
      " 4 1 5 9 2 6 5 3 5 8 9 7 9 3 2 3 8 4 6 2 6 4 3 3 8 3 2 7 9 5 0\n"
     ]
    },
    {
     "name": "stdout",
     "output_type": "stream",
     "text": [
      "0\n"
     ]
    }
   ],
   "source": [
    "N = int(input())\n",
    "A = list(map(int,(input().split())))\n",
    "\n",
    "sum=1\n",
    "\n",
    "if 0 in A:\n",
    "    print(0)\n",
    "else:\n",
    "    for i in range(N):\n",
    "        sum *= A[i]  \n",
    "        if sum >= int(1e18):\n",
    "            break\n",
    "    print(sum if sum<= int(1e18) else -1)"
   ]
  },
  {
   "cell_type": "code",
   "execution_count": 7,
   "metadata": {},
   "outputs": [
    {
     "name": "stdin",
     "output_type": "stream",
     "text": [
      " 5 - 7\n"
     ]
    },
    {
     "name": "stdout",
     "output_type": "stream",
     "text": [
      "-2\n"
     ]
    }
   ],
   "source": [
    "A, op, B = list(map(str, input().split()))\n",
    "\n",
    "if op == '+':\n",
    "    print(int(A) + int(B))\n",
    "else:\n",
    "    print(int(A) - int(B))"
   ]
  },
  {
   "cell_type": "code",
   "execution_count": 47,
   "metadata": {},
   "outputs": [
    {
     "name": "stdin",
     "output_type": "stream",
     "text": [
      " abcde,fghihgf,edcba\n"
     ]
    },
    {
     "name": "stdout",
     "output_type": "stream",
     "text": [
      "abcde fghihgf edcba\n"
     ]
    }
   ],
   "source": [
    "s = input().split()\n",
    "s_ = ''.join(s)\n",
    "print(s_.replace(',', ' '))"
   ]
  },
  {
   "cell_type": "code",
   "execution_count": 52,
   "metadata": {},
   "outputs": [
    {
     "name": "stdin",
     "output_type": "stream",
     "text": [
      " 100 600 200 300\n"
     ]
    },
    {
     "name": "stdout",
     "output_type": "stream",
     "text": [
      "60000\n"
     ]
    }
   ],
   "source": [
    "A,B,C,D = map(int,input().split())\n",
    "\n",
    "ab = A * B\n",
    "cd = C * D\n",
    "\n",
    "if ab > cd:\n",
    "    print(ab)\n",
    "elif cd > ab:\n",
    "    print(cd)\n",
    "else:\n",
    "    print(ab)"
   ]
  },
  {
   "cell_type": "code",
   "execution_count": 50,
   "metadata": {},
   "outputs": [
    {
     "data": {
      "text/plain": [
       "1"
      ]
     },
     "execution_count": 50,
     "metadata": {},
     "output_type": "execute_result"
    }
   ],
   "source": [
    "x = int(input())\n",
    "\n",
    "if x < 1200:\n",
    "    print('ABC')\n",
    "else:\n",
    "    print('ARC')"
   ]
  },
  {
   "cell_type": "code",
   "execution_count": 64,
   "metadata": {},
   "outputs": [
    {
     "name": "stdin",
     "output_type": "stream",
     "text": [
      " 1 1\n"
     ]
    },
    {
     "name": "stdout",
     "output_type": "stream",
     "text": [
      "Draw\n"
     ]
    }
   ],
   "source": [
    "A, B = map(int,input().split())\n",
    "\n",
    "if A==1:\n",
    "    A=14\n",
    "if B==1:\n",
    "    B=14\n",
    "\n",
    "if A > B:\n",
    "    print('Alice')\n",
    "elif B > A:\n",
    "    print('Bob')\n",
    "else:\n",
    "    print('Draw')"
   ]
  },
  {
   "cell_type": "code",
   "execution_count": 19,
   "metadata": {},
   "outputs": [
    {
     "name": "stdin",
     "output_type": "stream",
     "text": [
      " 60\n"
     ]
    },
    {
     "name": "stdout",
     "output_type": "stream",
     "text": [
      "47200\n"
     ]
    }
   ],
   "source": [
    "N = int(input())\n",
    "\n",
    "bonus = 0\n",
    "pay = 0\n",
    "\n",
    "for i in range(1,N+1):\n",
    "    if i % 15 == 0:\n",
    "        bonus += 200\n",
    "    \n",
    "    pay += 800\n",
    "    \n",
    "sum = pay - bonus\n",
    "\n",
    "print(sum)"
   ]
  },
  {
   "cell_type": "code",
   "execution_count": null,
   "metadata": {},
   "outputs": [],
   "source": []
  }
 ],
 "metadata": {
  "kernelspec": {
   "display_name": "Python 3",
   "language": "python",
   "name": "python3"
  },
  "language_info": {
   "codemirror_mode": {
    "name": "ipython",
    "version": 3
   },
   "file_extension": ".py",
   "mimetype": "text/x-python",
   "name": "python",
   "nbconvert_exporter": "python",
   "pygments_lexer": "ipython3",
   "version": "3.7.5"
  }
 },
 "nbformat": 4,
 "nbformat_minor": 4
}
